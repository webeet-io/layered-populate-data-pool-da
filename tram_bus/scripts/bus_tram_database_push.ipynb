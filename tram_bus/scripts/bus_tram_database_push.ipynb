{
 "cells": [
  {
   "cell_type": "code",
   "execution_count": null,
   "id": "22563914",
   "metadata": {},
   "outputs": [],
   "source": [
    "# setup\n",
    "\n",
    "import psycopg2\n",
    "import pandas as pd\n",
    "from sqlalchemy import create_engine, text\n",
    "import warnings\n",
    "\n",
    "warnings.filterwarnings(\"ignore\")"
   ]
  },
  {
   "cell_type": "markdown",
   "id": "ab7d972c",
   "metadata": {},
   "source": [
    "Forgot to remove stops outside berlin area (they dont have matching district ids)"
   ]
  },
  {
   "cell_type": "code",
   "execution_count": 34,
   "id": "0fd18828",
   "metadata": {},
   "outputs": [],
   "source": [
    "# import csv\n",
    "\n",
    "bus_tram_stops_test = pd.read_csv('/Users/bastianlenkers/VSCode_Stuff/Repos/layered-populate-data-pool-da/tram_bus_data_modelling/bus_trams/sources/bus_tram_stops.csv')"
   ]
  },
  {
   "cell_type": "code",
   "execution_count": null,
   "id": "fc3f07a9",
   "metadata": {},
   "outputs": [],
   "source": [
    "# drop ambigious index column\n",
    "\n",
    "bus_tram_stops_test.drop('index', axis=1, inplace=True)"
   ]
  },
  {
   "cell_type": "code",
   "execution_count": null,
   "id": "b93928fb",
   "metadata": {},
   "outputs": [],
   "source": [
    "# forgot to filter stations outside berlin area... \n",
    "\n",
    "bus_tram_stops = bus_tram_stops_test[bus_tram_stops['district_id'] != 'unknown']"
   ]
  },
  {
   "cell_type": "markdown",
   "id": "272fc989",
   "metadata": {},
   "source": [
    "Now its business time"
   ]
  },
  {
   "cell_type": "code",
   "execution_count": null,
   "id": "6da1430b",
   "metadata": {},
   "outputs": [],
   "source": [
    "# setup credentials\n",
    "\n",
    "username = 'sebastian_nichtweiss'\n",
    "password = '0hoZh9X7uJxnie'"
   ]
  },
  {
   "cell_type": "code",
   "execution_count": 24,
   "id": "62f7ada2",
   "metadata": {},
   "outputs": [],
   "source": [
    "# Conection\n",
    "host = 'localhost'\n",
    "port = '5433'\n",
    "database = 'layereddb'\n",
    "schema='berlin_source_data'\n",
    "\n",
    "#connection to db\n",
    "engine = create_engine(f'postgresql+psycopg2://{username}:{password}@{host}:{port}/{database}')"
   ]
  },
  {
   "cell_type": "code",
   "execution_count": 28,
   "id": "d0b8c4d1",
   "metadata": {},
   "outputs": [],
   "source": [
    "# create query\n",
    "\n",
    "create_table_query = f\"\"\"\n",
    "CREATE TABLE IF NOT EXISTS {schema}.bus_tram_stops (\n",
    "    stop_id INTEGER PRIMARY KEY,\n",
    "    district_id VARCHAR(100),\n",
    "    name VARCHAR(200),\n",
    "    address VARCHAR(200),\n",
    "    latitude DECIMAL(9,6),\n",
    "    longitude DECIMAL(9,6),\n",
    "    neighborhood VARCHAR(100),\n",
    "    district VARCHAR(100),\n",
    "    CONSTRAINT fk_district_id FOREIGN KEY (district_id)\n",
    "        REFERENCES berlin_source_data.districts(district_id)\n",
    "        ON DELETE RESTRICT\n",
    "        ON UPDATE CASCADE\n",
    ");\n",
    "\"\"\""
   ]
  },
  {
   "cell_type": "code",
   "execution_count": 29,
   "id": "c80723dd",
   "metadata": {},
   "outputs": [],
   "source": [
    "# Execute the query to create empty table\n",
    "with engine.connect() as conn:\n",
    "    conn.execute(text(create_table_query))\n",
    "    conn.commit()  # commit the transaction"
   ]
  },
  {
   "cell_type": "code",
   "execution_count": 38,
   "id": "9ff884fd",
   "metadata": {},
   "outputs": [
    {
     "name": "stdout",
     "output_type": "stream",
     "text": [
      "DataFrame sent to PostgreSQL using .to_sql() with psycopg2!\n"
     ]
    }
   ],
   "source": [
    "#  Send the DataFrame to the database using .to_sql()\n",
    "bus_tram_stops.to_sql(\n",
    "    f'bus_tram_stops',        # table name\n",
    "    engine,\n",
    "    schema=schema,\n",
    "    if_exists='append', # replace table if it exists\n",
    "    index=False\n",
    ")\n",
    "\n",
    "print(\"DataFrame sent to PostgreSQL using .to_sql() with psycopg2!\")"
   ]
  }
 ],
 "metadata": {
  "kernelspec": {
   "display_name": "Python 3",
   "language": "python",
   "name": "python3"
  },
  "language_info": {
   "codemirror_mode": {
    "name": "ipython",
    "version": 3
   },
   "file_extension": ".py",
   "mimetype": "text/x-python",
   "name": "python",
   "nbconvert_exporter": "python",
   "pygments_lexer": "ipython3",
   "version": "3.9.6"
  }
 },
 "nbformat": 4,
 "nbformat_minor": 5
}
