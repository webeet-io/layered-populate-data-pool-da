{
 "cells": [
  {
   "cell_type": "markdown",
   "id": "7adc76c9",
   "metadata": {},
   "source": [
    "# 🚌 Data Retrieval and Modelling for Berlin's Trams and Busses\n",
    "\n",
    "In this notebook, I invite to witness a rather complicated method of gathering data :D\n",
    "There is a public API for public transport in Berlin. It seems impossible however to just query all stops that are part of the underlying dataset. When one queries a specific however, the API returns not one, but hundreds of stops somewhat related to the queried one. Therefore I decided to iterate thru the alphabet and pass each single letter to the API in order to get every stop there is... At the point in time I'm writing this, it looks like this approach worked!"
   ]
  },
  {
   "cell_type": "markdown",
   "id": "c3a95fb6",
   "metadata": {},
   "source": [
    "## 🛠️ Setup"
   ]
  },
  {
   "cell_type": "markdown",
   "id": "f8bf6047",
   "metadata": {},
   "source": [
    "### Basics"
   ]
  },
  {
   "cell_type": "code",
   "execution_count": 9,
   "id": "d3566d75",
   "metadata": {},
   "outputs": [],
   "source": [
    "# import necessary libraries\n",
    "\n",
    "import requests\n",
    "import pandas as pd\n",
    "import string"
   ]
  },
  {
   "cell_type": "code",
   "execution_count": 3,
   "id": "2707fe52",
   "metadata": {},
   "outputs": [],
   "source": [
    "# establish API url's\n",
    "\n",
    "base_url = 'https://v6.bvg.transport.rest'\n",
    "\n",
    "url_filter = '/locations?results=10000&poi=false&address=false&query='"
   ]
  },
  {
   "cell_type": "code",
   "execution_count": 13,
   "id": "97991432",
   "metadata": {},
   "outputs": [],
   "source": [
    "# creating list to use as api query\n",
    "\n",
    "query_list = list(string.ascii_lowercase)"
   ]
  },
  {
   "cell_type": "markdown",
   "id": "13c74d82",
   "metadata": {},
   "source": [
    "### Creating functions"
   ]
  },
  {
   "cell_type": "code",
   "execution_count": 4,
   "id": "5f761bf8",
   "metadata": {},
   "outputs": [],
   "source": [
    "# function to query api\n",
    "\n",
    "def query_api(query_key):\n",
    "    \n",
    "    url = f\"{base_url}{url_filter}{query_key}\" # concat full api url\n",
    "\n",
    "    response = requests.get(url) # connect to api\n",
    "\n",
    "    if response.status_code == 200: # check for valid result\n",
    "        return response.json()\n",
    "\n",
    "    else:\n",
    "        print(f\"Retrieval failed. Status code: {response.status_code}\")"
   ]
  },
  {
   "cell_type": "markdown",
   "id": "599cdb9f",
   "metadata": {},
   "source": [
    "The result is a list with nested dictionaries that are not all stops, but other locations too."
   ]
  },
  {
   "cell_type": "code",
   "execution_count": 6,
   "id": "472012a3",
   "metadata": {},
   "outputs": [],
   "source": [
    "# function to filter for bus and tram stops\n",
    "\n",
    "def filter_for_stops_only(query_result):\n",
    "\n",
    "    list_with_only_bus_tram_stops = [] # initilize empty list\n",
    "\n",
    "    for i in range(len(query_result)): # iterate through list\n",
    "\n",
    "        if query_result[i]['type'] == 'stop':  # filter for type 'stop' only\n",
    "\n",
    "            if (query_result[i]['products']['tram'] == True or query_result[i]['products']['bus'] == True):\n",
    "\n",
    "                stop_dict = query_result[i]\n",
    "\n",
    "                list_with_only_bus_tram_stops.append(stop_dict) # append the dictionary to new list\n",
    "\n",
    "            else:\n",
    "                continue\n",
    "\n",
    "        else: \n",
    "            continue\n",
    "\n",
    "    return list_with_only_bus_tram_stops"
   ]
  },
  {
   "cell_type": "markdown",
   "id": "f23176db",
   "metadata": {},
   "source": [
    "The list now contains only data about tram and bus stops. However, there's still nested dicts with irrelevant data for each stop."
   ]
  },
  {
   "cell_type": "code",
   "execution_count": 20,
   "id": "ecfc503b",
   "metadata": {},
   "outputs": [],
   "source": [
    "# function to extract relevant data and create new list\n",
    "\n",
    "def extract_relevant_stop_data(filter_result):\n",
    "\n",
    "    list_with_extractions = []\n",
    "\n",
    "    for k in range(len(filter_result)):\n",
    "\n",
    "        id = filter_result[k]['id']\n",
    "\n",
    "        name = filter_result[k]['name']\n",
    "\n",
    "        lat = filter_result[k]['location']['latitude']\n",
    "\n",
    "        lon = filter_result[k]['location']['longitude']\n",
    "\n",
    "        tram = filter_result[k]['products']['tram']\n",
    "\n",
    "        bus = filter_result[k]['products']['bus']\n",
    "\n",
    "        extraction = {'id':id, 'name':name, 'lat':lat, 'lon':lon, 'tram':tram, 'bus':bus}\n",
    "\n",
    "        list_with_extractions.append(extraction)\n",
    "\n",
    "    return list_with_extractions        "
   ]
  },
  {
   "cell_type": "markdown",
   "id": "fd987196",
   "metadata": {},
   "source": [
    "The resulting list has one dictionary containing only relevant data for each stop. These dicts can be added to a dataset, each one as an individual row."
   ]
  },
  {
   "cell_type": "code",
   "execution_count": 17,
   "id": "ece5930f",
   "metadata": {},
   "outputs": [],
   "source": [
    "# function to make it a dataframe\n",
    "\n",
    "def append_to_dataset(dataframe, extraction_result):\n",
    "\n",
    "    if type(extraction_result) == list:\n",
    "\n",
    "        for n in range(len(extraction_result)):\n",
    "\n",
    "            dataframe.loc[len(dataframe)] = extraction_result[n]\n",
    "\n",
    "    else: \n",
    "        print('Something went wrong!')"
   ]
  },
  {
   "cell_type": "code",
   "execution_count": 14,
   "id": "62a80cf4",
   "metadata": {},
   "outputs": [],
   "source": [
    "def main_function():\n",
    "\n",
    "    properties = ['id', 'name', 'lat', 'lon', 'tram', 'bus']\n",
    "\n",
    "    bus_tram_df = pd.DataFrame(columns=properties)\n",
    "\n",
    "    for char in query_list:\n",
    "\n",
    "        query_result = query_api(char)\n",
    "\n",
    "        filter_result = filter_for_stops_only(query_result)\n",
    "\n",
    "        extraction_result = extract_relevant_stop_data(filter_result)\n",
    "\n",
    "        append_to_dataset(bus_tram_df, extraction_result)\n",
    "\n",
    "    return bus_tram_df"
   ]
  },
  {
   "cell_type": "markdown",
   "id": "f48c7922",
   "metadata": {},
   "source": [
    "## 📥 Retrieve data and create initial dataset"
   ]
  },
  {
   "cell_type": "code",
   "execution_count": 21,
   "id": "bf2a7831",
   "metadata": {},
   "outputs": [],
   "source": [
    "# call main function\n",
    "\n",
    "bus_tram_dataset = main_function()"
   ]
  },
  {
   "cell_type": "code",
   "execution_count": 27,
   "id": "6451b004",
   "metadata": {},
   "outputs": [
    {
     "data": {
      "text/html": [
       "<div>\n",
       "<style scoped>\n",
       "    .dataframe tbody tr th:only-of-type {\n",
       "        vertical-align: middle;\n",
       "    }\n",
       "\n",
       "    .dataframe tbody tr th {\n",
       "        vertical-align: top;\n",
       "    }\n",
       "\n",
       "    .dataframe thead th {\n",
       "        text-align: right;\n",
       "    }\n",
       "</style>\n",
       "<table border=\"1\" class=\"dataframe\">\n",
       "  <thead>\n",
       "    <tr style=\"text-align: right;\">\n",
       "      <th></th>\n",
       "      <th>id</th>\n",
       "      <th>name</th>\n",
       "      <th>lat</th>\n",
       "      <th>lon</th>\n",
       "      <th>tram</th>\n",
       "      <th>bus</th>\n",
       "    </tr>\n",
       "  </thead>\n",
       "  <tbody>\n",
       "    <tr>\n",
       "      <th>0</th>\n",
       "      <td>900260009</td>\n",
       "      <td>Flughafen BER</td>\n",
       "      <td>52.364610</td>\n",
       "      <td>13.509870</td>\n",
       "      <td>False</td>\n",
       "      <td>True</td>\n",
       "    </tr>\n",
       "    <tr>\n",
       "      <th>1</th>\n",
       "      <td>900086106</td>\n",
       "      <td>Auguste-Viktoria-A./Humboldtstr. (Berlin)</td>\n",
       "      <td>52.568845</td>\n",
       "      <td>13.329852</td>\n",
       "      <td>False</td>\n",
       "      <td>True</td>\n",
       "    </tr>\n",
       "    <tr>\n",
       "      <th>2</th>\n",
       "      <td>900170515</td>\n",
       "      <td>Adersleber Weg (Berlin)</td>\n",
       "      <td>52.537896</td>\n",
       "      <td>13.560318</td>\n",
       "      <td>True</td>\n",
       "      <td>True</td>\n",
       "    </tr>\n",
       "    <tr>\n",
       "      <th>3</th>\n",
       "      <td>900151501</td>\n",
       "      <td>Ahrenshooper Str. (Berlin)</td>\n",
       "      <td>52.566212</td>\n",
       "      <td>13.501888</td>\n",
       "      <td>True</td>\n",
       "      <td>True</td>\n",
       "    </tr>\n",
       "    <tr>\n",
       "      <th>4</th>\n",
       "      <td>900140005</td>\n",
       "      <td>Albertinenstr. (Berlin)</td>\n",
       "      <td>52.549788</td>\n",
       "      <td>13.457778</td>\n",
       "      <td>True</td>\n",
       "      <td>True</td>\n",
       "    </tr>\n",
       "  </tbody>\n",
       "</table>\n",
       "</div>"
      ],
      "text/plain": [
       "          id                                       name        lat        lon  \\\n",
       "0  900260009                              Flughafen BER  52.364610  13.509870   \n",
       "1  900086106  Auguste-Viktoria-A./Humboldtstr. (Berlin)  52.568845  13.329852   \n",
       "2  900170515                    Adersleber Weg (Berlin)  52.537896  13.560318   \n",
       "3  900151501                 Ahrenshooper Str. (Berlin)  52.566212  13.501888   \n",
       "4  900140005                    Albertinenstr. (Berlin)  52.549788  13.457778   \n",
       "\n",
       "    tram   bus  \n",
       "0  False  True  \n",
       "1  False  True  \n",
       "2   True  True  \n",
       "3   True  True  \n",
       "4   True  True  "
      ]
     },
     "execution_count": 27,
     "metadata": {},
     "output_type": "execute_result"
    }
   ],
   "source": [
    "bus_tram_dataset.head()"
   ]
  },
  {
   "cell_type": "markdown",
   "id": "84b7c2ad",
   "metadata": {},
   "source": [
    "## 🧽 Clean the data"
   ]
  },
  {
   "cell_type": "markdown",
   "id": "39f16c95",
   "metadata": {},
   "source": [
    "### Filter for stop that are in Berlin\n",
    "\n",
    "So appearently a few stops that are outside of the berlin area slipped in. Stops in Berlin are typically marked with '(Berlin)'."
   ]
  },
  {
   "cell_type": "code",
   "execution_count": null,
   "id": "1dd3d75a",
   "metadata": {},
   "outputs": [
    {
     "name": "stderr",
     "output_type": "stream",
     "text": [
      "/var/folders/c_/l3z98zw17lvfgvq2rtl96nq00000gn/T/ipykernel_81500/3494162933.py:1: UserWarning: This pattern is interpreted as a regular expression, and has match groups. To actually get the groups, use str.extract.\n",
      "  stops_inside_berlin = bus_tram_dataset['name'].str.contains('(Berlin)')\n"
     ]
    }
   ],
   "source": [
    "# create boolean series that marks stops in berlin with true\n",
    "\n",
    "stops_inside_berlin = bus_tram_dataset['name'].str.contains('(Berlin)')"
   ]
  },
  {
   "cell_type": "code",
   "execution_count": null,
   "id": "7ed4ebc9",
   "metadata": {},
   "outputs": [],
   "source": [
    "# use bool series to subset dataset\n",
    "\n",
    "bus_tram_dataset_filtered = bus_tram_dataset[stops_inside_berlin]"
   ]
  },
  {
   "cell_type": "code",
   "execution_count": 31,
   "id": "346a4e1f",
   "metadata": {},
   "outputs": [
    {
     "data": {
      "text/html": [
       "<div>\n",
       "<style scoped>\n",
       "    .dataframe tbody tr th:only-of-type {\n",
       "        vertical-align: middle;\n",
       "    }\n",
       "\n",
       "    .dataframe tbody tr th {\n",
       "        vertical-align: top;\n",
       "    }\n",
       "\n",
       "    .dataframe thead th {\n",
       "        text-align: right;\n",
       "    }\n",
       "</style>\n",
       "<table border=\"1\" class=\"dataframe\">\n",
       "  <thead>\n",
       "    <tr style=\"text-align: right;\">\n",
       "      <th></th>\n",
       "      <th>id</th>\n",
       "      <th>name</th>\n",
       "      <th>lat</th>\n",
       "      <th>lon</th>\n",
       "      <th>tram</th>\n",
       "      <th>bus</th>\n",
       "    </tr>\n",
       "  </thead>\n",
       "  <tbody>\n",
       "    <tr>\n",
       "      <th>1</th>\n",
       "      <td>900086106</td>\n",
       "      <td>Auguste-Viktoria-A./Humboldtstr. (Berlin)</td>\n",
       "      <td>52.568845</td>\n",
       "      <td>13.329852</td>\n",
       "      <td>False</td>\n",
       "      <td>True</td>\n",
       "    </tr>\n",
       "    <tr>\n",
       "      <th>2</th>\n",
       "      <td>900170515</td>\n",
       "      <td>Adersleber Weg (Berlin)</td>\n",
       "      <td>52.537896</td>\n",
       "      <td>13.560318</td>\n",
       "      <td>True</td>\n",
       "      <td>True</td>\n",
       "    </tr>\n",
       "    <tr>\n",
       "      <th>3</th>\n",
       "      <td>900151501</td>\n",
       "      <td>Ahrenshooper Str. (Berlin)</td>\n",
       "      <td>52.566212</td>\n",
       "      <td>13.501888</td>\n",
       "      <td>True</td>\n",
       "      <td>True</td>\n",
       "    </tr>\n",
       "    <tr>\n",
       "      <th>4</th>\n",
       "      <td>900140005</td>\n",
       "      <td>Albertinenstr. (Berlin)</td>\n",
       "      <td>52.549788</td>\n",
       "      <td>13.457778</td>\n",
       "      <td>True</td>\n",
       "      <td>True</td>\n",
       "    </tr>\n",
       "    <tr>\n",
       "      <th>5</th>\n",
       "      <td>900161517</td>\n",
       "      <td>Alfred-Kowalke-Str. (Berlin)</td>\n",
       "      <td>52.505714</td>\n",
       "      <td>13.519704</td>\n",
       "      <td>True</td>\n",
       "      <td>True</td>\n",
       "    </tr>\n",
       "    <tr>\n",
       "      <th>...</th>\n",
       "      <td>...</td>\n",
       "      <td>...</td>\n",
       "      <td>...</td>\n",
       "      <td>...</td>\n",
       "      <td>...</td>\n",
       "      <td>...</td>\n",
       "    </tr>\n",
       "    <tr>\n",
       "      <th>11455</th>\n",
       "      <td>900093207</td>\n",
       "      <td>Amandastr. (Berlin)</td>\n",
       "      <td>52.626134</td>\n",
       "      <td>13.319470</td>\n",
       "      <td>False</td>\n",
       "      <td>True</td>\n",
       "    </tr>\n",
       "    <tr>\n",
       "      <th>11456</th>\n",
       "      <td>900085250</td>\n",
       "      <td>Amendestr. (Berlin)</td>\n",
       "      <td>52.571515</td>\n",
       "      <td>13.373639</td>\n",
       "      <td>False</td>\n",
       "      <td>True</td>\n",
       "    </tr>\n",
       "    <tr>\n",
       "      <th>11462</th>\n",
       "      <td>900081271</td>\n",
       "      <td>Alt-Buckow/Dorfteich (Berlin)</td>\n",
       "      <td>52.422537</td>\n",
       "      <td>13.432833</td>\n",
       "      <td>False</td>\n",
       "      <td>True</td>\n",
       "    </tr>\n",
       "    <tr>\n",
       "      <th>11464</th>\n",
       "      <td>900175509</td>\n",
       "      <td>Am Birkenwerder (Berlin)</td>\n",
       "      <td>52.485102</td>\n",
       "      <td>13.570143</td>\n",
       "      <td>False</td>\n",
       "      <td>True</td>\n",
       "    </tr>\n",
       "    <tr>\n",
       "      <th>11465</th>\n",
       "      <td>900100028</td>\n",
       "      <td>Am Weidendamm (Berlin)</td>\n",
       "      <td>52.521913</td>\n",
       "      <td>13.388453</td>\n",
       "      <td>True</td>\n",
       "      <td>True</td>\n",
       "    </tr>\n",
       "  </tbody>\n",
       "</table>\n",
       "<p>8099 rows × 6 columns</p>\n",
       "</div>"
      ],
      "text/plain": [
       "              id                                       name        lat  \\\n",
       "1      900086106  Auguste-Viktoria-A./Humboldtstr. (Berlin)  52.568845   \n",
       "2      900170515                    Adersleber Weg (Berlin)  52.537896   \n",
       "3      900151501                 Ahrenshooper Str. (Berlin)  52.566212   \n",
       "4      900140005                    Albertinenstr. (Berlin)  52.549788   \n",
       "5      900161517               Alfred-Kowalke-Str. (Berlin)  52.505714   \n",
       "...          ...                                        ...        ...   \n",
       "11455  900093207                        Amandastr. (Berlin)  52.626134   \n",
       "11456  900085250                        Amendestr. (Berlin)  52.571515   \n",
       "11462  900081271              Alt-Buckow/Dorfteich (Berlin)  52.422537   \n",
       "11464  900175509                   Am Birkenwerder (Berlin)  52.485102   \n",
       "11465  900100028                     Am Weidendamm (Berlin)  52.521913   \n",
       "\n",
       "             lon   tram   bus  \n",
       "1      13.329852  False  True  \n",
       "2      13.560318   True  True  \n",
       "3      13.501888   True  True  \n",
       "4      13.457778   True  True  \n",
       "5      13.519704   True  True  \n",
       "...          ...    ...   ...  \n",
       "11455  13.319470  False  True  \n",
       "11456  13.373639  False  True  \n",
       "11462  13.432833  False  True  \n",
       "11464  13.570143  False  True  \n",
       "11465  13.388453   True  True  \n",
       "\n",
       "[8099 rows x 6 columns]"
      ]
     },
     "execution_count": 31,
     "metadata": {},
     "output_type": "execute_result"
    }
   ],
   "source": [
    "bus_tram_dataset_filtered"
   ]
  },
  {
   "cell_type": "markdown",
   "id": "d4d3a69c",
   "metadata": {},
   "source": [
    "### Check for missing values"
   ]
  },
  {
   "cell_type": "code",
   "execution_count": 33,
   "id": "eff2db74",
   "metadata": {},
   "outputs": [
    {
     "data": {
      "text/plain": [
       "np.False_"
      ]
     },
     "execution_count": 33,
     "metadata": {},
     "output_type": "execute_result"
    }
   ],
   "source": [
    "bus_tram_dataset_filtered.isnull().any().any()"
   ]
  },
  {
   "cell_type": "markdown",
   "id": "c5da28cc",
   "metadata": {},
   "source": [
    "### Check for duplicates"
   ]
  },
  {
   "cell_type": "code",
   "execution_count": null,
   "id": "a1c231cf",
   "metadata": {},
   "outputs": [
    {
     "data": {
      "text/plain": [
       "np.int64(5077)"
      ]
     },
     "execution_count": 44,
     "metadata": {},
     "output_type": "execute_result"
    }
   ],
   "source": [
    "bus_tram_dataset_filtered.duplicated().sum() # ufff"
   ]
  },
  {
   "cell_type": "code",
   "execution_count": 48,
   "id": "549dc11a",
   "metadata": {},
   "outputs": [],
   "source": [
    "# create df without duplicates\n",
    "\n",
    "bus_tram_dataset_filtered_no_dups = bus_tram_dataset_filtered.drop_duplicates(keep='first').reset_index()"
   ]
  },
  {
   "cell_type": "code",
   "execution_count": 46,
   "id": "adedc127",
   "metadata": {},
   "outputs": [],
   "source": [
    "private_url = '/Users/bastianlenkers/Documents/Masterschool/Webeet/Sprint1_Data_Collection/'\n",
    "\n",
    "file_name = 'bus_tram_preliminary.csv'"
   ]
  },
  {
   "cell_type": "code",
   "execution_count": 49,
   "id": "e275469e",
   "metadata": {},
   "outputs": [],
   "source": [
    "bus_tram_dataset_filtered_no_dups.to_csv(f\"{private_url}{file_name}\")"
   ]
  }
 ],
 "metadata": {
  "kernelspec": {
   "display_name": "Python 3",
   "language": "python",
   "name": "python3"
  },
  "language_info": {
   "codemirror_mode": {
    "name": "ipython",
    "version": 3
   },
   "file_extension": ".py",
   "mimetype": "text/x-python",
   "name": "python",
   "nbconvert_exporter": "python",
   "pygments_lexer": "ipython3",
   "version": "3.13.6"
  }
 },
 "nbformat": 4,
 "nbformat_minor": 5
}
