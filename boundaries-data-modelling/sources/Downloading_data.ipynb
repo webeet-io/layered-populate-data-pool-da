{
  "nbformat": 4,
  "nbformat_minor": 0,
  "metadata": {
    "colab": {
      "provenance": []
    },
    "kernelspec": {
      "name": "python3",
      "display_name": "Python 3"
    },
    "language_info": {
      "name": "python"
    }
  },
  "cells": [
    {
      "cell_type": "code",
      "source": [
        "import geopandas as gpd\n",
        "import os\n",
        "\n",
        "# WFS type name\n",
        "typename = \"erhaltungsverordnungsgebiete:erhaltgeb_es\"\n",
        "\n",
        "# Downloading GeoDataFrame directly\n",
        "gdf = gpd.read_file(\n",
        "    f\"{url}?SERVICE=WFS&VERSION=2.0.0&REQUEST=GetFeature&TYPENAMES={typename}&OUTPUTFORMAT=application/json\"\n",
        ")\n",
        "\n",
        "# Creating a directory\n",
        "os.makedirs(\"sources\", exist_ok=True)\n",
        "\n",
        "# Saving as GeoJSON\n",
        "gdf.to_file(\"sources/milieuschutzgebiete.geojson\", driver=\"GeoJSON\")\n",
        "\n",
        "# Viewing the first lines\n",
        "print(gdf.head())"
      ],
      "metadata": {
        "colab": {
          "base_uri": "https://localhost:8080/"
        },
        "id": "YPPIBYWuL5ji",
        "outputId": "fac71a3d-9d6e-4b3b-d713-679470fe1d6a"
      },
      "execution_count": 12,
      "outputs": [
        {
          "output_type": "stream",
          "name": "stdout",
          "text": [
            "                    id schluessel bezirk  \\\n",
            "0  erhaltgeb_es.ES0101     ES0101  Mitte   \n",
            "1  erhaltgeb_es.ES0102     ES0102  Mitte   \n",
            "2  erhaltgeb_es.ES0103     ES0103  Mitte   \n",
            "3  erhaltgeb_es.ES0104     ES0104  Mitte   \n",
            "4  erhaltgeb_es.ES0105     ES0105  Mitte   \n",
            "\n",
            "                                         gebietsname  f_gvbl_dat  f_in_kraft  \\\n",
            "0                                        Poststadion  30.12.1988  31.12.1988   \n",
            "1                                 Spandauer Vorstadt  25.06.1993  26.06.1993   \n",
            "2  Südliche Brunnenstraße Teile der Rosenthaler V...  09.12.1995  10.12.1995   \n",
            "3                            Friedrich-Wilhelm-Stadt  31.08.1996  01.09.1996   \n",
            "4                     Dorotheenstadt, Friedrichstadt  10.04.1997  11.04.1997   \n",
            "\n",
            "  ae_gvbldat ae_inkraft fl_in_ha  \\\n",
            "0       None       None     53.2   \n",
            "1       None       None    109.1   \n",
            "2       None       None     18.8   \n",
            "3       None       None     69.5   \n",
            "4       None       None     98.7   \n",
            "\n",
            "                                            geometry  \n",
            "0  MULTIPOLYGON (((388197.513 5821373.346, 388210...  \n",
            "1  MULTIPOLYGON (((391181.177 5820336.742, 391184...  \n",
            "2  MULTIPOLYGON (((391024.452 5821630.664, 391046...  \n",
            "3  MULTIPOLYGON (((390119.396 5820269.695, 390122...  \n",
            "4  MULTIPOLYGON (((391309.457 5819834.377, 391308...  \n"
          ]
        }
      ]
    },
    {
      "cell_type": "code",
      "source": [
        "gdf = gdf.rename(columns={\n",
        "    \"schluessel\": \"code\",\n",
        "    \"bezirk\": \"district\",\n",
        "    \"gebietsname\": \"zone_name\",\n",
        "    \"f_gvbl_dat\": \"publication_date\",\n",
        "    \"f_in_kraft\": \"effective_date\",\n",
        "    \"ae_gvbldat\": \"alt_publication_date\",\n",
        "    \"ae_inkraft\": \"alt_effective_date\",\n",
        "    \"fl_in_ha\": \"area_ha\"\n",
        "})"
      ],
      "metadata": {
        "id": "_yhgCNHFFQZn"
      },
      "execution_count": 13,
      "outputs": []
    },
    {
      "cell_type": "code",
      "source": [
        "# Remove geometry (otherwise Excel will not be able to save MULTIPOLYGON correctly)\n",
        "df = gdf.drop(columns='geometry')\n",
        "\n",
        "# Save to Excel file\n",
        "df.to_excel(\"sources/milieuschutzgebiete.xlsx\", index=False)\n",
        "\n",
        "# Save to CSV\n",
        "df.to_csv(\"sources/milieuschutz_areas.csv\", index=False)"
      ],
      "metadata": {
        "id": "l5nEz0QPzbWk"
      },
      "execution_count": 14,
      "outputs": []
    },
    {
      "cell_type": "code",
      "source": [
        "# Copy the GeoDataFrame so as not to alter the original\n",
        "gdf_wkt = gdf.copy()\n",
        "\n",
        "# Convert geometry to string (WKT)\n",
        "gdf_wkt[\"geometry\"] = gdf_wkt[\"geometry\"].apply(lambda geom: geom.wkt)\n",
        "\n",
        "# Save to CSV with geometry as text\n",
        "gdf_wkt.to_csv(\"sources/milieuschutz_areas_with_geom.csv\", index=False)"
      ],
      "metadata": {
        "colab": {
          "base_uri": "https://localhost:8080/"
        },
        "id": "dnGhtgGJH6d6",
        "outputId": "0a7782a2-9254-4d78-ca3c-6ef1775cb1e3"
      },
      "execution_count": 15,
      "outputs": [
        {
          "output_type": "stream",
          "name": "stderr",
          "text": [
            "/tmp/ipython-input-15-393268848.py:5: UserWarning: Geometry column does not contain geometry.\n",
            "  gdf_wkt[\"geometry\"] = gdf_wkt[\"geometry\"].apply(lambda geom: geom.wkt)\n"
          ]
        }
      ]
    },
    {
      "cell_type": "code",
      "source": [
        "# And if we want to make a GeoDataFrame from this CSV again:\n",
        "import pandas as pd\n",
        "from shapely import wkt\n",
        "\n",
        "df = pd.read_csv(\"sources/milieuschutz_areas_with_geom.csv\")\n",
        "df[\"geometry\"] = df[\"geometry\"].apply(wkt.loads)\n",
        "gdf_restored = gpd.GeoDataFrame(df, geometry=\"geometry\", crs=\"EPSG:25833\")"
      ],
      "metadata": {
        "id": "ONa0IjS8IcK5"
      },
      "execution_count": 18,
      "outputs": []
    }
  ]
}