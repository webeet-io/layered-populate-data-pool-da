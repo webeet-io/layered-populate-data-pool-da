{
 "cells": [
  {
   "cell_type": "code",
   "execution_count": 12,
   "id": "bcc667f0",
   "metadata": {},
   "outputs": [
    {
     "name": "stdout",
     "output_type": "stream",
     "text": [
      "Added data_loader directory to path: /Users/svitlanakovalivska/layered-populate-data-pool-da/db_population_utils/data_loader\n",
      "Current working directory: /Users/svitlanakovalivska/layered-populate-data-pool-da\n",
      "✅ Found smart_auto_data_loader.py\n"
     ]
    }
   ],
   "source": [
    "import sys\n",
    "import os\n",
    "from pathlib import Path\n",
    "\n",
    "# Fix path issues - use absolute path to the data_loader directory\n",
    "data_loader_path = '/Users/svitlanakovalivska/layered-populate-data-pool-da/db_population_utils/data_loader'\n",
    "if data_loader_path not in sys.path:\n",
    "    sys.path.insert(0, data_loader_path)\n",
    "\n",
    "print(f\"Added data_loader directory to path: {data_loader_path}\")\n",
    "\n",
    "# Check if we can access the current working directory safely\n",
    "try:\n",
    "    current_dir = os.getcwd()\n",
    "    print(f\"Current working directory: {current_dir}\")\n",
    "except FileNotFoundError:\n",
    "    print(\"Current working directory is not accessible, but path is set correctly\")\n",
    "    # Set to a known working directory\n",
    "    os.chdir('/Users/svitlanakovalivska/layered-populate-data-pool-da')\n",
    "    print(f\"Changed to project root: {os.getcwd()}\")\n",
    "\n",
    "# Verify the smart_auto_data_loader file exists\n",
    "smart_loader_file = Path(data_loader_path) / 'smart_auto_data_loader.py'\n",
    "if smart_loader_file.exists():\n",
    "    print(f\"✅ Found smart_auto_data_loader.py\")\n",
    "else:\n",
    "    print(f\"❌ smart_auto_data_loader.py not found at {smart_loader_file}\")"
   ]
  },
  {
   "cell_type": "markdown",
   "id": "1903e40e",
   "metadata": {},
   "source": [
    "# CSV Loading TEST SmartAutoDataLoader"
   ]
  },
  {
   "cell_type": "code",
   "execution_count": 13,
   "id": "2a2da6fe",
   "metadata": {},
   "outputs": [
    {
     "name": "stdout",
     "output_type": "stream",
     "text": [
      "🎯 SmartAutoDataLoader ready!\n",
      "🎯 Loading file: test.csv\n",
      "🔍 Format detected: csv\n",
      "📊 Loading CSV file...\n",
      "🔤 Encoding detected: utf-8\n",
      "🗓️ Searching for date columns...\n",
      "   📅 No date columns detected\n",
      "✅ CSV loaded: 3263 rows, 4 columns\n"
     ]
    }
   ],
   "source": [
    "# DIAGNOSTIC: Check which methods are missing\n",
    "from smart_auto_data_loader import SmartAutoDataLoader\n",
    "\n",
    "loader = SmartAutoDataLoader()\n",
    "\n",
    "\n",
    "df = loader.load(\"/Users/svitlanakovalivska/layered-populate-data-pool-da/db_population_utils/data/test.csv\")\n",
    "    "
   ]
  },
  {
   "cell_type": "code",
   "execution_count": 14,
   "id": "df06df82",
   "metadata": {},
   "outputs": [
    {
     "data": {
      "text/plain": [
       "Index(['id', 'keyword', 'location', 'text'], dtype='object')"
      ]
     },
     "execution_count": 14,
     "metadata": {},
     "output_type": "execute_result"
    }
   ],
   "source": [
    "df.columns\n"
   ]
  },
  {
   "cell_type": "markdown",
   "id": "0ee1195a",
   "metadata": {},
   "source": [
    "# Excel Loading TEST SmartAutoDataLoader"
   ]
  },
  {
   "cell_type": "code",
   "execution_count": 15,
   "id": "03ca09a2",
   "metadata": {},
   "outputs": [
    {
     "name": "stdout",
     "output_type": "stream",
     "text": [
      "🎯 SmartAutoDataLoader ready!\n",
      "🎯 Loading file: statistischer-bericht-auslaend-bevoelkerung-2010200247005.xlsx\n",
      "🔍 Format detected: excel\n",
      "📈 Loading Excel file...\n",
      "   📋 Available sheets: ['Titel', 'Inhaltsübersicht', 'GENESIS-Online', 'Impressum', 'Informationen zur Statistik', '12521-01', '12521-02', '12521-03', '12521-04', '12521-05', '12521-06', '12521-07', '12521-08', '12521-09', '12521-10', '12521-11', '12521-12', '12521-13', '12521-14', '12521-15', '12521-16', 'Erläuterung_zu_CSV-Tabellen', 'csv-12521-01', 'csv-12521-02', 'csv-12521-03', 'csv-12521-04', 'csv-12521-05', 'csv-12521-06', 'csv-12521-07', 'csv-12521-08', 'csv-12521-09', 'csv-12521-10', 'csv-12521-11', 'csv-12521-12', 'csv-12521-13', 'csv-12521-14', 'csv-12521-15', 'csv-12521-16']\n",
      "   ✅ Selected sheet: 'csv-12521-15'\n",
      "🗓️ Searching for date columns...\n",
      "   ✅ Found date column: 'Stichtag' (%d.%m.%Y)\n",
      "   📅 Total date columns found: 1\n",
      "✅ Excel loaded: 1309 rows, 24 columns\n",
      "   📊 Column names: ['Statistik_Code', 'Statistik_Label', 'Stichtag', 'Region', 'AGS_Kreis', 'Geschlecht', 'Bestand_am_31_12_2023_Anzahl', 'Zugaenge_in_2024_Insgesamt_Anzahl', 'Erstzuzug_aus_dem_Ausland_in_2024_Anzahl', 'Wiederzuzug_aus_dem_Ausland_in_2024_Anzahl', 'Geburten_in_2024_Anzahl', 'Zuzug_im_Inland_in_2024_Anzahl', 'Abgaenge_in_2024_Insgesamt_Anzahl', 'Fortzuege_ins_Ausland_in_2024_Anzahl', 'Abmeldungen_ins_Ausland_in_2024_Anzahl', 'Tod_in_2024_Anzahl', 'Registerloeschung_in_2024_Anzahl', 'Fortzug_im_Inland_in_2024_Anzahl', 'Geburtenueberschuss_in_2024_Anzahl', 'Nettozuwanderung_aus_Ausland_in_2024_Anzahl', 'Nettozuwanderung_aus_Inland_in_2024_Anzahl', 'Bestand_am_31_12_2024_Anzahl', 'Nachrichtlich_Zugaenge_in_2024_Anzahl', 'Nachrichtlich_Abgaenge_in_2024_Anzahl']\n",
      "  Statistik_Code      Statistik_Label   Stichtag  \\\n",
      "0          12521  Auslaenderstatistik 2024-12-31   \n",
      "1          12521  Auslaenderstatistik 2024-12-31   \n",
      "2          12521  Auslaenderstatistik 2024-12-31   \n",
      "3          12521  Auslaenderstatistik 2024-12-31   \n",
      "4          12521  Auslaenderstatistik 2024-12-31   \n",
      "\n",
      "                                              Region  \\\n",
      "0  Deutschland                                   ...   \n",
      "1  Deutschland                                   ...   \n",
      "2  Deutschland                                   ...   \n",
      "3  Schleswig-Holstein                            ...   \n",
      "4  Schleswig-Holstein                            ...   \n",
      "\n",
      "                                           AGS_Kreis   Geschlecht  \\\n",
      "0  Kein_AGS                                      ...  Insgesamt     \n",
      "1  Kein_AGS                                      ...  Maennlich     \n",
      "2  Kein_AGS                                      ...  Weiblich      \n",
      "3  Kein_AGS                                      ...  Insgesamt     \n",
      "4  Kein_AGS                                      ...  Maennlich     \n",
      "\n",
      "   Bestand_am_31_12_2023_Anzahl  Zugaenge_in_2024_Insgesamt_Anzahl  \\\n",
      "0                    13895865.0                          1285655.0   \n",
      "1                     7305105.0                           728825.0   \n",
      "2                     6590755.0                           556835.0   \n",
      "3                      346690.0                            54800.0   \n",
      "4                      181985.0                            31310.0   \n",
      "\n",
      "   Erstzuzug_aus_dem_Ausland_in_2024_Anzahl  \\\n",
      "0                                  972850.0   \n",
      "1                                  539235.0   \n",
      "2                                  433610.0   \n",
      "3                                   28625.0   \n",
      "4                                   15835.0   \n",
      "\n",
      "   Wiederzuzug_aus_dem_Ausland_in_2024_Anzahl  ...  \\\n",
      "0                                    205350.0  ...   \n",
      "1                                    134420.0  ...   \n",
      "2                                     70930.0  ...   \n",
      "3                                      4835.0  ...   \n",
      "4                                      3115.0  ...   \n",
      "\n",
      "   Abmeldungen_ins_Ausland_in_2024_Anzahl Tod_in_2024_Anzahl  \\\n",
      "0                                324415.0              46605   \n",
      "1                                219910.0              27440   \n",
      "2                                104505.0              19160   \n",
      "3                                  9155.0                970   \n",
      "4                                  6250.0                525   \n",
      "\n",
      "   Registerloeschung_in_2024_Anzahl  Fortzug_im_Inland_in_2024_Anzahl  \\\n",
      "0                          354780.0                                 .   \n",
      "1                          188065.0                                 .   \n",
      "2                          166720.0                                 .   \n",
      "3                           10830.0                             19485   \n",
      "4                            5845.0                             11215   \n",
      "\n",
      "   Geburtenueberschuss_in_2024_Anzahl  \\\n",
      "0                             60850.0   \n",
      "1                             27725.0   \n",
      "2                             33130.0   \n",
      "3                              2115.0   \n",
      "4                              1070.0   \n",
      "\n",
      "  Nettozuwanderung_aus_Ausland_in_2024_Anzahl  \\\n",
      "0                                    459705.0   \n",
      "1                                    232455.0   \n",
      "2                                    227245.0   \n",
      "3                                     13920.0   \n",
      "4                                      7030.0   \n",
      "\n",
      "   Nettozuwanderung_aus_Inland_in_2024_Anzahl Bestand_am_31_12_2024_Anzahl  \\\n",
      "0                                           .                   14061640.0   \n",
      "1                                           .                    7377225.0   \n",
      "2                                           .                    6684415.0   \n",
      "3                                       -1235                     350665.0   \n",
      "4                                        -450                     183790.0   \n",
      "\n",
      "   Nachrichtlich_Zugaenge_in_2024_Anzahl  \\\n",
      "0                               226800.0   \n",
      "1                               128280.0   \n",
      "2                                98520.0   \n",
      "3                                 5540.0   \n",
      "4                                 3095.0   \n",
      "\n",
      "   Nachrichtlich_Abgaenge_in_2024_Anzahl  \n",
      "0                               225380.0  \n",
      "1                               138090.0  \n",
      "2                                87290.0  \n",
      "3                                 7140.0  \n",
      "4                                 4370.0  \n",
      "\n",
      "[5 rows x 24 columns]\n"
     ]
    }
   ],
   "source": [
    "# Import and test  Excel loading functionality\n",
    "from smart_auto_data_loader import SmartAutoDataLoader\n",
    "\n",
    "loader = SmartAutoDataLoader()\n",
    "df = loader.load(\"/Users/svitlanakovalivska/layered-populate-data-pool-da/db_population_utils/data/statistischer-bericht-auslaend-bevoelkerung-2010200247005.xlsx\")\n",
    "\n",
    "print(df.head())"
   ]
  },
  {
   "cell_type": "markdown",
   "id": "9cbb13b5",
   "metadata": {},
   "source": [
    "# JSON Loading TEST SmartAutoDataLoader"
   ]
  },
  {
   "cell_type": "code",
   "execution_count": 16,
   "id": "f07b2e17",
   "metadata": {},
   "outputs": [
    {
     "name": "stdout",
     "output_type": "stream",
     "text": [
      "🎯 SmartAutoDataLoader ready!\n",
      "🎯 Loading file: ___.json\n",
      "🔍 Format detected: json\n",
      "🗂️ Loading JSON file with intelligent analysis...\n",
      "❌ Error loading JSON: [Errno 2] No such file or directory: '___.json'\n",
      "Empty DataFrame\n",
      "Columns: []\n",
      "Index: []\n"
     ]
    },
    {
     "name": "stderr",
     "output_type": "stream",
     "text": [
      "Traceback (most recent call last):\n",
      "  File \"/Users/svitlanakovalivska/layered-populate-data-pool-da/db_population_utils/data_loader/smart_auto_data_loader.py\", line 251, in load_json\n",
      "    with open(source, 'r', encoding='utf-8') as f:\n",
      "         ^^^^^^^^^^^^^^^^^^^^^^^^^^^^^^^^^^^\n",
      "FileNotFoundError: [Errno 2] No such file or directory: '___.json'\n"
     ]
    }
   ],
   "source": [
    "from smart_auto_data_loader import SmartAutoDataLoader\n",
    "\n",
    "loader = SmartAutoDataLoader()\n",
    "df = loader.load(\"___.json\")\n",
    "\n",
    "print(df.head())"
   ]
  },
  {
   "cell_type": "code",
   "execution_count": 17,
   "id": "9e664526",
   "metadata": {},
   "outputs": [
    {
     "name": "stdout",
     "output_type": "stream",
     "text": [
      "=== 🔍 JSON FLATTENING DIAGNOSIS ===\n"
     ]
    },
    {
     "ename": "FileNotFoundError",
     "evalue": "[Errno 2] No such file or directory: '____.json'",
     "output_type": "error",
     "traceback": [
      "\u001b[31m---------------------------------------------------------------------------\u001b[39m",
      "\u001b[31mFileNotFoundError\u001b[39m                         Traceback (most recent call last)",
      "\u001b[36mCell\u001b[39m\u001b[36m \u001b[39m\u001b[32mIn[17]\u001b[39m\u001b[32m, line 10\u001b[39m\n\u001b[32m      7\u001b[39m \u001b[38;5;28mprint\u001b[39m(\u001b[33m\"\u001b[39m\u001b[33m=== 🔍 JSON FLATTENING DIAGNOSIS ===\u001b[39m\u001b[33m\"\u001b[39m)\n\u001b[32m      9\u001b[39m \u001b[38;5;66;03m# Load raw data\u001b[39;00m\n\u001b[32m---> \u001b[39m\u001b[32m10\u001b[39m \u001b[38;5;28;01mwith\u001b[39;00m \u001b[38;5;28;43mopen\u001b[39;49m\u001b[43m(\u001b[49m\u001b[43mjson_file\u001b[49m\u001b[43m,\u001b[49m\u001b[43m \u001b[49m\u001b[33;43m'\u001b[39;49m\u001b[33;43mr\u001b[39;49m\u001b[33;43m'\u001b[39;49m\u001b[43m,\u001b[49m\u001b[43m \u001b[49m\u001b[43mencoding\u001b[49m\u001b[43m=\u001b[49m\u001b[33;43m'\u001b[39;49m\u001b[33;43mutf-8\u001b[39;49m\u001b[33;43m'\u001b[39;49m\u001b[43m)\u001b[49m \u001b[38;5;28;01mas\u001b[39;00m f:\n\u001b[32m     11\u001b[39m     raw_data = json.load(f)\n\u001b[32m     13\u001b[39m \u001b[38;5;28mprint\u001b[39m(\u001b[33mf\u001b[39m\u001b[33m\"\u001b[39m\u001b[33mSource data: \u001b[39m\u001b[38;5;132;01m{\u001b[39;00m\u001b[38;5;28mlen\u001b[39m(raw_data)\u001b[38;5;132;01m}\u001b[39;00m\u001b[33m records\u001b[39m\u001b[33m\"\u001b[39m)\n",
      "\u001b[36mFile \u001b[39m\u001b[32m~/layered-populate-data-pool-da/.conda/lib/python3.12/site-packages/IPython/core/interactiveshell.py:343\u001b[39m, in \u001b[36m_modified_open\u001b[39m\u001b[34m(file, *args, **kwargs)\u001b[39m\n\u001b[32m    336\u001b[39m \u001b[38;5;28;01mif\u001b[39;00m file \u001b[38;5;129;01min\u001b[39;00m {\u001b[32m0\u001b[39m, \u001b[32m1\u001b[39m, \u001b[32m2\u001b[39m}:\n\u001b[32m    337\u001b[39m     \u001b[38;5;28;01mraise\u001b[39;00m \u001b[38;5;167;01mValueError\u001b[39;00m(\n\u001b[32m    338\u001b[39m         \u001b[33mf\u001b[39m\u001b[33m\"\u001b[39m\u001b[33mIPython won\u001b[39m\u001b[33m'\u001b[39m\u001b[33mt let you open fd=\u001b[39m\u001b[38;5;132;01m{\u001b[39;00mfile\u001b[38;5;132;01m}\u001b[39;00m\u001b[33m by default \u001b[39m\u001b[33m\"\u001b[39m\n\u001b[32m    339\u001b[39m         \u001b[33m\"\u001b[39m\u001b[33mas it is likely to crash IPython. If you know what you are doing, \u001b[39m\u001b[33m\"\u001b[39m\n\u001b[32m    340\u001b[39m         \u001b[33m\"\u001b[39m\u001b[33myou can use builtins\u001b[39m\u001b[33m'\u001b[39m\u001b[33m open.\u001b[39m\u001b[33m\"\u001b[39m\n\u001b[32m    341\u001b[39m     )\n\u001b[32m--> \u001b[39m\u001b[32m343\u001b[39m \u001b[38;5;28;01mreturn\u001b[39;00m \u001b[43mio_open\u001b[49m\u001b[43m(\u001b[49m\u001b[43mfile\u001b[49m\u001b[43m,\u001b[49m\u001b[43m \u001b[49m\u001b[43m*\u001b[49m\u001b[43margs\u001b[49m\u001b[43m,\u001b[49m\u001b[43m \u001b[49m\u001b[43m*\u001b[49m\u001b[43m*\u001b[49m\u001b[43mkwargs\u001b[49m\u001b[43m)\u001b[49m\n",
      "\u001b[31mFileNotFoundError\u001b[39m: [Errno 2] No such file or directory: '____.json'"
     ]
    }
   ],
   "source": [
    "# DIAGNOSIS: Why still only 22 columns?\n",
    "import json\n",
    "import pandas as pd\n",
    "\n",
    "json_file = \"____.json\"\n",
    "\n",
    "print(\"=== 🔍 JSON FLATTENING DIAGNOSIS ===\")\n",
    "\n",
    "# Load raw data\n",
    "with open(json_file, 'r', encoding='utf-8') as f:\n",
    "    raw_data = json.load(f)\n",
    "\n",
    "print(f\"Source data: {len(raw_data)} records\")\n",
    "first_item = raw_data[0]\n",
    "workflow_steps = first_item.get('workflowSteps', [])\n",
    "print(f\"workflowSteps: {len(workflow_steps)} elements\")\n",
    "\n",
    "if workflow_steps:\n",
    "    input_rows = workflow_steps[0].get('inputRows', [])\n",
    "    print(f\"inputRows in first step: {len(input_rows)} elements\")\n",
    "\n",
    "# Test pandas normalize\n",
    "df_pandas = pd.json_normalize(raw_data, sep='_', max_level=None)\n",
    "print(f\"pandas.json_normalize: {df_pandas.shape}\")\n",
    "\n",
    "# Deep flattening\n",
    "def deep_flatten(data, sep='_', prefix=''):\n",
    "    result = {}\n",
    "    if isinstance(data, dict):\n",
    "        for key, value in data.items():\n",
    "            new_key = f\"{prefix}{sep}{key}\" if prefix else key\n",
    "            if isinstance(value, dict):\n",
    "                result.update(deep_flatten(value, sep, new_key))\n",
    "            elif isinstance(value, list):\n",
    "                if value and isinstance(value[0], dict):\n",
    "                    for i, item in enumerate(value):\n",
    "                        result.update(deep_flatten(item, sep, f\"{new_key}_{i}\"))\n",
    "                else:\n",
    "                    result[new_key] = str(value) if value else ''\n",
    "            else:\n",
    "                result[new_key] = value\n",
    "    return result\n",
    "\n",
    "flattened_records = [deep_flatten(item) for item in raw_data]\n",
    "df_deep = pd.DataFrame(flattened_records)\n",
    "print(f\"Deep flattening: {df_deep.shape}\")"
   ]
  },
  {
   "cell_type": "code",
   "execution_count": null,
   "id": "e7113e86",
   "metadata": {},
   "outputs": [],
   "source": [
    "# Comparison results\n",
    "print(f\"✅ Deep flattening gave {df_deep.shape[1]} columns!\")\n",
    "print(f\"❌ pandas.json_normalize gave only {df_pandas.shape[1]} columns\")\n",
    "\n",
    "workflow_cols = [col for col in df_deep.columns if 'workflow' in col.lower()]\n",
    "input_cols = [col for col in df_deep.columns if 'input' in col.lower()]\n",
    "\n",
    "print(f\"\\nColumns with 'workflow': {len(workflow_cols)}\")\n",
    "print(f\"Columns with 'input': {len(input_cols)}\")\n",
    "\n",
    "if workflow_cols:\n",
    "    print(\"Workflow column examples:\", workflow_cols[:3])\n",
    "\n",
    "print(f\"\\n💡 CONCLUSION:\")\n",
    "print(f\"Proper flattening gives {df_deep.shape[1]} columns instead of 22\")\n",
    "print(f\"Need to replace pd.json_normalize with deep_flatten in SmartAutoDataLoader!\")"
   ]
  },
  {
   "cell_type": "code",
   "execution_count": null,
   "id": "3e40415d",
   "metadata": {},
   "outputs": [],
   "source": [
    "# Test if smart methods were added to SmartAutoDataLoader\n",
    "import importlib\n",
    "import smart_auto_data_loader\n",
    "importlib.reload(smart_auto_data_loader)\n",
    "\n",
    "from smart_auto_data_loader import SmartAutoDataLoader\n",
    "\n",
    "print(\"=== 🔍 CHECKING SMART METHODS ===\")\n",
    "\n",
    "loader = SmartAutoDataLoader(verbose=True)\n",
    "\n",
    "# Check if the new methods exist\n",
    "methods_to_check = [\n",
    "    '_analyze_json_complexity',\n",
    "    '_smart_deep_flatten_json'\n",
    "]\n",
    "\n",
    "for method in methods_to_check:\n",
    "    has_method = hasattr(loader, method)\n",
    "    print(f\"Has {method}: {has_method}\")\n",
    "\n",
    "# If methods don't exist, show current load_json parameters\n",
    "import inspect\n",
    "try:\n",
    "    signature = inspect.signature(loader.load_json)\n",
    "    print(f\"\\nCurrent load_json parameters: {list(signature.parameters.keys())}\")\n",
    "    \n",
    "    # Check for auto_deep_flatten parameter\n",
    "    if 'auto_deep_flatten' in signature.parameters:\n",
    "        print(\"✅ load_json has auto_deep_flatten parameter\")\n",
    "    else:\n",
    "        print(\"❌ load_json missing auto_deep_flatten parameter\")\n",
    "        \n",
    "except Exception as e:\n",
    "    print(f\"Cannot inspect load_json: {e}\")\n",
    "\n",
    "# Test simple loading until methods are added\n",
    "print(f\"\\n=== 🧪 TESTING CURRENT FUNCTIONALITY ===\")\n",
    "try:\n",
    "    df_test = loader.load(\"/Users/svitlanakovalivska/layered-populate-data-pool-da/db_population_utils/data/KG_Export_Aufträge.json\")\n",
    "    print(f\"Current result: {df_test.shape}\")\n",
    "    \n",
    "    if df_test.shape[1] > 400:\n",
    "        print(\"🎉 SUCCESS! Smart flattening is working!\")\n",
    "    else:\n",
    "        print(\"📝 NOTE: Still using basic flattening, need to add smart methods to file\")\n",
    "        \n",
    "except Exception as e:\n",
    "    print(f\"Error during testing: {e}\")\n",
    "\n",
    "print(f\"\\n💡 NEXT STEPS:\")\n",
    "print(f\"1. Add _analyze_json_complexity method to smart_auto_data_loader.py\")\n",
    "print(f\"2. Add _smart_deep_flatten_json method to smart_auto_data_loader.py\") \n",
    "print(f\"3. Update load_json method with auto_deep_flatten parameter\")\n",
    "print(f\"4. Restart kernel and test again\")"
   ]
  }
 ],
 "metadata": {
  "kernelspec": {
   "display_name": "Python 3",
   "language": "python",
   "name": "python3"
  },
  "language_info": {
   "codemirror_mode": {
    "name": "ipython",
    "version": 3
   },
   "file_extension": ".py",
   "mimetype": "text/x-python",
   "name": "python",
   "nbconvert_exporter": "python",
   "pygments_lexer": "ipython3",
   "version": "3.12.3"
  }
 },
 "nbformat": 4,
 "nbformat_minor": 5
}
