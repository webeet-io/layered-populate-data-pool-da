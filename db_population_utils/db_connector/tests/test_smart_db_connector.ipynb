{
 "cells": [
  {
   "cell_type": "markdown",
   "metadata": {},
   "source": [
    "# Smart DB Connector — Interactive Tests\n",
    "\n",
    "This notebook runs interactive tests for `smart_db_connector.py`.\n",
    "It mirrors the unit tests but shows outputs inline for visual inspection."
   ]
  },
  {
   "cell_type": "code",
   "execution_count": 1,
   "metadata": {},
   "outputs": [
    {
     "name": "stdout",
     "output_type": "stream",
     "text": [
      "Testing connection to Neon database...\n",
      "✅ Direct psycopg2 connection successful\n",
      "✅ Database version: PostgreSQL 17.5 on aarch64-unknown-linux-gnu, compiled by gcc (Debian 12.2.0-14+deb12u1) 12.2.0, 64-bit\n"
     ]
    }
   ],
   "source": [
    "# Test connection to Neon database\n",
    "import psycopg2\n",
    "from sqlalchemy import create_engine\n",
    "import pandas as pd\n",
    "\n",
    "# Complete connection string for Neon database\n",
    "database_url = (\n",
    "    \"postgresql+psycopg2://neondb_owner:npg_CeS9fJg2azZD\"\n",
    "    \"@ep-falling-glitter-a5m0j5gk-pooler.us-east-2.aws.neon.tech:5432/neondb\"\n",
    "    \"?sslmode=require\"\n",
    ")\n",
    "\n",
    "print(\"Testing connection to Neon database...\")\n",
    "\n",
    "# Test 1: Direct psycopg2 connection\n",
    "try:\n",
    "    conn = psycopg2.connect(\n",
    "        host=\"ep-falling-glitter-a5m0j5gk-pooler.us-east-2.aws.neon.tech\",\n",
    "        port=5432,\n",
    "        database=\"neondb\",\n",
    "        user=\"neondb_owner\",\n",
    "        password=\"npg_CeS9fJg2azZD\",\n",
    "        sslmode=\"require\"\n",
    "    )\n",
    "    print(\"✅ Direct psycopg2 connection successful\")\n",
    "    \n",
    "    # Test basic query\n",
    "    cursor = conn.cursor()\n",
    "    cursor.execute(\"SELECT version()\")\n",
    "    version = cursor.fetchone()\n",
    "    print(f\"✅ Database version: {version[0]}\")\n",
    "    \n",
    "    cursor.close()\n",
    "    conn.close()\n",
    "except Exception as e:\n",
    "    print(f\"❌ Direct psycopg2 connection failed: {e}\")"
   ]
  },
  {
   "cell_type": "code",
   "execution_count": 2,
   "metadata": {},
   "outputs": [
    {
     "name": "stdout",
     "output_type": "stream",
     "text": [
      "✅ SQLAlchemy engine connection successful\n",
      "✅ Test query result: (1,)\n"
     ]
    }
   ],
   "source": [
    "# Test 2: SQLAlchemy engine\n",
    "try:\n",
    "    from sqlalchemy import text\n",
    "    engine = create_engine(database_url)\n",
    "    \n",
    "    # Test connection\n",
    "    with engine.connect() as connection:\n",
    "        result = connection.execute(text(\"SELECT 1 as test\"))\n",
    "        print(\"✅ SQLAlchemy engine connection successful\")\n",
    "        print(f\"✅ Test query result: {result.fetchone()}\")\n",
    "        \n",
    "except Exception as e:\n",
    "    print(f\"❌ SQLAlchemy connection failed: {e}\")"
   ]
  },
  {
   "cell_type": "code",
   "execution_count": 3,
   "metadata": {},
   "outputs": [
    {
     "name": "stdout",
     "output_type": "stream",
     "text": [
      "❌ db_connector failed: name 'db_connector' is not defined\n"
     ]
    }
   ],
   "source": [
    "# Test 3: Using your db_connector class\n",
    "try:\n",
    "    # Use complete connection string\n",
    "    db = db_connector(database_url)\n",
    "    \n",
    "    # Test health check\n",
    "    health = db.health_check()\n",
    "    print(f\"✅ db_connector health check: {health}\")\n",
    "    \n",
    "    if health['status'] == 'healthy':\n",
    "        print(\"✅ Connection to Neon database successful!\")\n",
    "    else:\n",
    "        print(f\"❌ Health check failed: {health}\")\n",
    "        \n",
    "except Exception as e:\n",
    "    print(f\"❌ db_connector failed: {e}\")"
   ]
  },
  {
   "cell_type": "code",
   "execution_count": 4,
   "metadata": {},
   "outputs": [
    {
     "name": "stdout",
     "output_type": "stream",
     "text": [
      "✅ Connected to Neon database\n"
     ]
    },
    {
     "data": {
      "text/plain": [
       "<smart_db_connector.db_connector at 0x1204adf70>"
      ]
     },
     "execution_count": 4,
     "metadata": {},
     "output_type": "execute_result"
    }
   ],
   "source": [
    "import sys\n",
    "import os\n",
    "sys.path.append(os.path.join(os.path.dirname(os.getcwd())))\n",
    "\n",
    "import pandas as pd\n",
    "from smart_db_connector import *\n",
    "\n",
    "# Connect to Neon database with complete connection string\n",
    "database_url = (\n",
    "    \"postgresql+psycopg2://neondb_owner:npg_CeS9fJg2azZD\"\n",
    "    \"@ep-falling-glitter-a5m0j5gk-pooler.us-east-2.aws.neon.tech:5432/neondb\"\n",
    "    \"?sslmode=require\"\n",
    ")\n",
    "\n",
    "db = db_connector(database_url)\n",
    "print(\"✅ Connected to Neon database\")\n",
    "db"
   ]
  },
  {
   "cell_type": "markdown",
   "metadata": {},
   "source": [
    "## 1. Health Check"
   ]
  },
  {
   "cell_type": "code",
   "execution_count": 5,
   "metadata": {},
   "outputs": [
    {
     "data": {
      "text/plain": [
       "{'status': 'healthy',\n",
       " 'database_version': 'PostgreSQL 17.5 on aarch64-unknown-linux-gnu, compiled by gcc (Debian 12.2.0-14+deb12u1) 12.2.0, 64-bit',\n",
       " 'connection_time_ms': 1934.323787689209,\n",
       " 'timestamp': '2025-08-19T15:34:46.051410'}"
      ]
     },
     "execution_count": 5,
     "metadata": {},
     "output_type": "execute_result"
    }
   ],
   "source": [
    "health = db.health_check()\n",
    "health"
   ]
  },
  {
   "cell_type": "markdown",
   "metadata": {},
   "source": [
    "## 2. smart_execute — create table + insert rows"
   ]
  },
  {
   "cell_type": "code",
   "execution_count": 6,
   "metadata": {},
   "outputs": [
    {
     "data": {
      "text/plain": [
       "{'success': True,\n",
       " 'rows_affected': 4,\n",
       " 'report': SmartReport(operation='SMART_EXECUTE', success=True, execution_time_ms=923.5818386077881, data_summary={}, performance={}, memory_usage_mb=0.0, cpu_time_ms=0.0, io_operations=0, info_messages=['[15:34:48] Starting smart execute: UPDATE operation', '[15:34:49] Connection health check passed', '[15:34:49] Transaction committed automatically', '[15:34:49] Connection pool utilization: 0/5', '[15:34:49] Execute completed: 4 rows affected'], warning_messages=[], error_messages=[], recommendation_messages=[], connection_healthy=True, database_version='PostgreSQL 17.5 on aarch64-unknown-linux-gnu, compiled by gcc (Debian 12.2.0-14+deb12u1) 12.2.0, 64-bit', connection_time_ms=347.33080863952637, timestamp='2025-08-19T15:34:48.790506'),\n",
       " 'sql_type': 'UPDATE',\n",
       " 'impact_analysis': {'estimated_affected_rows': 0,\n",
       "  'tables_involved': [],\n",
       "  'risk_level': 'LOW',\n",
       "  'recommendations': []}}"
      ]
     },
     "execution_count": 6,
     "metadata": {},
     "output_type": "execute_result"
    }
   ],
   "source": [
    "# Cell for creating table and inserting data\n",
    "db.smart_execute(\"CREATE TABLE IF NOT EXISTS users (id SERIAL PRIMARY KEY, name VARCHAR(100), active BOOLEAN)\")\n",
    "db.smart_execute(\"INSERT INTO users (name, active) VALUES ('Alice', true)\")\n",
    "db.smart_execute(\"INSERT INTO users (name, active) VALUES ('Bob', false)\")\n",
    "\n",
    "res = db.smart_execute(\"UPDATE users SET active = true WHERE name = 'Bob'\", analyze_impact=True)\n",
    "res"
   ]
  },
  {
   "cell_type": "markdown",
   "metadata": {},
   "source": [
    "## 3. smart_insert — insert a DataFrame"
   ]
  },
  {
   "cell_type": "code",
   "execution_count": 7,
   "metadata": {},
   "outputs": [
    {
     "data": {
      "text/plain": [
       "{'success': True,\n",
       " 'rows_inserted': 2,\n",
       " 'report': SmartReport(operation='SMART_INSERT', success=True, execution_time_ms=3583.235740661621, data_summary={}, performance={}, memory_usage_mb=0.0, cpu_time_ms=0.0, io_operations=0, info_messages=['[15:34:49] Starting smart insert: 2 rows to users_staging', '[15:34:50] Connection health check passed', '[15:34:50] DataFrame validation passed: 2 rows, 2 columns', '[15:34:50] Schema and table preparation completed', '[15:34:53] Connection pool utilization: 0/5', '[15:34:53] Insert completed: 2 rows inserted'], warning_messages=[], error_messages=[], recommendation_messages=[], connection_healthy=True, database_version='PostgreSQL 17.5 on aarch64-unknown-linux-gnu, compiled by gcc (Debian 12.2.0-14+deb12u1) 12.2.0, 64-bit', connection_time_ms=339.4780158996582, timestamp='2025-08-19T15:34:49.731717'),\n",
       " 'table_created': False,\n",
       " 'indexes_created': []}"
      ]
     },
     "execution_count": 7,
     "metadata": {},
     "output_type": "execute_result"
    }
   ],
   "source": [
    "# Cell for DataFrame insertion\n",
    "df = pd.DataFrame([{\"name\": \"Carol\", \"active\": True}, {\"name\": \"Dave\", \"active\": False}])\n",
    "ins = db.smart_insert(df, table=\"users_staging\", if_exists=\"replace\", create_indexes=True)\n",
    "ins"
   ]
  },
  {
   "cell_type": "markdown",
   "metadata": {},
   "source": [
    "## 4. smart_query — fetch data as DataFrame + SmartReport"
   ]
  },
  {
   "cell_type": "code",
   "execution_count": 8,
   "metadata": {},
   "outputs": [
    {
     "data": {
      "text/html": [
       "<div>\n",
       "<style scoped>\n",
       "    .dataframe tbody tr th:only-of-type {\n",
       "        vertical-align: middle;\n",
       "    }\n",
       "\n",
       "    .dataframe tbody tr th {\n",
       "        vertical-align: top;\n",
       "    }\n",
       "\n",
       "    .dataframe thead th {\n",
       "        text-align: right;\n",
       "    }\n",
       "</style>\n",
       "<table border=\"1\" class=\"dataframe\">\n",
       "  <thead>\n",
       "    <tr style=\"text-align: right;\">\n",
       "      <th></th>\n",
       "      <th>id</th>\n",
       "      <th>name</th>\n",
       "      <th>active</th>\n",
       "    </tr>\n",
       "  </thead>\n",
       "  <tbody>\n",
       "    <tr>\n",
       "      <th>0</th>\n",
       "      <td>1</td>\n",
       "      <td>Alice</td>\n",
       "      <td>True</td>\n",
       "    </tr>\n",
       "    <tr>\n",
       "      <th>1</th>\n",
       "      <td>3</td>\n",
       "      <td>Alice</td>\n",
       "      <td>True</td>\n",
       "    </tr>\n",
       "    <tr>\n",
       "      <th>2</th>\n",
       "      <td>5</td>\n",
       "      <td>Alice</td>\n",
       "      <td>True</td>\n",
       "    </tr>\n",
       "    <tr>\n",
       "      <th>3</th>\n",
       "      <td>7</td>\n",
       "      <td>Alice</td>\n",
       "      <td>True</td>\n",
       "    </tr>\n",
       "    <tr>\n",
       "      <th>4</th>\n",
       "      <td>2</td>\n",
       "      <td>Bob</td>\n",
       "      <td>True</td>\n",
       "    </tr>\n",
       "  </tbody>\n",
       "</table>\n",
       "</div>"
      ],
      "text/plain": [
       "   id   name  active\n",
       "0   1  Alice    True\n",
       "1   3  Alice    True\n",
       "2   5  Alice    True\n",
       "3   7  Alice    True\n",
       "4   2    Bob    True"
      ]
     },
     "metadata": {},
     "output_type": "display_data"
    },
    {
     "data": {
      "text/plain": [
       "{'operation': 'SMART_QUERY',\n",
       " 'success': True,\n",
       " 'execution_time_ms': 1038.99,\n",
       " 'data_summary': {'rows': 0, 'columns': 0, 'size_mb': 0.0, 'quality_score': 0},\n",
       " 'performance': {'connection_time_ms': 0.0, 'memory_mb': 0.0, 'io_ops': 0},\n",
       " 'status': {'info_count': 5, 'warnings': 0, 'errors': 0, 'recommendations': 0},\n",
       " 'messages': {'info': ['[15:34:53] Starting smart query operation',\n",
       "   '[15:34:53] Connection health check passed',\n",
       "   '[15:34:53] Query automatically optimized',\n",
       "   '[15:34:54] Connection pool utilization: 0/5',\n",
       "   '[15:34:54] Query completed successfully: 8 rows retrieved'],\n",
       "  'warnings': [],\n",
       "  'errors': [],\n",
       "  'recommendations': []}}"
      ]
     },
     "execution_count": 8,
     "metadata": {},
     "output_type": "execute_result"
    }
   ],
   "source": [
    "# Cell for querying data\n",
    "out = db.smart_query(\"SELECT * FROM users WHERE active = true\", analyze_data=True)\n",
    "display(out[\"data\"].head())\n",
    "out[\"report\"].summary()"
   ]
  },
  {
   "cell_type": "markdown",
   "metadata": {},
   "source": [
    "## 5. get_table_info"
   ]
  },
  {
   "cell_type": "code",
   "execution_count": 9,
   "metadata": {},
   "outputs": [
    {
     "data": {
      "text/plain": [
       "{'exists': True,\n",
       " 'columns': [{'name': 'id',\n",
       "   'type': INTEGER(),\n",
       "   'nullable': False,\n",
       "   'default': \"nextval('users_id_seq'::regclass)\",\n",
       "   'autoincrement': True,\n",
       "   'comment': None},\n",
       "  {'name': 'name',\n",
       "   'type': VARCHAR(length=100),\n",
       "   'nullable': True,\n",
       "   'default': None,\n",
       "   'autoincrement': False,\n",
       "   'comment': None},\n",
       "  {'name': 'active',\n",
       "   'type': BOOLEAN(),\n",
       "   'nullable': True,\n",
       "   'default': None,\n",
       "   'autoincrement': False,\n",
       "   'comment': None}],\n",
       " 'primary_key': ['id'],\n",
       " 'foreign_keys': [],\n",
       " 'indexes': [],\n",
       " 'column_count': 3,\n",
       " 'has_primary_key': True}"
      ]
     },
     "execution_count": 9,
     "metadata": {},
     "output_type": "execute_result"
    }
   ],
   "source": [
    "info = db.get_table_info(\"users\")\n",
    "info"
   ]
  },
  {
   "cell_type": "markdown",
   "metadata": {},
   "source": [
    "## 6. SmartReport message collection"
   ]
  },
  {
   "cell_type": "code",
   "execution_count": 10,
   "metadata": {},
   "outputs": [
    {
     "name": "stdout",
     "output_type": "stream",
     "text": [
      "=== SmartReport Summary ===\n",
      "operation: TEST\n",
      "success: False\n",
      "execution_time_ms: 0.0\n",
      "data_summary: {'rows': 0, 'columns': 0, 'size_mb': 0.0, 'quality_score': 0}\n",
      "performance: {'connection_time_ms': 0.0, 'memory_mb': 0.0, 'io_ops': 0}\n",
      "status: {'info_count': 1, 'warnings': 1, 'errors': 1, 'recommendations': 1}\n",
      "messages: {'info': ['[15:34:57] info msg'], 'warnings': ['[15:34:57] warn msg'], 'errors': ['[15:34:57] error msg'], 'recommendations': ['[15:34:57] recommend msg']}\n",
      "\n",
      "=== Messages ===\n",
      "Info: ['[15:34:57] info msg']\n",
      "Warnings: ['[15:34:57] warn msg']\n",
      "Errors: ['[15:34:57] error msg']\n",
      "Recommendations: ['[15:34:57] recommend msg']\n"
     ]
    }
   ],
   "source": [
    "rep = SmartReport(operation=\"TEST\")\n",
    "rep.add_info(\"info msg\")\n",
    "rep.add_warning(\"warn msg\")\n",
    "rep.add_error(\"error msg\")\n",
    "rep.add_recommendation(\"recommend msg\")\n",
    "\n",
    "# Show full summary with messages\n",
    "summary = rep.summary()\n",
    "print(\"=== SmartReport Summary ===\")\n",
    "for key, value in summary.items():\n",
    "    print(f\"{key}: {value}\")\n",
    "\n",
    "# Show messages using correct attribute names\n",
    "print(\"\\n=== Messages ===\")\n",
    "print(\"Info:\", rep.info)\n",
    "print(\"Warnings:\", rep.warnings)\n",
    "print(\"Errors:\", rep.errors)\n",
    "print(\"Recommendations:\", rep.recommendations)"
   ]
  },
  {
   "cell_type": "markdown",
   "metadata": {},
   "source": [
    "## 7. Run comprehensive demo (smoke test)"
   ]
  },
  {
   "cell_type": "code",
   "execution_count": 11,
   "metadata": {},
   "outputs": [
    {
     "name": "stdout",
     "output_type": "stream",
     "text": [
      "🎯 db_connector Demo Starting...\n",
      "✅ Connected to database...\n",
      "✅ Health check passed...\n",
      "✅ Demo table created...\n",
      "✅ Sample data inserted...\n",
      "✅ Query executed, found 2 rows\n",
      "🎉 Demo completed successfully!\n",
      "✅ Connection closed\n"
     ]
    }
   ],
   "source": [
    "run_comprehensive_demo()"
   ]
  },
  {
   "cell_type": "markdown",
   "metadata": {},
   "source": [
    "## 8. Close connection"
   ]
  },
  {
   "cell_type": "code",
   "execution_count": 12,
   "metadata": {},
   "outputs": [],
   "source": [
    "db.close()"
   ]
  }
 ],
 "metadata": {
  "kernelspec": {
   "display_name": "Python 3",
   "language": "python",
   "name": "python3"
  },
  "language_info": {
   "codemirror_mode": {
    "name": "ipython",
    "version": 3
   },
   "file_extension": ".py",
   "mimetype": "text/x-python",
   "name": "python",
   "nbconvert_exporter": "python",
   "pygments_lexer": "ipython3",
   "version": "3.12.3"
  }
 },
 "nbformat": 4,
 "nbformat_minor": 2
}
