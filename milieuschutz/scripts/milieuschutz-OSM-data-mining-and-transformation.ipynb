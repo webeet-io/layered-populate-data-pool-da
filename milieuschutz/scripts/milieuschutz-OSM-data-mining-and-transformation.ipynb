{
 "cells": [
  {
   "cell_type": "markdown",
   "id": "1c9cc8d9",
   "metadata": {},
   "source": [
    "## 🏙️ Milieuschutz House-Level Join — Urban Character Preservation Zones (ES)\n",
    "\n",
    "Now we perform the same address-level extraction, this time focusing on **Urban Character Preservation Zones (ES)**.\n",
    "\n",
    "### 🎯 Objectives\n",
    "\n",
    "- Loop through each ES zone polygon\n",
    "- Query OpenStreetMap (OSM) for `addr:housenumber`, `addr:street`, `addr:postcode`, and other building tags\n",
    "- Create a clean GeoDataFrame with key metadata for each matched address\n",
    "\n",
    "---\n",
    "\n",
    "### 📌 Expected Output Columns\n",
    "\n",
    "| Column Name         | Description                                                  |\n",
    "|---------------------|--------------------------------------------------------------|\n",
    "| `addr:housenumber`  | Street number of the building                                |\n",
    "| `addr:street`       | Name of the street                                           |\n",
    "| `addr:postcode`     | Postal code (if available in OSM)                           |\n",
    "| `geometry`          | Point location of the house                                 |\n",
    "| `lat`, `lon`        | Coordinates derived from geometry                           |\n",
    "| `milieuschutz_zone` | Name of the protection zone                                 |\n",
    "| `neighborhood`      | One of Berlin’s 12 official districts                       |\n",
    "| `milieuschutz_type` | Always set to `\"Urban Character Preservation\"`              |\n",
    "| `building`          | OSM building tag (e.g. \"residential\", \"commercial\")         |\n",
    "| `osm_id`            | Unique OSM identifier for traceability                      |\n",
    "| `source`            | Always \"OSM\" in this context                                |\n",
    "| `data_quality`      | Optional flag for completeness checks                       |\n",
    "\n",
    "---\n",
    "\n",
    "### ✅ Notes for Students\n",
    "\n",
    "- 🧠 `neighborhood` is your project-wide **join key** — always keep it clean and consistent\n",
    "- 🧭 Not all OSM records include `addr:postcode` or `building`, so null values are expected\n",
    "- 🛠️ You can manually flag entries missing `addr:housenumber` or `addr:street` for data quality checks\n",
    "- 📦 Use this table for merging with other datasets like green space, schools, noise zones, etc.\n",
    "- 🧪 Save results as both `.geojson` and `.csv` for downstream usage\n",
    "\n",
    "Let’s link urban preservation policies to actual homes — one address at a time. Engage engines. 🖖"
   ]
  },
  {
   "cell_type": "code",
   "execution_count": 4,
   "id": "d81756d4",
   "metadata": {},
   "outputs": [],
   "source": [
    "import osmnx as ox # osmnx is used for OpenStreetMap data extraction\n",
    "from tqdm import tqdm # tqdm is used for progress bars \n",
    "import geopandas as gpd # geopandas is used for geospatial data manipulation\n",
    "import pandas as pd # pandas is used for data manipulation and analysis"
   ]
  },
  {
   "cell_type": "code",
   "execution_count": 5,
   "id": "ea9f4321",
   "metadata": {},
   "outputs": [
    {
     "data": {
      "text/plain": [
       "'\\n# Load cleaned ES zones\\nmilieuschutz_urban_character_preservation_es = gpd.read_file(\\n    \"/Users/zeal.v/Help/layered-populate-data-pool-da/milieuschutz/sources/milieuschutz_urban_character_preservation_zones_clean.geojson\"\\n).to_crs(\"EPSG:4326\")\\n\\n# Prepare list to collect address data\\nurban_character_address_points = []\\n\\n# Loop over each ES zone\\nfor _, row in tqdm(milieuschutz_urban_character_preservation_es.iterrows(),\\n                   total=len(milieuschutz_urban_character_preservation_es),\\n                   desc=\"🔍 Fetching addresses from OSM (ES)\"):\\n    try:\\n        zone_name = row[\"gebietsname\"]\\n        neighborhood = row[\"bezirk\"]\\n        polygon = row[\"geometry\"]\\n\\n        # Fetch OSM features with relevant tags\\n        tags = {\\n            \"addr:housenumber\": True,\\n            \"addr:street\": True,\\n            \"addr:postcode\": True,\\n            \"building\": True\\n        }\\n        gdf = ox.features_from_polygon(polygon, tags)\\n\\n        # ✅ Filter only Point geometries\\n        gdf = gdf[gdf.geometry.type == \"Point\"].copy()\\n\\n        # 📋 Keep only relevant columns\\n        cols = [\"addr:housenumber\", \"addr:street\", \"addr:postcode\", \"building\", \"geometry\", \"osmid\"]\\n        gdf = gdf[[col for col in cols if col in gdf.columns]].copy()\\n\\n        # 🧩 Enrich with zone metadata\\n        gdf[\"milieuschutz_zone\"] = zone_name\\n        gdf[\"neighborhood\"] = neighborhood\\n        gdf[\"milieuschutz_type\"] = \"Urban Character Preservation\"\\n        gdf[\"source\"] = \"OSM\"\\n\\n        # 🌐 Add lat/lon coordinates\\n        gdf[\"lon\"] = gdf.geometry.x\\n        gdf[\"lat\"] = gdf.geometry.y\\n\\n        # ✅ Add data quality flag\\n        gdf[\"data_quality\"] = gdf[\"addr:housenumber\"].notna() & gdf[\"addr:street\"].notna()\\n\\n        # Append to result\\n        urban_character_address_points.append(gdf)\\n\\n    except Exception as e:\\n        print(f\"❌ Zone \\'{zone_name}\\' failed: {e}\")\\n\\n# 🧱 Final GeoDataFrame\\nurban_character_preservation_houses = gpd.GeoDataFrame(\\n    pd.concat(urban_character_address_points, ignore_index=True),\\n    crs=\"EPSG:4326\"\\n)\\n\\n# 👀 Preview\\nurban_character_preservation_houses.head()\\n'"
      ]
     },
     "execution_count": 5,
     "metadata": {},
     "output_type": "execute_result"
    }
   ],
   "source": [
    "'''\n",
    "# Load cleaned ES zones\n",
    "milieuschutz_urban_character_preservation_es = gpd.read_file(\n",
    "    \"/Users/zeal.v/Help/layered-populate-data-pool-da/milieuschutz/sources/milieuschutz_urban_character_preservation_zones_clean.geojson\"\n",
    ").to_crs(\"EPSG:4326\")\n",
    "\n",
    "# Prepare list to collect address data\n",
    "urban_character_address_points = []\n",
    "\n",
    "# Loop over each ES zone\n",
    "for _, row in tqdm(milieuschutz_urban_character_preservation_es.iterrows(),\n",
    "                   total=len(milieuschutz_urban_character_preservation_es),\n",
    "                   desc=\"🔍 Fetching addresses from OSM (ES)\"):\n",
    "    try:\n",
    "        zone_name = row[\"gebietsname\"]\n",
    "        neighborhood = row[\"bezirk\"]\n",
    "        polygon = row[\"geometry\"]\n",
    "\n",
    "        # Fetch OSM features with relevant tags\n",
    "        tags = {\n",
    "            \"addr:housenumber\": True,\n",
    "            \"addr:street\": True,\n",
    "            \"addr:postcode\": True,\n",
    "            \"building\": True\n",
    "        }\n",
    "        gdf = ox.features_from_polygon(polygon, tags)\n",
    "\n",
    "        # ✅ Filter only Point geometries\n",
    "        gdf = gdf[gdf.geometry.type == \"Point\"].copy()\n",
    "\n",
    "        # 📋 Keep only relevant columns\n",
    "        cols = [\"addr:housenumber\", \"addr:street\", \"addr:postcode\", \"building\", \"geometry\", \"osmid\"]\n",
    "        gdf = gdf[[col for col in cols if col in gdf.columns]].copy()\n",
    "\n",
    "        # 🧩 Enrich with zone metadata\n",
    "        gdf[\"milieuschutz_zone\"] = zone_name\n",
    "        gdf[\"neighborhood\"] = neighborhood\n",
    "        gdf[\"milieuschutz_type\"] = \"Urban Character Preservation\"\n",
    "        gdf[\"source\"] = \"OSM\"\n",
    "\n",
    "        # 🌐 Add lat/lon coordinates\n",
    "        gdf[\"lon\"] = gdf.geometry.x\n",
    "        gdf[\"lat\"] = gdf.geometry.y\n",
    "\n",
    "        # ✅ Add data quality flag\n",
    "        gdf[\"data_quality\"] = gdf[\"addr:housenumber\"].notna() & gdf[\"addr:street\"].notna()\n",
    "\n",
    "        # Append to result\n",
    "        urban_character_address_points.append(gdf)\n",
    "\n",
    "    except Exception as e:\n",
    "        print(f\"❌ Zone '{zone_name}' failed: {e}\")\n",
    "\n",
    "# 🧱 Final GeoDataFrame\n",
    "urban_character_preservation_houses = gpd.GeoDataFrame(\n",
    "    pd.concat(urban_character_address_points, ignore_index=True),\n",
    "    crs=\"EPSG:4326\"\n",
    ")\n",
    "\n",
    "# 👀 Preview\n",
    "urban_character_preservation_houses.head()\n",
    "''' "
   ]
  },
  {
   "cell_type": "markdown",
   "id": "f25653ab",
   "metadata": {},
   "source": [
    "## 🏡 Milieuschutz House-Level Join — Residential Protection Zones (EM)\n",
    "\n",
    "In this phase, we enrich our spatial join results for **Residential Protection Zones (EM)** with additional metadata for each address. This ensures that our house-level dataset is ready for analysis, visualization, and database integration.\n",
    "\n",
    "We use:\n",
    "\n",
    "- 🗂️ Cleaned GeoJSON: `milieuschutz_residential_protection_zones_clean.geojson`\n",
    "- 🌍 OSM address data via `osmnx`\n",
    "- 🧠 Custom enrichment: postal code, lat/lon, quality flags, etc.\n",
    "\n",
    "---\n",
    "\n",
    "### 📥 Output Columns\n",
    "\n",
    "Each resulting entry contains:\n",
    "\n",
    "| Column Name         | Description                                                  |\n",
    "|---------------------|--------------------------------------------------------------|\n",
    "| `addr:housenumber`  | House or building number                                     |\n",
    "| `addr:street`       | Street name                                                  |\n",
    "| `addr:postcode`     | Postal code                                                  |\n",
    "| `building`          | Type of building (e.g., residential, commercial)             |\n",
    "| `geometry`          | Point geometry (WGS84)                                       |\n",
    "| `milieuschutz_zone` | Name of the protection zone                                  |\n",
    "| `neighborhood`      | Berlin district (Bezirk) — **primary project key**           |\n",
    "| `milieuschutz_type` | Always set to `\"Residential Protection\"`                    |\n",
    "| `source`            | Data source, here: `\"OSM\"`                                   |\n",
    "| `lon` / `lat`       | Longitude and latitude (from geometry)                       |\n",
    "| `data_quality`      | Boolean flag for complete address info                       |\n",
    "\n",
    "---\n",
    "\n",
    "### ✅ Notes for Students\n",
    "\n",
    "- 🌐 Coordinates are auto-extracted using `.x` / `.y` from geometry\n",
    "- 🏛️ You can now export this table to `.geojson`, `.csv`, or load it into a spatial database\n",
    "- 📬 Not all OSM points have postal codes or building types — use `data_quality` to filter\n",
    "- 🧩 This schema matches that of the ES table — great for union, joins, or mapping\n",
    "\n",
    "Clean data, full metadata, one galaxy-class table. 🖖"
   ]
  },
  {
   "cell_type": "code",
   "execution_count": 6,
   "id": "4ae119bb",
   "metadata": {},
   "outputs": [
    {
     "data": {
      "text/plain": [
       "'\\n# Load EM zones\\nmilieuschutz_residential_protection_em = gpd.read_file(\\n    \"/Users/zeal.v/Help/layered-populate-data-pool-da/milieuschutz/sources/milieuschutz_residential_protection_zones_clean.geojson\"\\n).to_crs(\"EPSG:4326\")\\n\\n# Collector\\nresidential_address_points = []\\n\\nfor _, row in tqdm(milieuschutz_residential_protection_em.iterrows(),\\n                   total=len(milieuschutz_residential_protection_em),\\n                   desc=\"🔍 Fetching addresses from OSM (EM)\"):\\n    try:\\n        zone_name = row[\"gebietsname\"]\\n        neighborhood = row[\"bezirk\"]\\n        polygon = row[\"geometry\"]\\n\\n        # Query enriched address data from OSM\\n        tags = {\\n            \"addr:housenumber\": True,\\n            \"addr:street\": True,\\n            \"addr:postcode\": True,\\n            \"building\": True\\n        }\\n        gdf = ox.features_from_polygon(polygon, tags)\\n\\n        # Keep only relevant columns\\n        cols = [\"addr:housenumber\", \"addr:street\", \"addr:postcode\", \"building\", \"geometry\"]\\n        gdf = gdf[[col for col in cols if col in gdf.columns]].copy()\\n\\n        # Enrich with metadata\\n        gdf[\"milieuschutz_zone\"] = zone_name\\n        gdf[\"neighborhood\"] = neighborhood\\n        gdf[\"milieuschutz_type\"] = \"Residential Protection\"\\n        gdf[\"source\"] = \"OSM\"\\n\\n        # Only keep rows with Point geometry before adding lon/lat\\n        gdf = gdf[gdf.geometry.type == \"Point\"]\\n        gdf[\"lon\"] = gdf.geometry.x\\n        gdf[\"lat\"] = gdf.geometry.y\\n\\n        # Flag for missing fields\\n        gdf[\"data_quality\"] = gdf[\"addr:housenumber\"].notna() & gdf[\"addr:street\"].notna()\\n\\n        residential_address_points.append(gdf)\\n\\n    except Exception as e:\\n        print(f\"❌ Zone \\'{zone_name}\\' failed: {e}\")\\n\\n# Merge all\\nresidential_protection_houses = gpd.GeoDataFrame(\\n    pd.concat(residential_address_points, ignore_index=True),\\n    crs=\"EPSG:4326\"\\n)\\n\\n# Preview\\nresidential_protection_houses.head()\\n'"
      ]
     },
     "execution_count": 6,
     "metadata": {},
     "output_type": "execute_result"
    }
   ],
   "source": [
    "'''\n",
    "# Load EM zones\n",
    "milieuschutz_residential_protection_em = gpd.read_file(\n",
    "    \"/Users/zeal.v/Help/layered-populate-data-pool-da/milieuschutz/sources/milieuschutz_residential_protection_zones_clean.geojson\"\n",
    ").to_crs(\"EPSG:4326\")\n",
    "\n",
    "# Collector\n",
    "residential_address_points = []\n",
    "\n",
    "for _, row in tqdm(milieuschutz_residential_protection_em.iterrows(),\n",
    "                   total=len(milieuschutz_residential_protection_em),\n",
    "                   desc=\"🔍 Fetching addresses from OSM (EM)\"):\n",
    "    try:\n",
    "        zone_name = row[\"gebietsname\"]\n",
    "        neighborhood = row[\"bezirk\"]\n",
    "        polygon = row[\"geometry\"]\n",
    "\n",
    "        # Query enriched address data from OSM\n",
    "        tags = {\n",
    "            \"addr:housenumber\": True,\n",
    "            \"addr:street\": True,\n",
    "            \"addr:postcode\": True,\n",
    "            \"building\": True\n",
    "        }\n",
    "        gdf = ox.features_from_polygon(polygon, tags)\n",
    "\n",
    "        # Keep only relevant columns\n",
    "        cols = [\"addr:housenumber\", \"addr:street\", \"addr:postcode\", \"building\", \"geometry\"]\n",
    "        gdf = gdf[[col for col in cols if col in gdf.columns]].copy()\n",
    "\n",
    "        # Enrich with metadata\n",
    "        gdf[\"milieuschutz_zone\"] = zone_name\n",
    "        gdf[\"neighborhood\"] = neighborhood\n",
    "        gdf[\"milieuschutz_type\"] = \"Residential Protection\"\n",
    "        gdf[\"source\"] = \"OSM\"\n",
    "\n",
    "        # Only keep rows with Point geometry before adding lon/lat\n",
    "        gdf = gdf[gdf.geometry.type == \"Point\"]\n",
    "        gdf[\"lon\"] = gdf.geometry.x\n",
    "        gdf[\"lat\"] = gdf.geometry.y\n",
    "\n",
    "        # Flag for missing fields\n",
    "        gdf[\"data_quality\"] = gdf[\"addr:housenumber\"].notna() & gdf[\"addr:street\"].notna()\n",
    "\n",
    "        residential_address_points.append(gdf)\n",
    "\n",
    "    except Exception as e:\n",
    "        print(f\"❌ Zone '{zone_name}' failed: {e}\")\n",
    "\n",
    "# Merge all\n",
    "residential_protection_houses = gpd.GeoDataFrame(\n",
    "    pd.concat(residential_address_points, ignore_index=True),\n",
    "    crs=\"EPSG:4326\"\n",
    ")\n",
    "\n",
    "# Preview\n",
    "residential_protection_houses.head()\n",
    "''' "
   ]
  },
  {
   "cell_type": "markdown",
   "id": "afdcc675",
   "metadata": {},
   "source": [
    "## 💾 Exporting Final Enriched House-Level Tables\n",
    "\n",
    "With both EM and ES datasets now enriched and cleaned, we are ready to **export our final house-level GeoDataFrames**. These tables include additional useful fields such as:\n",
    "\n",
    "- 🏷️ `addr:postcode`, `building`, and `osm_id` (when available)\n",
    "- 🧭 `lon`, `lat` coordinates for export\n",
    "- ⚠️ `data_quality` flag for addresses with missing values\n",
    "- 📍 `neighborhood` and `milieuschutz_zone` preserved as project keys\n",
    "\n",
    "---\n",
    "\n",
    "### 📁 Output Format and Naming\n",
    "\n",
    "We save each dataset in two formats for flexibility:\n",
    "\n",
    "| Format | Use Case |\n",
    "|--------|----------|\n",
    "| `.geojson` | Spatial analysis & GIS |\n",
    "| `.csv`     | Tabular workflows, SQL, or dashboards |\n",
    "\n",
    "---\n",
    "\n",
    "### 📄 File Naming Convention\n",
    "\n",
    "To reflect the **house-level granularity**, we name the final files:\n",
    "\n",
    "- `milieuschutz_residential_protection_em_houselevel_enriched.geojson / .csv`\n",
    "- `milieuschutz_urban_character_preservation_es_houselevel_enriched.geojson / .csv`\n",
    "\n",
    "These files will be exported to:\n",
    "\n",
    "📂 `/Users/zeal.v/Help/layered-populate-data-pool-da/milieuschutz/sources`\n",
    "\n",
    "🖖 Engage data export — tidy, well-documented datasets are the foundation of good analysis."
   ]
  },
  {
   "cell_type": "code",
   "execution_count": 7,
   "id": "80d822d7",
   "metadata": {},
   "outputs": [
    {
     "data": {
      "text/plain": [
       "'\\n# Absolute export directory (adjusted to your project path)\\nexport_dir = \"/Users/zeal.v/Help/layered-populate-data-pool-da/milieuschutz/sources\"\\nos.makedirs(export_dir, exist_ok=True)\\n\\n# EM = Residential Protection Zones\\nem_geojson_path = os.path.join(export_dir, \"milieuschutz_residential_protection_em_houselevel_enriched.geojson\")\\nem_csv_path     = os.path.join(export_dir, \"milieuschutz_residential_protection_em_houselevel_enriched.csv\")\\n\\n# ES = Urban Character Preservation Zones\\nes_geojson_path = os.path.join(export_dir, \"milieuschutz_urban_character_preservation_es_houselevel_enriched.geojson\")\\nes_csv_path     = os.path.join(export_dir, \"milieuschutz_urban_character_preservation_es_houselevel_enriched.csv\")\\n\\n# Export both as GeoJSON (with geometry) and CSV (without geometry)\\nresidential_protection_houses.to_file(em_geojson_path, driver=\"GeoJSON\")\\nurban_character_preservation_houses.to_file(es_geojson_path, driver=\"GeoJSON\")\\n\\nresidential_protection_houses.drop(columns=\"geometry\").to_csv(em_csv_path, index=False)\\nurban_character_preservation_houses.drop(columns=\"geometry\").to_csv(es_csv_path, index=False)\\n\\nprint(\"✅ Enriched house-level EM & ES data exported to \\'sources\\' directory.\")\\n'"
      ]
     },
     "execution_count": 7,
     "metadata": {},
     "output_type": "execute_result"
    }
   ],
   "source": [
    "'''\n",
    "# Absolute export directory (adjusted to your project path)\n",
    "export_dir = \"/Users/zeal.v/Help/layered-populate-data-pool-da/milieuschutz/sources\"\n",
    "os.makedirs(export_dir, exist_ok=True)\n",
    "\n",
    "# EM = Residential Protection Zones\n",
    "em_geojson_path = os.path.join(export_dir, \"milieuschutz_residential_protection_em_houselevel_enriched.geojson\")\n",
    "em_csv_path     = os.path.join(export_dir, \"milieuschutz_residential_protection_em_houselevel_enriched.csv\")\n",
    "\n",
    "# ES = Urban Character Preservation Zones\n",
    "es_geojson_path = os.path.join(export_dir, \"milieuschutz_urban_character_preservation_es_houselevel_enriched.geojson\")\n",
    "es_csv_path     = os.path.join(export_dir, \"milieuschutz_urban_character_preservation_es_houselevel_enriched.csv\")\n",
    "\n",
    "# Export both as GeoJSON (with geometry) and CSV (without geometry)\n",
    "residential_protection_houses.to_file(em_geojson_path, driver=\"GeoJSON\")\n",
    "urban_character_preservation_houses.to_file(es_geojson_path, driver=\"GeoJSON\")\n",
    "\n",
    "residential_protection_houses.drop(columns=\"geometry\").to_csv(em_csv_path, index=False)\n",
    "urban_character_preservation_houses.drop(columns=\"geometry\").to_csv(es_csv_path, index=False)\n",
    "\n",
    "print(\"✅ Enriched house-level EM & ES data exported to 'sources' directory.\")\n",
    "'''"
   ]
  },
  {
   "cell_type": "markdown",
   "id": "9d8e89a6",
   "metadata": {},
   "source": [
    "## 🧼 Initial Data Overview — House-Level Enriched Milieuschutz Tables\n",
    "\n",
    "We now have **two enriched house-level datasets** created using an **OSM-based geospatial mining pipeline**. These datasets contain individual address points located within Berlin's official Milieuschutz zones, divided into two categories:\n",
    "\n",
    "- 🏘️ **Residential Protection Zones (EM)**  \n",
    "- 🏙️ **Urban Character Preservation Zones (ES)**  \n",
    "\n",
    "Both were sourced via polygon-based queries to **OpenStreetMap (OSM)** and enriched with zone metadata, coordinates, and quality flags.\n",
    "\n",
    "---\n",
    "\n",
    "### 📊 Dataset Snapshot\n",
    "\n",
    "| Feature              | `milieuschutz_residential_protection_em_houselevel_enriched.csv` | `milieuschutz_urban_character_preservation_es_houselevel_enriched.csv` |\n",
    "|----------------------|--------------------------------------------------------------------|-------------------------------------------------------------------------|\n",
    "| 📦 Rows              | 58,533                                                             | 31,310                                                                  |\n",
    "| 📁 Columns           | 12                                                                 | 12                                                                      |\n",
    "| 📮 `addr:postcode`   | Present in ~97% of rows                                             | Present in ~97% of rows                                                 |\n",
    "| 🏢 `building`        | Sparse (mostly missing — ~16 values)                               | Sparse (~13 values)                                                     |\n",
    "| 🗺️ Geometry          | Provided in `geometry`, plus `lon` and `lat` columns                | ✅ Same                                                                 |\n",
    "| 🧪 `data_quality`     | Boolean column indicating if address is complete                   | ✅ Present                                                               |\n",
    "| 📌 `source`          | Static value `\"OSM\"` for all entries                               | ✅ Confirmed                                                             |\n",
    "\n",
    "---\n",
    "\n",
    "### 🎯 Immediate Cleaning + EDA Goals\n",
    "\n",
    "1. 🔡 Normalize column types (especially strings & categoricals)\n",
    "2. 🧼 Review and handle null values (e.g. `building`, `postcode`)\n",
    "3. 📏 Check value distributions per neighborhood and zone\n",
    "4. 🧠 Prepare for future joins (e.g. with schools, transit layers, etc.)\n",
    "\n",
    "---\n",
    "\n",
    "### ✅ Notes for Students\n",
    "\n",
    "- 🧠 This data was gathered using **geospatial data mining** from public sources — quality varies by district and source.\n",
    "- 📊 Before any advanced modeling, always perform a **diagnostic scan** of the dataset — look for missing fields, weird outliers, and inconsistencies.\n",
    "- 📉 Memory usage can be reduced drastically with correct `category` usage — especially in repeated fields like `milieuschutz_zone`.\n",
    "- 🛰️ Columns like `lat`/`lon` help in non-GIS applications (dashboards, mobile apps, etc.).\n",
    "\n",
    "Next up: a careful cleanup of types and structure — let’s boldly begin. 🖖"
   ]
  },
  {
   "cell_type": "markdown",
   "id": "c5a9bdef",
   "metadata": {},
   "source": [
    "## 🧼 Data Type Optimization — House-Level Residential & Urban Milieuschutz Tables\n",
    "\n",
    "Before starting our exploratory data analysis (EDA), we need to **standardize and optimize data types** across both datasets. This step is essential for improving:\n",
    "\n",
    "- 🧠 Semantic clarity — e.g., treating postcodes as text, not numbers\n",
    "- ⚡ Performance — faster filtering, grouping, and joining\n",
    "- 📦 Memory usage — smaller `.csv` and `.geojson` exports\n",
    "- 🔁 Interoperability — consistency with other project layers\n",
    "\n",
    "We will convert the most appropriate fields into `string`, `category`, or `bool` types as needed.\n",
    "\n",
    "---\n",
    "\n",
    "### 📌 Suggested Data Type Conversions\n",
    "\n",
    "| Column Name         | Current Type | Suggested Type | Why?                                                                 |\n",
    "|---------------------|--------------|----------------|----------------------------------------------------------------------|\n",
    "| `addr:housenumber`  | object       | `string`       | May contain alphanumeric formats (e.g., \"12A\") — not numeric         |\n",
    "| `addr:street`       | object       | `string`       | Street names are always text                                        |\n",
    "| `addr:postcode`     | object       | `string`       | Postcodes can start with `0` (e.g., \"01099\") — treat as text         |\n",
    "| `building`          | object       | `category`     | Often repeated (e.g., \"residential\", \"apartments\") — compressible    |\n",
    "| `milieuschutz_zone` | object       | `category`     | Repeated zone names — good candidate for category                    |\n",
    "| `neighborhood`      | object       | `category`     | Project-wide key used across tables — keep consistent                |\n",
    "| `milieuschutz_type` | object       | `category`     | Only two values — perfect for categorical optimization               |\n",
    "| `source`            | object       | `category`     | Usually has a few values (e.g., \"OSM\", \"WFS\") — compress to category |\n",
    "| `lon` / `lat`       | float64      | `float64`      | Geographic coordinates — keep as float                              |\n",
    "| `data_quality`      | bool         | `bool`         | Boolean flag — already optimal                                      |\n",
    "\n",
    "---\n",
    "\n",
    "### ✅ Notes for Students\n",
    "\n",
    "- 📊 Use `string` over `int` for postal codes and house numbers to prevent formatting issues.\n",
    "- 🧪 After conversion, try running `.info()` and `.memory_usage(deep=True)` to inspect efficiency gains.\n",
    "- 🧭 Always keep `neighborhood` and `milieuschutz_type` in `category` format for consistency across analysis and joins.\n",
    "- 🧼 This step is like preparing a clean lab bench — it helps everything else run smoother.\n",
    "- 🛸 Good data hygiene = faster science. Engage, students! 🖖"
   ]
  },
  {
   "cell_type": "code",
   "execution_count": 8,
   "id": "abda4b15",
   "metadata": {},
   "outputs": [
    {
     "name": "stdout",
     "output_type": "stream",
     "text": [
      "✅ Data types after conversion (Residential):\n",
      "\n",
      "addr:housenumber     string[python]\n",
      "addr:street          string[python]\n",
      "addr:postcode        string[python]\n",
      "building                   category\n",
      "milieuschutz_zone          category\n",
      "neighborhood               category\n",
      "milieuschutz_type          category\n",
      "source                     category\n",
      "lon                         float64\n",
      "lat                         float64\n",
      "data_quality                boolean\n",
      "dtype: object\n",
      "\n",
      "✅ Data types after conversion (Urban):\n",
      "\n",
      "addr:housenumber     string[python]\n",
      "addr:street          string[python]\n",
      "addr:postcode        string[python]\n",
      "building                   category\n",
      "milieuschutz_zone          category\n",
      "neighborhood               category\n",
      "milieuschutz_type          category\n",
      "source                     category\n",
      "lon                         float64\n",
      "lat                         float64\n",
      "data_quality                boolean\n",
      "dtype: object\n"
     ]
    }
   ],
   "source": [
    "import pandas as pd\n",
    "\n",
    "# Load both enriched CSVs from full local paths\n",
    "residential_df = pd.read_csv(\"/Users/zeal.v/Help/layered-populate-data-pool-da/milieuschutz/sources/milieuschutz_residential_protection_em_houselevel_enriched.csv\")\n",
    "urban_df = pd.read_csv(\"/Users/zeal.v/Help/layered-populate-data-pool-da/milieuschutz/sources/milieuschutz_urban_character_preservation_es_houselevel_enriched.csv\")\n",
    "\n",
    "# Define dtype conversions\n",
    "convert_dtypes = {\n",
    "    \"addr:housenumber\": \"string\",\n",
    "    \"addr:street\": \"string\",\n",
    "    \"addr:postcode\": \"string\",\n",
    "    \"building\": \"category\",\n",
    "    \"milieuschutz_zone\": \"category\",\n",
    "    \"neighborhood\": \"category\",\n",
    "    \"milieuschutz_type\": \"category\",\n",
    "    \"source\": \"category\",\n",
    "    \"data_quality\": \"boolean\"\n",
    "}\n",
    "\n",
    "# Apply conversions\n",
    "residential_df = residential_df.astype(convert_dtypes)\n",
    "urban_df = urban_df.astype(convert_dtypes)\n",
    "\n",
    "# 🧠 lon and lat are already float64 by default — no need to convert\n",
    "\n",
    "# Quick check\n",
    "print(\"✅ Data types after conversion (Residential):\\n\")\n",
    "print(residential_df.dtypes)\n",
    "print(\"\\n✅ Data types after conversion (Urban):\\n\")\n",
    "print(urban_df.dtypes)"
   ]
  },
  {
   "cell_type": "markdown",
   "id": "b8a52dc3",
   "metadata": {},
   "source": [
    "## 📊 Initial Data Overview — House-Level Enriched Milieuschutz Tables\n",
    "\n",
    "Before diving deeper into exploration or modeling, it's essential to examine both of our enriched datasets — for **Residential Protection (EM)** and **Urban Character Preservation (ES)** — from a structural and completeness perspective.\n",
    "\n",
    "This first step helps us answer key questions:\n",
    "- How many rows and fields are there?\n",
    "- Are there any missing or incomplete values?\n",
    "- How consistent are the column types?\n",
    "- Are all expected fields populated?\n",
    "\n",
    "---\n",
    "\n",
    "### 📁 Loaded Tables\n",
    "\n",
    "| Dataset | Description |\n",
    "|--------|-------------|\n",
    "| `residential_df` | House-level addresses in **Residential Protection Zones (EM)** |\n",
    "| `urban_df`       | House-level addresses in **Urban Character Preservation Zones (ES)** |\n",
    "\n",
    "---\n",
    "\n",
    "### 🔍 Data Fields & Expected Types\n",
    "\n",
    "| Column Name         | Description                                             | Expected Type |\n",
    "|---------------------|---------------------------------------------------------|----------------|\n",
    "| `addr:housenumber`  | Street number of the address                            | `string`       |\n",
    "| `addr:street`       | Street name                                             | `string`       |\n",
    "| `addr:postcode`     | Postal code (PLZ)                                       | `string`       |\n",
    "| `building`          | Building classification (if available)                 | `category`     |\n",
    "| `geometry`          | Point geometry with latitude/longitude                 | `geometry`     |\n",
    "| `milieuschutz_zone` | Name of the preservation zone                          | `category`     |\n",
    "| `neighborhood`      | Berlin district (Bezirk)                                | `category`     |\n",
    "| `milieuschutz_type` | Type of protection (EM or ES)                          | `category`     |\n",
    "| `source`            | Source of the address (e.g., OSM)                      | `category`     |\n",
    "| `lon`, `lat`        | Longitude and latitude (split from geometry)           | `float64`      |\n",
    "| `data_quality`      | Flag: `True` if complete street+number, else `False`   | `boolean`      |\n",
    "\n",
    "---\n",
    "\n",
    "### ✅ Notes for Students\n",
    "\n",
    "- 🧠 Always inspect **missing values** early — they shape your next steps.\n",
    "- 🧹 Data types matter — especially for joins and performance. Be consistent.\n",
    "- 📦 Knowing `category` vs `string` usage helps reduce memory and speed up operations.\n",
    "- 📍 `geometry`, `lon`, and `lat` provide spatial analysis capabilities — essential for geographic mapping.\n",
    "\n",
    "Let’s now proceed with a quick structural overview of both datasets — count of values, nulls, and unique entries."
   ]
  },
  {
   "cell_type": "code",
   "execution_count": 9,
   "id": "b17a128c",
   "metadata": {},
   "outputs": [
    {
     "name": "stdout",
     "output_type": "stream",
     "text": [
      "\n",
      "📘 Summary for: Residential Protection Zones (EM)\n",
      "🔢 Shape: (58533, 11)\n",
      "\n",
      "📌 Column Types:\n",
      " addr:housenumber     string[python]\n",
      "addr:street          string[python]\n",
      "addr:postcode        string[python]\n",
      "building                   category\n",
      "milieuschutz_zone          category\n",
      "neighborhood               category\n",
      "milieuschutz_type          category\n",
      "source                     category\n",
      "lon                         float64\n",
      "lat                         float64\n",
      "data_quality                boolean\n",
      "dtype: object\n",
      "\n",
      "🔍 Missing Values:\n",
      " addr:housenumber       352\n",
      "addr:street            155\n",
      "addr:postcode         1527\n",
      "building             58517\n",
      "milieuschutz_zone        0\n",
      "neighborhood             0\n",
      "milieuschutz_type        0\n",
      "source                   0\n",
      "lon                      0\n",
      "lat                      0\n",
      "data_quality             0\n",
      "dtype: int64\n",
      "\n",
      "🔎 Unique Values per Column:\n",
      " addr:housenumber      2187\n",
      "addr:street           1593\n",
      "addr:postcode           97\n",
      "building                 8\n",
      "milieuschutz_zone       81\n",
      "neighborhood            11\n",
      "milieuschutz_type        1\n",
      "source                   1\n",
      "lon                  57490\n",
      "lat                  57020\n",
      "data_quality             2\n",
      "dtype: int64\n",
      "\n",
      "📘 Summary for: Urban Character Preservation Zones (ES)\n",
      "🔢 Shape: (31310, 11)\n",
      "\n",
      "📌 Column Types:\n",
      " addr:housenumber     string[python]\n",
      "addr:street          string[python]\n",
      "addr:postcode        string[python]\n",
      "building                   category\n",
      "milieuschutz_zone          category\n",
      "neighborhood               category\n",
      "milieuschutz_type          category\n",
      "source                     category\n",
      "lon                         float64\n",
      "lat                         float64\n",
      "data_quality                boolean\n",
      "dtype: object\n",
      "\n",
      "🔍 Missing Values:\n",
      " addr:housenumber       278\n",
      "addr:street            212\n",
      "addr:postcode          908\n",
      "building             31297\n",
      "milieuschutz_zone        0\n",
      "neighborhood             0\n",
      "milieuschutz_type        0\n",
      "source                   0\n",
      "lon                      0\n",
      "lat                      0\n",
      "data_quality             0\n",
      "dtype: int64\n",
      "\n",
      "🔎 Unique Values per Column:\n",
      " addr:housenumber      1614\n",
      "addr:street           1114\n",
      "addr:postcode           88\n",
      "building                 9\n",
      "milieuschutz_zone       88\n",
      "neighborhood            11\n",
      "milieuschutz_type        1\n",
      "source                   1\n",
      "lon                  30923\n",
      "lat                  30752\n",
      "data_quality             2\n",
      "dtype: int64\n"
     ]
    }
   ],
   "source": [
    "# Define a quick summary function\n",
    "def summarize_dataframe(df, name):\n",
    "    print(f\"\\n📘 Summary for: {name}\")\n",
    "    print(\"🔢 Shape:\", df.shape)\n",
    "    print(\"\\n📌 Column Types:\\n\", df.dtypes)\n",
    "    print(\"\\n🔍 Missing Values:\\n\", df.isnull().sum())\n",
    "    print(\"\\n🔎 Unique Values per Column:\\n\", df.nunique())\n",
    "\n",
    "# Apply to both datasets\n",
    "summarize_dataframe(residential_df, \"Residential Protection Zones (EM)\")\n",
    "summarize_dataframe(urban_df, \"Urban Character Preservation Zones (ES)\")"
   ]
  },
  {
   "cell_type": "code",
   "execution_count": 10,
   "id": "06550622",
   "metadata": {},
   "outputs": [
    {
     "name": "stderr",
     "output_type": "stream",
     "text": [
      "/var/folders/9l/hrrtsvvx7_v1n1nd2s2h8k4r0000gn/T/ipykernel_49497/3468501480.py:38: UserWarning: Glyph 127960 (\\N{HOUSE BUILDINGS}) missing from current font.\n",
      "  plt.tight_layout()\n",
      "/var/folders/9l/hrrtsvvx7_v1n1nd2s2h8k4r0000gn/T/ipykernel_49497/3468501480.py:38: UserWarning: Glyph 65039 (\\N{VARIATION SELECTOR-16}) missing from current font.\n",
      "  plt.tight_layout()\n",
      "/var/folders/9l/hrrtsvvx7_v1n1nd2s2h8k4r0000gn/T/ipykernel_49497/3468501480.py:38: UserWarning: Glyph 127961 (\\N{CITYSCAPE}) missing from current font.\n",
      "  plt.tight_layout()\n",
      "/var/folders/9l/hrrtsvvx7_v1n1nd2s2h8k4r0000gn/T/ipykernel_49497/3468501480.py:38: UserWarning: Glyph 128205 (\\N{ROUND PUSHPIN}) missing from current font.\n",
      "  plt.tight_layout()\n",
      "/Users/zeal.v/Desktop/Webeet-Internship/.venv/lib/python3.11/site-packages/IPython/core/pylabtools.py:170: UserWarning: Glyph 127960 (\\N{HOUSE BUILDINGS}) missing from current font.\n",
      "  fig.canvas.print_figure(bytes_io, **kw)\n",
      "/Users/zeal.v/Desktop/Webeet-Internship/.venv/lib/python3.11/site-packages/IPython/core/pylabtools.py:170: UserWarning: Glyph 65039 (\\N{VARIATION SELECTOR-16}) missing from current font.\n",
      "  fig.canvas.print_figure(bytes_io, **kw)\n",
      "/Users/zeal.v/Desktop/Webeet-Internship/.venv/lib/python3.11/site-packages/IPython/core/pylabtools.py:170: UserWarning: Glyph 127961 (\\N{CITYSCAPE}) missing from current font.\n",
      "  fig.canvas.print_figure(bytes_io, **kw)\n",
      "/Users/zeal.v/Desktop/Webeet-Internship/.venv/lib/python3.11/site-packages/IPython/core/pylabtools.py:170: UserWarning: Glyph 128205 (\\N{ROUND PUSHPIN}) missing from current font.\n",
      "  fig.canvas.print_figure(bytes_io, **kw)\n"
     ]
    },
    {
     "data": {
      "image/png": "[encoded data removed]",
      "text/plain": [
       "<Figure size 1400x600 with 2 Axes>"
      ]
     },
     "metadata": {},
     "output_type": "display_data"
    }
   ],
   "source": [
    "import seaborn as sns\n",
    "import matplotlib.pyplot as plt\n",
    "\n",
    "# Set Seaborn style\n",
    "sns.set(style=\"whitegrid\")\n",
    "\n",
    "# Create figure and axes\n",
    "fig, axs = plt.subplots(1, 2, figsize=(14, 6), sharex=True, sharey=True)\n",
    "\n",
    "# Plot Residential Protection (EM)\n",
    "sns.scatterplot(\n",
    "    x=\"lon\", y=\"lat\",\n",
    "    data=residential_df,\n",
    "    ax=axs[0],\n",
    "    alpha=0.3,\n",
    "    s=20,\n",
    "    color=\"blue\"\n",
    ")\n",
    "axs[0].set_title(\"🏘️ Residential Protection (EM)\")\n",
    "axs[0].set_xlabel(\"Longitude\")\n",
    "axs[0].set_ylabel(\"Latitude\")\n",
    "\n",
    "# Plot Urban Character Preservation (ES)\n",
    "sns.scatterplot(\n",
    "    x=\"lon\", y=\"lat\",\n",
    "    data=urban_df,\n",
    "    ax=axs[1],\n",
    "    alpha=0.3,\n",
    "    s=20,\n",
    "    color=\"orange\"\n",
    ")\n",
    "axs[1].set_title(\"🏙️ Urban Character Preservation (ES)\")\n",
    "axs[1].set_xlabel(\"Longitude\")\n",
    "axs[1].set_ylabel(\"\")\n",
    "\n",
    "# Add common title\n",
    "plt.suptitle(\"📍 Spatial Distribution of Milieuschutz House-Level Points\", fontsize=16)\n",
    "plt.tight_layout()\n",
    "plt.show()"
   ]
  },
  {
   "cell_type": "markdown",
   "id": "e40a8050",
   "metadata": {},
   "source": [
    "## 🧼 Step 1 — Null Value Diagnosis\n",
    "\n",
    "Before proceeding with scoring, joins, or visualizations, we need to inspect for **missing values** in both house-level Milieuschutz datasets.\n",
    "\n",
    "This diagnostic will help us identify:\n",
    "- Missing postal codes, street names, or coordinates\n",
    "- Potential data quality gaps flagged by `data_quality`\n",
    "- Sparse fields like `building` or `milieuschutz_zone`\n",
    "\n",
    "We'll perform a `.isnull().sum()` summary on both datasets.\n",
    "\n",
    "---\n",
    "\n",
    "### 🧪 Why this matters\n",
    "\n",
    "- Missing values in `addr:street` or `addr:housenumber` may signal incomplete OSM entries\n",
    "- Missing `milieuschutz_zone` or `neighborhood` values are **critical errors** for mapping/scoring\n",
    "- Sparse `building` values are expected and usually non-blocking\n",
    "\n",
    "Let's begin with a basic missing value count.\n",
    "\n",
    "---\n",
    "\n",
    "### ✅ Notes for Students\n",
    "\n",
    "- 🔍 Always run `.isnull().sum()` before any cleaning — it's your early warning radar.\n",
    "- 🛠️ You don’t always have to drop missing values — some may be fine depending on context.\n",
    "- 📬 Missing postcodes can sometimes be backfilled using coordinates + reverse geocoding."
   ]
  },
  {
   "cell_type": "code",
   "execution_count": 15,
   "id": "ffc993b1",
   "metadata": {},
   "outputs": [
    {
     "name": "stdout",
     "output_type": "stream",
     "text": [
      "\n",
      "📋 Missing values in: Residential Protection (EM)\n"
     ]
    },
    {
     "data": {
      "text/plain": [
       "building             58517\n",
       "addr:postcode         1527\n",
       "addr:housenumber       352\n",
       "addr:street            155\n",
       "milieuschutz_zone        0\n",
       "neighborhood             0\n",
       "milieuschutz_type        0\n",
       "source                   0\n",
       "lon                      0\n",
       "lat                      0\n",
       "data_quality             0\n",
       "dtype: int64"
      ]
     },
     "metadata": {},
     "output_type": "display_data"
    },
    {
     "name": "stdout",
     "output_type": "stream",
     "text": [
      "\n",
      "📋 Missing values in: Urban Character Preservation (ES)\n"
     ]
    },
    {
     "data": {
      "text/plain": [
       "building             31297\n",
       "addr:postcode          908\n",
       "addr:housenumber       278\n",
       "addr:street            212\n",
       "milieuschutz_zone        0\n",
       "neighborhood             0\n",
       "milieuschutz_type        0\n",
       "source                   0\n",
       "lon                      0\n",
       "lat                      0\n",
       "data_quality             0\n",
       "dtype: int64"
      ]
     },
     "metadata": {},
     "output_type": "display_data"
    }
   ],
   "source": [
    "# 🧼 Missing value diagnostics\n",
    "def missing_values(df, name):\n",
    "    print(f\"\\n📋 Missing values in: {name}\")\n",
    "    display(df.isnull().sum().sort_values(ascending=False))\n",
    "\n",
    "missing_values(residential_df, \"Residential Protection (EM)\")\n",
    "missing_values(urban_df, \"Urban Character Preservation (ES)\")"
   ]
  },
  {
   "cell_type": "markdown",
   "id": "0df9bff8",
   "metadata": {},
   "source": [
    "✅ As expected:\n",
    "\t•\tbuilding is very sparse in both datasets (≈99%)\n",
    "\t•\taddr:postcode, addr:housenumber, and addr:street have minor missing values (~1–2%)\n",
    "\t•\tAll critical spatial and classification fields (milieuschutz_zone, neighborhood, milieuschutz_type, lat, lon) are fully populated ✅"
   ]
  },
  {
   "cell_type": "markdown",
   "id": "1ca40673",
   "metadata": {},
   "source": [
    "## 🧪 Step 2 — `data_quality` vs Address Completeness\n",
    "\n",
    "The `data_quality` column is a **Boolean flag** that indicates whether an address is considered \"complete\" — meaning it includes both `addr:street` and `addr:housenumber`.\n",
    "\n",
    "In this step, we validate whether:\n",
    "- ✅ Rows marked as `data_quality = False` are truly missing address components\n",
    "- ❌ Any mismatches exist (e.g. flagged \"complete\" but missing fields)\n",
    "\n",
    "---\n",
    "\n",
    "### 🧠 Why this matters\n",
    "\n",
    "This internal quality control helps us:\n",
    "- Verify the correctness of enrichment logic\n",
    "- Decide how much we trust the `data_quality` field when filtering or scoring\n",
    "- Prepare for backfilling or exclusion rules in future processing\n",
    "\n",
    "---\n",
    "\n",
    "### ✅ Notes for Students\n",
    "\n",
    "- 🧪 A **Boolean data_quality column** is a great sanity-check tool during ETL.\n",
    "- ⚠️ Use `.isnull().mean()` to get **percentage** of missing fields — easier to interpret than raw counts.\n",
    "- 🧼 If the flag is inaccurate, you may want to **recompute it** instead of relying on upstream logic."
   ]
  },
  {
   "cell_type": "code",
   "execution_count": 16,
   "id": "7fd0d07c",
   "metadata": {},
   "outputs": [
    {
     "name": "stdout",
     "output_type": "stream",
     "text": [
      "\n",
      "✅ Data quality consistency for: Residential Protection (EM)\n",
      "🔸 addr:street missing rate (data_quality=False): 38.46%\n",
      "🔸 addr:housenumber missing rate (data_quality=False): 87.34%\n",
      "\n",
      "✅ Data quality consistency for: Urban Character Preservation (ES)\n",
      "🔸 addr:street missing rate (data_quality=False): 50.00%\n",
      "🔸 addr:housenumber missing rate (data_quality=False): 65.57%\n"
     ]
    }
   ],
   "source": [
    "# 🧪 Confirm 'data_quality' aligns with address field completeness\n",
    "def check_quality_alignment(df, name):\n",
    "    print(f\"\\n✅ Data quality consistency for: {name}\")\n",
    "    street_missing = df[df[\"data_quality\"] == False][\"addr:street\"].isnull().mean()\n",
    "    number_missing = df[df[\"data_quality\"] == False][\"addr:housenumber\"].isnull().mean()\n",
    "    print(f\"🔸 addr:street missing rate (data_quality=False): {street_missing:.2%}\")\n",
    "    print(f\"🔸 addr:housenumber missing rate (data_quality=False): {number_missing:.2%}\")\n",
    "\n",
    "check_quality_alignment(residential_df, \"Residential Protection (EM)\")\n",
    "check_quality_alignment(urban_df, \"Urban Character Preservation (ES)\")"
   ]
  },
  {
   "cell_type": "markdown",
   "id": "421e6447",
   "metadata": {},
   "source": [
    "📊 Observations:\n",
    "\t•\tFor Residential Protection (EM):\n",
    "\t•\tNearly 87% of data_quality=False rows are missing addr:housenumber ➝ ✅ expected\n",
    "\t•\tBut only 38% are missing addr:street ➝ ⚠️ partial misalignment\n",
    "\t•\tFor Urban Character Preservation (ES):\n",
    "\t•\tAbout 66% missing addr:housenumber (✅ expected)\n",
    "\t•\tBut 50% missing addr:street ➝ again, partial misalignment\n",
    "\n",
    "💡 Conclusion: The data_quality flag is loosely defined. It likely means “incomplete or uncertain address” — not strictly missing both street and number. That’s acceptable, but good to document.\n",
    "\n",
    "⸻\n"
   ]
  },
  {
   "cell_type": "markdown",
   "id": "680c1dda",
   "metadata": {},
   "source": [
    "## 📊 Step 3 — Categorical Distribution Overview\n",
    "\n",
    "In this step, we explore the distribution of key **categorical fields** to understand the shape of our data, detect imbalances, and flag rare or unexpected values.\n",
    "\n",
    "We'll focus on the following fields:\n",
    "- `milieuschutz_zone`: Name of the preservation zone\n",
    "- `neighborhood`: One of Berlin’s 12 districts\n",
    "- `milieuschutz_type`: Should contain only `EM` or `ES`\n",
    "- `building`: Sparse, but might include interesting tags (e.g. residential, apartment)\n",
    "\n",
    "---\n",
    "\n",
    "### 🔍 Goals\n",
    "\n",
    "- Identify dominant zones or Bezirke\n",
    "- Check for invalid or unexpected values\n",
    "- Spot long tails or very rare zone names\n",
    "- Confirm only `EM` or `ES` values in `milieuschutz_type`\n",
    "\n",
    "---\n",
    "\n",
    "### ✅ Notes for Students\n",
    "\n",
    "- 📦 `.value_counts()` gives you a quick distribution per column\n",
    "- 🕵️‍♀️ Use `dropna=False` to include missing values in the count\n",
    "- 🧠 Categorical distributions help you **design joins, visualizations, or scoring logic**"
   ]
  },
  {
   "cell_type": "code",
   "execution_count": 17,
   "id": "04a4731e",
   "metadata": {},
   "outputs": [
    {
     "name": "stdout",
     "output_type": "stream",
     "text": [
      "\n",
      "🔍 Value counts for 'milieuschutz_zone' — Residential Protection (EM)\n"
     ]
    },
    {
     "data": {
      "text/plain": [
       "milieuschutz_zone\n",
       "Boxhagener Platz          2260\n",
       "Luisenstadt               2256\n",
       "Schöneberger Süden        1701\n",
       "Helmholtzplatz            1433\n",
       "Langhansstraße            1413\n",
       "                          ... \n",
       "Wittenbergplatz            206\n",
       "Danziger Straße Ost        187\n",
       "Humboldthain Nord-West     186\n",
       "Thomasiusstraße            135\n",
       "Kattegatstraße             123\n",
       "Name: count, Length: 81, dtype: int64"
      ]
     },
     "metadata": {},
     "output_type": "display_data"
    },
    {
     "name": "stdout",
     "output_type": "stream",
     "text": [
      "\n",
      "🔍 Value counts for 'milieuschutz_zone' — Urban Character Preservation (ES)\n"
     ]
    },
    {
     "data": {
      "text/plain": [
       "milieuschutz_zone\n",
       "Frohnau                                              4459\n",
       "Luisenstadt                                          2316\n",
       "Spandauer Vorstadt                                   2081\n",
       "Weißensee Süd                                        1294\n",
       "Oberschöneweide                                      1141\n",
       "                                                     ... \n",
       "Alt-Lichtenrade                                         7\n",
       "B-Plan XX-187                                           6\n",
       "B-Plan IX-153                                           3\n",
       "Mahlsdorfer Straße 54 bis 61 und Genovevastraße 2       3\n",
       "B-Plan XX-247                                           1\n",
       "Name: count, Length: 88, dtype: int64"
      ]
     },
     "metadata": {},
     "output_type": "display_data"
    },
    {
     "name": "stdout",
     "output_type": "stream",
     "text": [
      "\n",
      "🔍 Value counts for 'neighborhood' — Residential Protection (EM)\n"
     ]
    },
    {
     "data": {
      "text/plain": [
       "neighborhood\n",
       "Pankow                        11167\n",
       "Friedrichshain-Kreuzberg      10630\n",
       "Neukölln                       8723\n",
       "Mitte                          7769\n",
       "Tempelhof-Schöneberg           7749\n",
       "Charlottenburg-Wilmersdorf     3905\n",
       "Spandau                        2329\n",
       "Lichtenberg                    1919\n",
       "Reinickendorf                  1644\n",
       "Treptow-Köpenick               1641\n",
       "Steglitz-Zehlendorf            1057\n",
       "Name: count, dtype: int64"
      ]
     },
     "metadata": {},
     "output_type": "display_data"
    },
    {
     "name": "stdout",
     "output_type": "stream",
     "text": [
      "\n",
      "🔍 Value counts for 'neighborhood' — Urban Character Preservation (ES)\n"
     ]
    },
    {
     "data": {
      "text/plain": [
       "neighborhood\n",
       "Mitte                         6482\n",
       "Friedrichshain-Kreuzberg      5068\n",
       "Reinickendorf                 4466\n",
       "Pankow                        4428\n",
       "Treptow-Köpenick              3279\n",
       "Charlottenburg-Wilmersdorf    2532\n",
       "Tempelhof-Schöneberg          1480\n",
       "Steglitz-Zehlendorf           1123\n",
       "Lichtenberg                   1031\n",
       "Neukölln                       980\n",
       "Spandau                        441\n",
       "Name: count, dtype: int64"
      ]
     },
     "metadata": {},
     "output_type": "display_data"
    },
    {
     "name": "stdout",
     "output_type": "stream",
     "text": [
      "\n",
      "🔍 Value counts for 'milieuschutz_type' — Residential Protection (EM)\n"
     ]
    },
    {
     "data": {
      "text/plain": [
       "milieuschutz_type\n",
       "Residential Protection    58533\n",
       "Name: count, dtype: int64"
      ]
     },
     "metadata": {},
     "output_type": "display_data"
    },
    {
     "name": "stdout",
     "output_type": "stream",
     "text": [
      "\n",
      "🔍 Value counts for 'milieuschutz_type' — Urban Character Preservation (ES)\n"
     ]
    },
    {
     "data": {
      "text/plain": [
       "milieuschutz_type\n",
       "Urban Character Preservation    31310\n",
       "Name: count, dtype: int64"
      ]
     },
     "metadata": {},
     "output_type": "display_data"
    },
    {
     "name": "stdout",
     "output_type": "stream",
     "text": [
      "\n",
      "🔍 Value counts for 'building' — Residential Protection (EM)\n"
     ]
    },
    {
     "data": {
      "text/plain": [
       "building\n",
       "NaN           58517\n",
       "bungalow          3\n",
       "shed              3\n",
       "yes               3\n",
       "commercial        2\n",
       "toilets           2\n",
       "bunker            1\n",
       "dormitory         1\n",
       "kiosk             1\n",
       "Name: count, dtype: int64"
      ]
     },
     "metadata": {},
     "output_type": "display_data"
    },
    {
     "name": "stdout",
     "output_type": "stream",
     "text": [
      "\n",
      "🔍 Value counts for 'building' — Urban Character Preservation (ES)\n"
     ]
    },
    {
     "data": {
      "text/plain": [
       "building\n",
       "NaN                   31297\n",
       "shed                      5\n",
       "bungalow                  1\n",
       "bunker                    1\n",
       "carport                   1\n",
       "kiosk                     1\n",
       "outbuilding               1\n",
       "shipping_container        1\n",
       "toilets                   1\n",
       "yes                       1\n",
       "Name: count, dtype: int64"
      ]
     },
     "metadata": {},
     "output_type": "display_data"
    }
   ],
   "source": [
    "# 📊 Value count summaries\n",
    "def print_value_counts(df, col, name):\n",
    "    print(f\"\\n🔍 Value counts for '{col}' — {name}\")\n",
    "    display(df[col].value_counts(dropna=False))\n",
    "\n",
    "for col in [\"milieuschutz_zone\", \"neighborhood\", \"milieuschutz_type\", \"building\"]:\n",
    "    print_value_counts(residential_df, col, \"Residential Protection (EM)\")\n",
    "    print_value_counts(urban_df, col, \"Urban Character Preservation (ES)\")"
   ]
  },
  {
   "cell_type": "markdown",
   "id": "a0caff7a",
   "metadata": {},
   "source": [
    "## 📍 Step 5 — Longitude/Latitude Outlier Detection\n",
    "\n",
    "Geographic outliers — points that fall **outside Berlin’s city boundaries** — can indicate issues such as:\n",
    "\n",
    "- Incorrect or missing geocoding\n",
    "- Bad geometry in the source polygons\n",
    "- Misassigned coordinates from OSM\n",
    "\n",
    "In this step, we’ll:\n",
    "- Define Berlin’s **expected bounding box**\n",
    "- Count and optionally preview points that fall outside\n",
    "- Decide whether to drop them\n",
    "\n",
    "---\n",
    "\n",
    "### 🗺️ Berlin Bounding Box (approximate)\n",
    "\n",
    "| Coordinate | Value       |\n",
    "|------------|-------------|\n",
    "| Latitude   | 52.33 – 52.67 |\n",
    "| Longitude  | 13.08 – 13.76 |\n",
    "\n",
    "This box contains all of Berlin’s official districts (Bezirke) with a small buffer.\n",
    "\n",
    "---\n",
    "\n",
    "### ✅ Notes for Students\n",
    "\n",
    "- 🛰️ Longitude and latitude are **numerical fields**, so treat them like any other outlier check.\n",
    "- 🛡️ Always keep your bounding boxes slightly padded (±0.01) to avoid edge clipping.\n",
    "- 📤 Points falling outside may be **excluded or logged** depending on your project rules."
   ]
  },
  {
   "cell_type": "code",
   "execution_count": 19,
   "id": "f49e3df1",
   "metadata": {},
   "outputs": [
    {
     "name": "stdout",
     "output_type": "stream",
     "text": [
      "\n",
      "🌍 Outlier check for: Residential Protection (EM)\n",
      "🔴 Found 0 geographic outliers\n",
      "\n",
      "🌍 Outlier check for: Urban Character Preservation (ES)\n",
      "🔴 Found 0 geographic outliers\n"
     ]
    }
   ],
   "source": [
    "# Define Berlin bounding box\n",
    "BERLIN_BOUNDS = {\n",
    "    \"lat_min\": 52.33,\n",
    "    \"lat_max\": 52.67,\n",
    "    \"lon_min\": 13.08,\n",
    "    \"lon_max\": 13.76\n",
    "}\n",
    "\n",
    "def check_outliers(df, name):\n",
    "    print(f\"\\n🌍 Outlier check for: {name}\")\n",
    "    outliers = df[\n",
    "        (df[\"lat\"] < BERLIN_BOUNDS[\"lat_min\"]) |\n",
    "        (df[\"lat\"] > BERLIN_BOUNDS[\"lat_max\"]) |\n",
    "        (df[\"lon\"] < BERLIN_BOUNDS[\"lon_min\"]) |\n",
    "        (df[\"lon\"] > BERLIN_BOUNDS[\"lon_max\"])\n",
    "    ]\n",
    "    print(f\"🔴 Found {len(outliers)} geographic outliers\")\n",
    "    if not outliers.empty:\n",
    "        display(outliers[[\"addr:street\", \"addr:housenumber\", \"lat\", \"lon\", \"milieuschutz_zone\", \"neighborhood\"]].head())\n",
    "\n",
    "check_outliers(residential_df, \"Residential Protection (EM)\")\n",
    "check_outliers(urban_df, \"Urban Character Preservation (ES)\")"
   ]
  },
  {
   "cell_type": "markdown",
   "id": "2488ac9e",
   "metadata": {},
   "source": [
    "## 💾 Step 6 — Export Cleaned House-Level Milieuschutz Tables (with Descriptive Names)\n",
    "\n",
    "We will now export the cleaned versions of our two house-level datasets:\n",
    "\n",
    "1. 🏘️ `milieuschutz_residential_protection_em_houselevel_cleaned.csv`  \n",
    "2. 🏙️ `milieuschutz_urban_character_preservation_es_houselevel_cleaned.csv`  \n",
    "\n",
    "These filenames follow the naming pattern already used in the project and clearly describe:\n",
    "- The **type of Milieuschutz** (`EM` or `ES`)\n",
    "- That the data is **house-level**\n",
    "- That it has been **cleaned**\n",
    "\n",
    "\n",
    "### ✅ Notes for Students\n",
    "\n",
    "- 🧽 Clean naming conventions are crucial for collaborative projects.\n",
    "- 📦 File suffixes like `_enriched`, `_cleaned`, or `_scored` help track progress through the ETL pipeline.\n",
    "- 🗂️ Keep all final files in one central location (e.g. `/sources/`) for reuse in joins, DB scripts, or frontend components."
   ]
  },
  {
   "cell_type": "code",
   "execution_count": 20,
   "id": "06b163c1",
   "metadata": {},
   "outputs": [
    {
     "name": "stdout",
     "output_type": "stream",
     "text": [
      "✅ Cleaned datasets exported successfully:\n",
      "🏘️ Residential Protection (EM) → /Users/zeal.v/Help/layered-populate-data-pool-da/milieuschutz/sources/milieuschutz_residential_protection_em_houselevel_cleaned.csv\n",
      "🏙️ Urban Character Preservation (ES) → /Users/zeal.v/Help/layered-populate-data-pool-da/milieuschutz/sources/milieuschutz_urban_character_preservation_es_houselevel_cleaned.csv\n"
     ]
    }
   ],
   "source": [
    "# 📁 Define full export paths with descriptive filenames\n",
    "residential_clean_path = \"/Users/zeal.v/Help/layered-populate-data-pool-da/milieuschutz/sources/milieuschutz_residential_protection_em_houselevel_cleaned.csv\"\n",
    "urban_clean_path = \"/Users/zeal.v/Help/layered-populate-data-pool-da/milieuschutz/sources/milieuschutz_urban_character_preservation_es_houselevel_cleaned.csv\"\n",
    "\n",
    "# 💾 Save as CSV\n",
    "residential_df.to_csv(residential_clean_path, index=False)\n",
    "urban_df.to_csv(urban_clean_path, index=False)\n",
    "\n",
    "print(\"✅ Cleaned datasets exported successfully:\")\n",
    "print(f\"🏘️ Residential Protection (EM) → {residential_clean_path}\")\n",
    "print(f\"🏙️ Urban Character Preservation (ES) → {urban_clean_path}\")"
   ]
  },
  {
   "cell_type": "markdown",
   "id": "fa792ddb",
   "metadata": {},
   "source": [
    "## 🗺️ Step 7 — Export Cleaned House-Level Tables as `.geojson` (for GIS)\n",
    "\n",
    "In this step, we convert the cleaned datasets into **GeoDataFrames** and export them as `.geojson` files for use in:\n",
    "\n",
    "- 📍 GIS tools like QGIS or Leaflet\n",
    "- 🗺️ Interactive maps using Folium or Mapbox\n",
    "- 🧩 Joins with other spatial layers (e.g. transit, noise, schools)\n",
    "\n",
    "---\n",
    "\n",
    "### 🧪 How we build geometry\n",
    "\n",
    "- Use `lon` and `lat` columns to create `shapely.geometry.Point` objects\n",
    "- Assign CRS (Coordinate Reference System) as **WGS84** (`EPSG:4326`) — standard for web maps\n",
    "\n",
    "---\n",
    "\n",
    "### 📁 Output Files\n",
    "\n",
    "| Filename | Description |\n",
    "|----------|-------------|\n",
    "| `milieuschutz_residential_protection_em_houselevel_cleaned.geojson` | Cleaned Residential Protection points |\n",
    "| `milieuschutz_urban_character_preservation_es_houselevel_cleaned.geojson` | Cleaned Urban Character Preservation points |\n",
    "\n",
    "---\n",
    "\n",
    "### ✅ Notes for Students\n",
    "\n",
    "- 🌍 Always set CRS explicitly when working with GeoDataFrames\n",
    "- 🧱 `.geojson` is perfect for spatial joins, overlays, and interactive visualizations\n",
    "- 🧪 Use these exported files for final validation or integration with the map UI"
   ]
  },
  {
   "cell_type": "code",
   "execution_count": 21,
   "id": "e62db108",
   "metadata": {},
   "outputs": [
    {
     "name": "stdout",
     "output_type": "stream",
     "text": [
      "✅ GeoJSON exports complete:\n",
      "🏘️ EM → /Users/zeal.v/Help/layered-populate-data-pool-da/milieuschutz/sources/milieuschutz_residential_protection_em_houselevel_cleaned.geojson\n",
      "🏙️ ES → /Users/zeal.v/Help/layered-populate-data-pool-da/milieuschutz/sources/milieuschutz_urban_character_preservation_es_houselevel_cleaned.geojson\n"
     ]
    }
   ],
   "source": [
    "import geopandas as gpd\n",
    "from shapely.geometry import Point\n",
    "\n",
    "# 🧱 Convert to GeoDataFrames\n",
    "def to_geodf(df):\n",
    "    geometry = [Point(xy) for xy in zip(df[\"lon\"], df[\"lat\"])]\n",
    "    gdf = gpd.GeoDataFrame(df.copy(), geometry=geometry, crs=\"EPSG:4326\")\n",
    "    return gdf\n",
    "\n",
    "# 💾 Convert and export\n",
    "residential_gdf = to_geodf(residential_df)\n",
    "urban_gdf = to_geodf(urban_df)\n",
    "\n",
    "# 📁 Output paths\n",
    "residential_geojson_path = \"/Users/zeal.v/Help/layered-populate-data-pool-da/milieuschutz/sources/milieuschutz_residential_protection_em_houselevel_cleaned.geojson\"\n",
    "urban_geojson_path = \"/Users/zeal.v/Help/layered-populate-data-pool-da/milieuschutz/sources/milieuschutz_urban_character_preservation_es_houselevel_cleaned.geojson\"\n",
    "\n",
    "# 🌍 Save to GeoJSON\n",
    "residential_gdf.to_file(residential_geojson_path, driver=\"GeoJSON\")\n",
    "urban_gdf.to_file(urban_geojson_path, driver=\"GeoJSON\")\n",
    "\n",
    "print(\"✅ GeoJSON exports complete:\")\n",
    "print(f\"🏘️ EM → {residential_geojson_path}\")\n",
    "print(f\"🏙️ ES → {urban_geojson_path}\")"
   ]
  }
 ],
 "metadata": {
  "kernelspec": {
   "display_name": "Python (Webeet)",
   "language": "python",
   "name": "webeet-env"
  },
  "language_info": {
   "codemirror_mode": {
    "name": "ipython",
    "version": 3
   },
   "file_extension": ".py",
   "mimetype": "text/x-python",
   "name": "python",
   "nbconvert_exporter": "python",
   "pygments_lexer": "ipython3",
   "version": "3.11.11"
  }
 },
 "nbformat": 4,
 "nbformat_minor": 5
}
