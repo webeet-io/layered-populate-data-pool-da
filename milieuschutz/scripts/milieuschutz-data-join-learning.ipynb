{
 "cells": [
  {
   "cell_type": "code",
   "execution_count": 1,
   "id": "90c67f60",
   "metadata": {},
   "outputs": [],
   "source": [
    "# read csv\n",
    "import os\n",
    "import geopandas as gpd\n",
    "import pandas as pd\n",
    "import osmnx as ox  "
   ]
  }
 ],
 "metadata": {
  "kernelspec": {
   "display_name": "Python (Webeet)",
   "language": "python",
   "name": "webeet-env"
  },
  "language_info": {
   "codemirror_mode": {
    "name": "ipython",
    "version": 3
   },
   "file_extension": ".py",
   "mimetype": "text/x-python",
   "name": "python",
   "nbconvert_exporter": "python",
   "pygments_lexer": "ipython3",
   "version": "3.11.11"
  }
 },
 "nbformat": 4,
 "nbformat_minor": 5
}
