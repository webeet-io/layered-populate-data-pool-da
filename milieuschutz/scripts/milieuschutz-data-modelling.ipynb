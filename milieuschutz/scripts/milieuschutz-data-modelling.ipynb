{
 "cells": [
  {
   "cell_type": "markdown",
   "id": "49e7e0aa",
   "metadata": {},
   "source": [
    "# [Data Integration] Milieuschutz in Berlin #67\n",
    "\n",
    "This issue outlines the process for integrating a new data layer on topic Milieuschutz in Berlin into the database. The work should be completed in 3 PRs, one for each major step."
   ]
  },
  {
   "cell_type": "markdown",
   "id": "ec4d6e51",
   "metadata": {},
   "source": [
    "# Project Overview & Current Status\n",
    "\n",
    "This notebook is part of a data analysis project focused on Berlin's social conservation areas (Milieuschutzgebiete). The main goals are to collect, clean, and analyze geospatial and tabular data related to these protected areas, using a variety of open data sources and APIs.\n",
    "\n",
    "**Key Data Sources:**\n",
    "- Official Berlin city planning and Milieuschutz information\n",
    "- OGC WMS/WFS geospatial services\n",
    "- GENESIS-Online statistical API\n",
    "- PDF and CSV data on protected areas and street lists\n",
    "\n",
    "**Current Progress:**\n",
    "- Data sources have been identified and documented (see readme.md)\n",
    "- Geospatial data from WFS services has been downloaded and imported\n",
    "- PDF street lists are being extracted and converted to CSV for analysis\n",
    "- Data cleaning and merging steps are underway\n",
    "\n",
    "**Next Steps:**\n",
    "- Complete data cleaning and standardization\n",
    "- Merge geospatial and tabular datasets\n",
    "- Begin exploratory data analysis and visualization\n",
    "\n",
    "_This cell provides a quick summary for colleagues to understand the project scope, data sources, and current status. For more details, see the readme.md or the following notebook cells._"
   ]
  },
  {
   "cell_type": "markdown",
   "id": "2275be58",
   "metadata": {},
   "source": [
    "## 🧪 Step 1: Research & Data Modelling\n"
   ]
  },
  {
   "cell_type": "markdown",
   "id": "67bf351e",
   "metadata": {},
   "source": [
    "### 0.1 Importing essential Python libraries\n",
    "\n",
    "The next three code cells import essential Python libraries for data analysis and geospatial processing:\n",
    "\n",
    "- **Cell 65:** Imports `numpy`, `pandas`, and `seaborn` for numerical operations, data manipulation, and visualization.\n",
    "- **Cell 66:** Imports database and SQL-related libraries (`psycopg2`, `sqlalchemy`) and configures warnings.\n",
    "- **Cell 67:** Imports geospatial and web service libraries (`owslib`, `geopandas`, `shapely`, `requests`, `zipfile`, `bs4`, `tabula`, `jpype`) for handling geospatial data, web requests, and PDF extraction."
   ]
  },
  {
   "cell_type": "code",
   "execution_count": 222,
   "id": "f1c5577c",
   "metadata": {},
   "outputs": [],
   "source": [
    "import numpy as np\n",
    "import pandas as pd\n",
    "import seaborn as sns"
   ]
  },
  {
   "cell_type": "code",
   "execution_count": 223,
   "id": "5ed8f240",
   "metadata": {},
   "outputs": [],
   "source": [
    "import psycopg2\n",
    "from sqlalchemy import create_engine, text, inspect\n",
    "import warnings\n",
    "warnings.filterwarnings(\"ignore\")"
   ]
  },
  {
   "cell_type": "code",
   "execution_count": 224,
   "id": "2f98f636",
   "metadata": {},
   "outputs": [],
   "source": [
    "from owslib.wfs import WebFeatureService # For web feature services \n",
    "import geopandas as gpd # For geospatial data handling\n",
    "from owslib.wms import WebMapService # For web map services\n",
    "from owslib.fes import PropertyIsEqualTo, BBox # For filtering and bounding box queries\n",
    "from owslib.util import ServiceException # For handling service exceptions\n",
    "from owslib.wcs import WebCoverageService # For web coverage services \n",
    "import requests # For HTTP requests\n",
    "from shapely.geometry import shape, mapping # For geometry operations \n",
    "from io import BytesIO # For handling byte streams \n",
    "from zipfile import ZipFile # For handling zip files \n",
    "from bs4 import BeautifulSoup # For parsing HTML/XML content\n",
    "import tabula # For reading tables from PDFs\n",
    "import jpype # For Java-based PDF processing  "
   ]
  },
  {
   "cell_type": "markdown",
   "id": "07638a0c",
   "metadata": {},
   "source": [
    "### 1.1 Data Source Discovery"
   ]
  },
  {
   "cell_type": "markdown",
   "id": "3ab2ee09",
   "metadata": {},
   "source": [
    "#### Research Focus\n",
    "- Conducted research on the topic **Milieuschutz** (social conservation areas) in Berlin.\n",
    "\n",
    "Relevant Data Sources Identified\n",
    "\n",
    "1. **Berlin Erhaltungsverordnungsgebiete (WFS)**\n",
    "    - **Source & Origin:** Official Berlin Geoportal, OGC WFS service  \n",
    "      [https://gdi.berlin.de/services/wfs/erhaltungsverordnungsgebiete](https://gdi.berlin.de/services/wfs/erhaltungsverordnungsgebiete)\n",
    "    - **Update Frequency:** Irregular, updated as new conservation areas are designated or changed\n",
    "    - **Data Type:** Dynamic (API-based, supports ongoing updates)\n",
    "\n",
    "2. **Milieuschutzgebiet Street Lists (PDF/CSV)**\n",
    "    - **Source & Origin:** Berlin Senate Department for Urban Development, downloadable PDF  \n",
    "      [https://www.berlin.de/sen/stadtentwicklung/wohnen/wohnraum/milieuschutz/](https://www.berlin.de/sen/stadtentwicklung/wohnen/wohnraum/milieuschutz/)\n",
    "    - **Update Frequency:** Irregular, updated with new designations or changes\n",
    "    - **Data Type:** Static (manual download and conversion to CSV)\n",
    "\n",
    "3. **GENESIS-Online Statistical API**\n",
    "    - **Source & Origin:** Statistisches Bundesamt (Federal Statistical Office), API access  \n",
    "      [https://www-genesis.destatis.de/genesis/online](https://www-genesis.destatis.de/genesis/online)\n",
    "    - **Update Frequency:** Regular (monthly/quarterly)\n",
    "    - **Data Type:** Dynamic (API-based)\n",
    "\n",
    "4. **Berlin Open Data Portal**\n",
    "    - **Source & Origin:** [https://daten.berlin.de/](https://daten.berlin.de/)\n",
    "    - **Update Frequency:** Varies by dataset\n",
    "    - **Data Type:** Static and dynamic datasets available\n",
    "\n",
    "Documentation Approach\n",
    "\n",
    "For each data source:\n",
    "- **Source and origin:** Documented above\n",
    "- **Update frequency:** As specified per source\n",
    "- **Data type:** Noted as static or dynamic\n",
    "\n",
    "_These sources collectively enable comprehensive integration and enrichment of listings and neighborhood datasets for Milieuschutz analysis in Berlin._\n",
    "\n"
   ]
  },
  {
   "cell_type": "markdown",
   "id": "d17698e9",
   "metadata": {},
   "source": [
    "#### ELT ➡ OGC WFS service to pandas_df:\n"
   ]
  },
  {
   "cell_type": "code",
   "execution_count": 225,
   "id": "1c833f0f",
   "metadata": {},
   "outputs": [
    {
     "name": "stdout",
     "output_type": "stream",
     "text": [
      "['erhaltungsverordnungsgebiete:erhaltgeb_em', 'erhaltungsverordnungsgebiete:erhaltgeb_es']\n"
     ]
    }
   ],
   "source": [
    "wfs_url = \"https://gdi.berlin.de/services/wfs/erhaltungsverordnungsgebiete?service=WFS&version=2.0.0&request=GetCapabilities\"\n",
    "wfs = WebFeatureService(url=wfs_url, version='2.0.0')\n",
    "print(list(wfs.contents))  # Should show the two layers above"
   ]
  },
  {
   "cell_type": "code",
   "execution_count": 226,
   "id": "2ff8ba8b",
   "metadata": {},
   "outputs": [],
   "source": [
    "response = wfs.getfeature(typename='erhaltungsverordnungsgebiete:erhaltgeb_em', outputFormat='application/json')\n",
    "with open('erhaltgeb_em.geojson', 'wb') as f:\n",
    "    f.write(response.read())"
   ]
  },
  {
   "cell_type": "code",
   "execution_count": 227,
   "id": "f0ffaf90",
   "metadata": {},
   "outputs": [],
   "source": [
    "from owslib.wfs import WebFeatureService\n",
    "\n",
    "wfs_url = \"https://gdi.berlin.de/services/wfs/erhaltungsverordnungsgebiete?service=WFS&version=2.0.0&request=GetCapabilities\"\n",
    "wfs = WebFeatureService(url=wfs_url, version='2.0.0')\n",
    "\n",
    "response = wfs.getfeature(\n",
    "    typename='erhaltungsverordnungsgebiete:erhaltgeb_em',\n",
    "    outputFormat='application/json'\n",
    ")\n",
    "\n",
    "with open('erhaltgeb_em.geojson', 'wb') as f:\n",
    "    f.write(response.read())"
   ]
  },
  {
   "cell_type": "code",
   "execution_count": 228,
   "id": "72fe82d9",
   "metadata": {},
   "outputs": [
    {
     "name": "stdout",
     "output_type": "stream",
     "text": [
      "                    id schluessel  \\\n",
      "0  erhaltgeb_em.EM0105     EM0105   \n",
      "1  erhaltgeb_em.EM0106     EM0106   \n",
      "2  erhaltgeb_em.EM0107     EM0107   \n",
      "3  erhaltgeb_em.EM0108     EM0108   \n",
      "4  erhaltgeb_em.EM0109     EM0109   \n",
      "\n",
      "                                            pdf_link bezirk   gebietsname  \\\n",
      "0  https://www.berlin.de/sen/stadtentwicklung/_as...  Mitte    Sparrplatz   \n",
      "1  https://www.berlin.de/sen/stadtentwicklung/_as...  Mitte  Leopoldplatz   \n",
      "2  https://www.berlin.de/sen/stadtentwicklung/_as...  Mitte    Waldstraße   \n",
      "3  https://www.berlin.de/sen/stadtentwicklung/_as...  Mitte  Birkenstraße   \n",
      "4  https://www.berlin.de/sen/stadtentwicklung/_as...  Mitte     Seestraße   \n",
      "\n",
      "   f_gvbl_dat  f_in_kraft ae_gvbldat ae_inkraft fl_in_ha  \n",
      "0  24.05.2016  25.05.2016        NaN        NaN     51.3  \n",
      "1  24.05.2016  25.05.2016        NaN        NaN     62.1  \n",
      "2  24.05.2016  25.05.2016        NaN        NaN     72.6  \n",
      "3  24.05.2016  25.05.2016        NaN        NaN     81.6  \n",
      "4  24.05.2016  25.05.2016        NaN        NaN     48.6  \n"
     ]
    }
   ],
   "source": [
    "import geopandas as gpd\n",
    "\n",
    "# Read the GeoJSON file into a GeoDataFrame\n",
    "gdf = gpd.read_file('erhaltgeb_em.geojson')\n",
    "\n",
    "# If you want a regular pandas DataFrame (without geometry):\n",
    "df_em = gdf.drop(columns='geometry')\n",
    "\n",
    "print(df_em.head())"
   ]
  },
  {
   "cell_type": "code",
   "execution_count": 229,
   "id": "37868ab0",
   "metadata": {},
   "outputs": [
    {
     "data": {
      "text/plain": [
       "(81, 10)"
      ]
     },
     "execution_count": 229,
     "metadata": {},
     "output_type": "execute_result"
    }
   ],
   "source": [
    "df_em.shape"
   ]
  },
  {
   "cell_type": "code",
   "execution_count": 230,
   "id": "3d67c13b",
   "metadata": {},
   "outputs": [
    {
     "data": {
      "text/plain": [
       "Index(['id', 'schluessel', 'pdf_link', 'bezirk', 'gebietsname', 'f_gvbl_dat',\n",
       "       'f_in_kraft', 'ae_gvbldat', 'ae_inkraft', 'fl_in_ha'],\n",
       "      dtype='object')"
      ]
     },
     "execution_count": 230,
     "metadata": {},
     "output_type": "execute_result"
    }
   ],
   "source": [
    "df_em.columns"
   ]
  },
  {
   "cell_type": "code",
   "execution_count": 231,
   "id": "0554c35e",
   "metadata": {},
   "outputs": [
    {
     "data": {
      "text/plain": [
       "'https://www.berlin.de/sen/stadtentwicklung/_assets/quartiersentwicklung/stadterneuerung/soziales-erhaltungsrecht/gebiete/em0105.pdf'"
      ]
     },
     "execution_count": 231,
     "metadata": {},
     "output_type": "execute_result"
    }
   ],
   "source": [
    "df_em['pdf_link'].iloc[0]"
   ]
  },
  {
   "cell_type": "code",
   "execution_count": 232,
   "id": "96c4924c",
   "metadata": {},
   "outputs": [
    {
     "name": "stdout",
     "output_type": "stream",
     "text": [
      "['Mitte' 'Friedrichshain-Kreuzberg' 'Pankow' 'Charlottenburg-Wilmersdorf'\n",
      " 'Spandau' 'Steglitz-Zehlendorf' 'Tempelhof-Schöneberg' 'Neukölln'\n",
      " 'Treptow-Köpenick' 'Lichtenberg' 'Reinickendorf']\n"
     ]
    },
    {
     "name": "stdout",
     "output_type": "stream",
     "text": [
      "['Mitte' 'Friedrichshain-Kreuzberg' 'Pankow' 'Charlottenburg-Wilmersdorf'\n",
      " 'Spandau' 'Steglitz-Zehlendorf' 'Tempelhof-Schöneberg' 'Neukölln'\n",
      " 'Treptow-Köpenick' 'Lichtenberg' 'Reinickendorf']\n"
     ]
    },
    {
     "data": {
      "text/plain": [
       "(11,)"
      ]
     },
     "execution_count": 232,
     "metadata": {},
     "output_type": "execute_result"
    }
   ],
   "source": [
    "bezirk_unique = df_em['bezirk'].unique()\n",
    "print(bezirk_unique)\n",
    "bezirk_unique.shape # Number of unique districts is 11"
   ]
  },
  {
   "cell_type": "code",
   "execution_count": 233,
   "id": "b3fd0cba",
   "metadata": {},
   "outputs": [
    {
     "name": "stdout",
     "output_type": "stream",
     "text": [
      "                        bezirk  \\\n",
      "0   Charlottenburg-Wilmersdorf   \n",
      "1     Friedrichshain-Kreuzberg   \n",
      "2                  Lichtenberg   \n",
      "3                        Mitte   \n",
      "4                     Neukölln   \n",
      "5                       Pankow   \n",
      "6                Reinickendorf   \n",
      "7                      Spandau   \n",
      "8          Steglitz-Zehlendorf   \n",
      "9         Tempelhof-Schöneberg   \n",
      "10            Treptow-Köpenick   \n",
      "\n",
      "                                     gebietsname_list  \n",
      "0   [Mierendorff-Insel, Gierkeplatz, Klausenerplat...  \n",
      "1   [Graefestraße, Luisenstadt, Bergmannstraße Nor...  \n",
      "2     [Kaskelstraße, Weitlingstraße, Fanningerstraße]  \n",
      "3   [Sparrplatz, Leopoldplatz, Waldstraße, Birkens...  \n",
      "4   [Schillerpromenade, Reuterplatz, Flughafenstra...  \n",
      "5   [Falkplatz, Arnimplatz, Humannplatz, Ostseestr...  \n",
      "6          [Letteplatz, Scharnweberstraße/Klixstraße]  \n",
      "7                  [Wilhelmstadt, Spandauer Neustadt]  \n",
      "8   [Feuerbachstraße, Gritznerstraße Nord, Mittels...  \n",
      "9   [Barbarossaplatz / Bayerischer Platz, Bautzene...  \n",
      "10  [Alt-Treptow, Niederschöneweide, Oberschöneweide]  \n"
     ]
    }
   ],
   "source": [
    "# group gebietsname by bezirk\n",
    "districts_areas = df_em.groupby('bezirk')['gebietsname'].unique().reset_index()\n",
    "districts_areas.columns = ['bezirk', 'gebietsname_list']\n",
    "print(districts_areas)\n"
   ]
  },
  {
   "cell_type": "code",
   "execution_count": 234,
   "id": "49b96f02",
   "metadata": {},
   "outputs": [],
   "source": [
    "response = wfs.getfeature(typename='erhaltungsverordnungsgebiete:erhaltgeb_es', outputFormat='application/json')\n",
    "with open('erhaltgeb_em.geojson', 'wb') as f:\n",
    "    f.write(response.read())"
   ]
  },
  {
   "cell_type": "code",
   "execution_count": 235,
   "id": "3c20ef9d",
   "metadata": {},
   "outputs": [],
   "source": [
    "wfs_url = \"https://gdi.berlin.de/services/wfs/erhaltungsverordnungsgebiete?service=WFS&version=2.0.0&request=GetCapabilities\"\n",
    "wfs = WebFeatureService(url=wfs_url, version='2.0.0')\n",
    "\n",
    "response = wfs.getfeature(\n",
    "    typename='erhaltungsverordnungsgebiete:erhaltgeb_es',\n",
    "    outputFormat='application/json'\n",
    ")\n",
    "\n",
    "with open('erhaltgeb_em.geojson', 'wb') as f:\n",
    "    f.write(response.read())"
   ]
  },
  {
   "cell_type": "code",
   "execution_count": 236,
   "id": "2940acd9",
   "metadata": {},
   "outputs": [
    {
     "name": "stdout",
     "output_type": "stream",
     "text": [
      "                    id schluessel bezirk  \\\n",
      "0  erhaltgeb_es.ES0101     ES0101  Mitte   \n",
      "1  erhaltgeb_es.ES0102     ES0102  Mitte   \n",
      "2  erhaltgeb_es.ES0103     ES0103  Mitte   \n",
      "3  erhaltgeb_es.ES0104     ES0104  Mitte   \n",
      "4  erhaltgeb_es.ES0105     ES0105  Mitte   \n",
      "\n",
      "                                         gebietsname  f_gvbl_dat  f_in_kraft  \\\n",
      "0                                        Poststadion  30.12.1988  31.12.1988   \n",
      "1                                 Spandauer Vorstadt  25.06.1993  26.06.1993   \n",
      "2  Südliche Brunnenstraße Teile der Rosenthaler V...  09.12.1995  10.12.1995   \n",
      "3                            Friedrich-Wilhelm-Stadt  31.08.1996  01.09.1996   \n",
      "4                     Dorotheenstadt, Friedrichstadt  10.04.1997  11.04.1997   \n",
      "\n",
      "  ae_gvbldat ae_inkraft fl_in_ha  \n",
      "0        NaN        NaN     53.2  \n",
      "1        NaN        NaN    109.1  \n",
      "2        NaN        NaN     18.8  \n",
      "3        NaN        NaN     69.5  \n",
      "4        NaN        NaN     98.7  \n"
     ]
    }
   ],
   "source": [
    "gdf = gpd.read_file('erhaltgeb_em.geojson')\n",
    "df_es = gdf.drop(columns='geometry')\n",
    "print(df_es.head())\n"
   ]
  },
  {
   "cell_type": "code",
   "execution_count": 237,
   "id": "3d08cae4",
   "metadata": {},
   "outputs": [
    {
     "data": {
      "text/plain": [
       "(94, 9)"
      ]
     },
     "execution_count": 237,
     "metadata": {},
     "output_type": "execute_result"
    }
   ],
   "source": [
    "df_es.shape"
   ]
  },
  {
   "cell_type": "code",
   "execution_count": 238,
   "id": "457455c6",
   "metadata": {},
   "outputs": [
    {
     "data": {
      "text/plain": [
       "Index(['id', 'schluessel', 'bezirk', 'gebietsname', 'f_gvbl_dat', 'f_in_kraft',\n",
       "       'ae_gvbldat', 'ae_inkraft', 'fl_in_ha'],\n",
       "      dtype='object')"
      ]
     },
     "execution_count": 238,
     "metadata": {},
     "output_type": "execute_result"
    }
   ],
   "source": [
    "df_es.columns"
   ]
  },
  {
   "cell_type": "code",
   "execution_count": 239,
   "id": "c83a0298",
   "metadata": {},
   "outputs": [
    {
     "data": {
      "text/html": [
       "<div>\n",
       "<style scoped>\n",
       "    .dataframe tbody tr th:only-of-type {\n",
       "        vertical-align: middle;\n",
       "    }\n",
       "\n",
       "    .dataframe tbody tr th {\n",
       "        vertical-align: top;\n",
       "    }\n",
       "\n",
       "    .dataframe thead th {\n",
       "        text-align: right;\n",
       "    }\n",
       "</style>\n",
       "<table border=\"1\" class=\"dataframe\">\n",
       "  <thead>\n",
       "    <tr style=\"text-align: right;\">\n",
       "      <th></th>\n",
       "      <th>id</th>\n",
       "      <th>schluessel</th>\n",
       "      <th>pdf_link</th>\n",
       "      <th>bezirk</th>\n",
       "      <th>gebietsname</th>\n",
       "      <th>f_gvbl_dat</th>\n",
       "      <th>f_in_kraft</th>\n",
       "      <th>ae_gvbldat</th>\n",
       "      <th>ae_inkraft</th>\n",
       "      <th>fl_in_ha</th>\n",
       "    </tr>\n",
       "  </thead>\n",
       "  <tbody>\n",
       "    <tr>\n",
       "      <th>0</th>\n",
       "      <td>erhaltgeb_em.EM0105</td>\n",
       "      <td>EM0105</td>\n",
       "      <td>https://www.berlin.de/sen/stadtentwicklung/_as...</td>\n",
       "      <td>Mitte</td>\n",
       "      <td>Sparrplatz</td>\n",
       "      <td>24.05.2016</td>\n",
       "      <td>25.05.2016</td>\n",
       "      <td>NaN</td>\n",
       "      <td>NaN</td>\n",
       "      <td>51.3</td>\n",
       "    </tr>\n",
       "    <tr>\n",
       "      <th>1</th>\n",
       "      <td>erhaltgeb_em.EM0106</td>\n",
       "      <td>EM0106</td>\n",
       "      <td>https://www.berlin.de/sen/stadtentwicklung/_as...</td>\n",
       "      <td>Mitte</td>\n",
       "      <td>Leopoldplatz</td>\n",
       "      <td>24.05.2016</td>\n",
       "      <td>25.05.2016</td>\n",
       "      <td>NaN</td>\n",
       "      <td>NaN</td>\n",
       "      <td>62.1</td>\n",
       "    </tr>\n",
       "    <tr>\n",
       "      <th>2</th>\n",
       "      <td>erhaltgeb_em.EM0107</td>\n",
       "      <td>EM0107</td>\n",
       "      <td>https://www.berlin.de/sen/stadtentwicklung/_as...</td>\n",
       "      <td>Mitte</td>\n",
       "      <td>Waldstraße</td>\n",
       "      <td>24.05.2016</td>\n",
       "      <td>25.05.2016</td>\n",
       "      <td>NaN</td>\n",
       "      <td>NaN</td>\n",
       "      <td>72.6</td>\n",
       "    </tr>\n",
       "    <tr>\n",
       "      <th>3</th>\n",
       "      <td>erhaltgeb_em.EM0108</td>\n",
       "      <td>EM0108</td>\n",
       "      <td>https://www.berlin.de/sen/stadtentwicklung/_as...</td>\n",
       "      <td>Mitte</td>\n",
       "      <td>Birkenstraße</td>\n",
       "      <td>24.05.2016</td>\n",
       "      <td>25.05.2016</td>\n",
       "      <td>NaN</td>\n",
       "      <td>NaN</td>\n",
       "      <td>81.6</td>\n",
       "    </tr>\n",
       "    <tr>\n",
       "      <th>4</th>\n",
       "      <td>erhaltgeb_em.EM0109</td>\n",
       "      <td>EM0109</td>\n",
       "      <td>https://www.berlin.de/sen/stadtentwicklung/_as...</td>\n",
       "      <td>Mitte</td>\n",
       "      <td>Seestraße</td>\n",
       "      <td>24.05.2016</td>\n",
       "      <td>25.05.2016</td>\n",
       "      <td>NaN</td>\n",
       "      <td>NaN</td>\n",
       "      <td>48.6</td>\n",
       "    </tr>\n",
       "  </tbody>\n",
       "</table>\n",
       "</div>"
      ],
      "text/plain": [
       "                    id schluessel  \\\n",
       "0  erhaltgeb_em.EM0105     EM0105   \n",
       "1  erhaltgeb_em.EM0106     EM0106   \n",
       "2  erhaltgeb_em.EM0107     EM0107   \n",
       "3  erhaltgeb_em.EM0108     EM0108   \n",
       "4  erhaltgeb_em.EM0109     EM0109   \n",
       "\n",
       "                                            pdf_link bezirk   gebietsname  \\\n",
       "0  https://www.berlin.de/sen/stadtentwicklung/_as...  Mitte    Sparrplatz   \n",
       "1  https://www.berlin.de/sen/stadtentwicklung/_as...  Mitte  Leopoldplatz   \n",
       "2  https://www.berlin.de/sen/stadtentwicklung/_as...  Mitte    Waldstraße   \n",
       "3  https://www.berlin.de/sen/stadtentwicklung/_as...  Mitte  Birkenstraße   \n",
       "4  https://www.berlin.de/sen/stadtentwicklung/_as...  Mitte     Seestraße   \n",
       "\n",
       "   f_gvbl_dat  f_in_kraft ae_gvbldat ae_inkraft fl_in_ha  \n",
       "0  24.05.2016  25.05.2016        NaN        NaN     51.3  \n",
       "1  24.05.2016  25.05.2016        NaN        NaN     62.1  \n",
       "2  24.05.2016  25.05.2016        NaN        NaN     72.6  \n",
       "3  24.05.2016  25.05.2016        NaN        NaN     81.6  \n",
       "4  24.05.2016  25.05.2016        NaN        NaN     48.6  "
      ]
     },
     "execution_count": 239,
     "metadata": {},
     "output_type": "execute_result"
    }
   ],
   "source": [
    "df_em.head()"
   ]
  },
  {
   "cell_type": "code",
   "execution_count": 240,
   "id": "8406b50c",
   "metadata": {},
   "outputs": [
    {
     "data": {
      "text/plain": [
       "(94,)"
      ]
     },
     "execution_count": 240,
     "metadata": {},
     "output_type": "execute_result"
    }
   ],
   "source": [
    "df_em['gebietsname'].unique()\n",
    "df_es['gebietsname'].shape # Number of unique area names is 94"
   ]
  },
  {
   "cell_type": "code",
   "execution_count": 257,
   "id": "4e1a19f3",
   "metadata": {},
   "outputs": [
    {
     "name": "stdout",
     "output_type": "stream",
     "text": [
      "Downloaded 81 features from erhaltgeb_em\n",
      "Downloaded 94 features from erhaltgeb_es\n"
     ]
    },
    {
     "data": {
      "text/plain": [
       "(                    id schluessel  \\\n",
       " 0  erhaltgeb_em.EM0105     EM0105   \n",
       " 1  erhaltgeb_em.EM0106     EM0106   \n",
       " 2  erhaltgeb_em.EM0107     EM0107   \n",
       " 3  erhaltgeb_em.EM0108     EM0108   \n",
       " 4  erhaltgeb_em.EM0109     EM0109   \n",
       " \n",
       "                                             pdf_link bezirk   gebietsname  \\\n",
       " 0  https://www.berlin.de/sen/stadtentwicklung/_as...  Mitte    Sparrplatz   \n",
       " 1  https://www.berlin.de/sen/stadtentwicklung/_as...  Mitte  Leopoldplatz   \n",
       " 2  https://www.berlin.de/sen/stadtentwicklung/_as...  Mitte    Waldstraße   \n",
       " 3  https://www.berlin.de/sen/stadtentwicklung/_as...  Mitte  Birkenstraße   \n",
       " 4  https://www.berlin.de/sen/stadtentwicklung/_as...  Mitte     Seestraße   \n",
       " \n",
       "    f_gvbl_dat  f_in_kraft ae_gvbldat ae_inkraft fl_in_ha  \\\n",
       " 0  24.05.2016  25.05.2016        NaN        NaN     51.3   \n",
       " 1  24.05.2016  25.05.2016        NaN        NaN     62.1   \n",
       " 2  24.05.2016  25.05.2016        NaN        NaN     72.6   \n",
       " 3  24.05.2016  25.05.2016        NaN        NaN     81.6   \n",
       " 4  24.05.2016  25.05.2016        NaN        NaN     48.6   \n",
       " \n",
       "                                             geometry  \n",
       " 0  MULTIPOLYGON (((387899.249 5822422.620, 388017...  \n",
       " 1  MULTIPOLYGON (((388298.483 5823527.948, 388394...  \n",
       " 2  MULTIPOLYGON (((386372.618 5821081.272, 386375...  \n",
       " 3  MULTIPOLYGON (((387389.910 5820897.707, 387465...  \n",
       " 4  MULTIPOLYGON (((387616.147 5823231.150, 387841...  ,\n",
       "                     id schluessel bezirk  \\\n",
       " 0  erhaltgeb_es.ES0101     ES0101  Mitte   \n",
       " 1  erhaltgeb_es.ES0102     ES0102  Mitte   \n",
       " 2  erhaltgeb_es.ES0103     ES0103  Mitte   \n",
       " 3  erhaltgeb_es.ES0104     ES0104  Mitte   \n",
       " 4  erhaltgeb_es.ES0105     ES0105  Mitte   \n",
       " \n",
       "                                          gebietsname  f_gvbl_dat  f_in_kraft  \\\n",
       " 0                                        Poststadion  30.12.1988  31.12.1988   \n",
       " 1                                 Spandauer Vorstadt  25.06.1993  26.06.1993   \n",
       " 2  Südliche Brunnenstraße Teile der Rosenthaler V...  09.12.1995  10.12.1995   \n",
       " 3                            Friedrich-Wilhelm-Stadt  31.08.1996  01.09.1996   \n",
       " 4                     Dorotheenstadt, Friedrichstadt  10.04.1997  11.04.1997   \n",
       " \n",
       "   ae_gvbldat ae_inkraft fl_in_ha  \\\n",
       " 0        NaN        NaN     53.2   \n",
       " 1        NaN        NaN    109.1   \n",
       " 2        NaN        NaN     18.8   \n",
       " 3        NaN        NaN     69.5   \n",
       " 4        NaN        NaN     98.7   \n",
       " \n",
       "                                             geometry  \n",
       " 0  MULTIPOLYGON (((388197.513 5821373.346, 388210...  \n",
       " 1  MULTIPOLYGON (((391181.177 5820336.742, 391184...  \n",
       " 2  MULTIPOLYGON (((391024.452 5821630.664, 391046...  \n",
       " 3  MULTIPOLYGON (((390119.396 5820269.695, 390122...  \n",
       " 4  MULTIPOLYGON (((391309.457 5819834.377, 391308...  )"
      ]
     },
     "execution_count": 257,
     "metadata": {},
     "output_type": "execute_result"
    }
   ],
   "source": [
    "# Download both available layers from the WFS endpoint as GeoDataFrames\n",
    "wfs_url = \"https://gdi.berlin.de/services/wfs/erhaltungsverordnungsgebiete\"\n",
    "layers = [\n",
    "    \"erhaltungsverordnungsgebiete:erhaltgeb_em\",  # Erhaltung der Zusammensetzung der Wohnbevölkerung\n",
    "    \"erhaltungsverordnungsgebiete:erhaltgeb_es\",  # Erhaltung der städtebaulichen Eigenart\n",
    "]\n",
    "\n",
    "# Download as GeoJSON\n",
    "em_url = f\"{wfs_url}?service=WFS&version=2.0.0&request=GetFeature&typeNames={layers[0]}&outputFormat=application/json\"\n",
    "es_url = f\"{wfs_url}?service=WFS&version=2.0.0&request=GetFeature&typeNames={layers[1]}&outputFormat=application/json\"\n",
    "\n",
    "gdf_em = gpd.read_file(em_url)\n",
    "gdf_es = gpd.read_file(es_url)\n",
    "\n",
    "print(f\"Downloaded {len(gdf_em)} features from erhaltgeb_em\")\n",
    "print(f\"Downloaded {len(gdf_es)} features from erhaltgeb_es\")\n",
    "gdf_em.head(), gdf_es.head()"
   ]
  },
  {
   "cell_type": "markdown",
   "id": "b9c46603",
   "metadata": {},
   "source": [
    "- gdf_em.head() displays the first few rows of the GeoDataFrame for the layer \"erhaltgeb_em\" (Erhaltung der Zusammensetzung der Wohnbevölkerung – social preservation/milieuschutz).\n",
    "- gdf_es.head() displays the first few rows of the GeoDataFrame for the layer \"erhaltgeb_es\" (Erhaltung der städtebaulichen Eigenart – preservation of urban character).\n",
    "\n",
    "Both are tables with geospatial features, but each comes from a different legal basis and may cover different areas or have different attributes."
   ]
  },
  {
   "cell_type": "markdown",
   "id": "dac04283",
   "metadata": {},
   "source": [
    "#### ELT ➡ .pdf to .csv:\n",
    "In the next cells, the workflow focuses on extracting, loading, and exploring tabular data about Berlin's social conservation areas (Milieuschutzgebiete) from a PDF street list:\n",
    "\n",
    "- Reads the previously converted CSV file (from the PDF street list) into a DataFrame called `milieuschutzgebiete_df` and displays its first few rows for a quick check.\n",
    "- Prints detailed information about the DataFrame, including column types, non-null counts, and memory usage, to assess data quality and completeness.\n",
    "- Outputs descriptive statistics for the DataFrame, providing insights into the distribution and summary of the data.\n",
    "\n",
    "These steps are essential for verifying the successful extraction of street-level data, understanding its structure, and preparing for further cleaning, merging, or analysis with the geospatial datasets loaded earlier in the notebook."
   ]
  },
  {
   "cell_type": "code",
   "execution_count": 241,
   "id": "4e240fc4",
   "metadata": {},
   "outputs": [
    {
     "name": "stdout",
     "output_type": "stream",
     "text": [
      "2.10.0\n"
     ]
    }
   ],
   "source": [
    "# witch version of tabula-py is installed\n",
    "print(tabula.__version__)"
   ]
  },
  {
   "cell_type": "code",
   "execution_count": 242,
   "id": "c78ad8b3",
   "metadata": {},
   "outputs": [
    {
     "name": "stdout",
     "output_type": "stream",
     "text": [
      "/Library/Java/JavaVirtualMachines/temurin-24.jdk/Contents/Home/lib/libjli.dylib\n"
     ]
    }
   ],
   "source": [
    "import jpype\n",
    "print(jpype.getDefaultJVMPath())\n"
   ]
  },
  {
   "cell_type": "code",
   "execution_count": 243,
   "id": "f57c2c8d",
   "metadata": {},
   "outputs": [
    {
     "name": "stdout",
     "output_type": "stream",
     "text": [
      "JVM found at: /Library/Java/JavaVirtualMachines/temurin-24.jdk/Contents/Home/lib/libjli.dylib\n"
     ]
    }
   ],
   "source": [
    "import jpype\n",
    "\n",
    "# The error indicates that the Java Virtual Machine (JVM) could not be found.\n",
    "# Tabula requires Java to be installed and accessible.\n",
    "# Let's check if Java is installed and if JPype can find the JVM.\n",
    "\n",
    "\n",
    "try:\n",
    "    jvm_path = jpype.getDefaultJVMPath()\n",
    "    print(\"JVM found at:\", jvm_path)\n",
    "except jpype.JVMNotFoundException as e:\n",
    "    print(\"JVM not found. Please ensure Java is installed and JAVA_HOME is set correctly.\")\n",
    "    print(e)"
   ]
  },
  {
   "cell_type": "code",
   "execution_count": 244,
   "id": "d83919e4",
   "metadata": {},
   "outputs": [
    {
     "name": "stdout",
     "output_type": "stream",
     "text": [
      "1.5.2\n"
     ]
    }
   ],
   "source": [
    "# Check if JPype is installed correctly\n",
    "print(jpype.__version__)"
   ]
  },
  {
   "cell_type": "code",
   "execution_count": 245,
   "id": "44e9f750",
   "metadata": {},
   "outputs": [
    {
     "data": {
      "text/plain": [
       "'\\ntabula.convert_into(\\n    \"../sources/.pdf/strassenliste-milieuschutzgebiete-berlin.pdf\",\\n    \"strassenliste-milieuschutzgebiete-berlin.csv\",\\n    output_format=\"csv\",\\n    pages=\"all\"\\n)\\n'"
      ]
     },
     "execution_count": 245,
     "metadata": {},
     "output_type": "execute_result"
    }
   ],
   "source": [
    "# Convert PDF to CSV using tabula\n",
    "'''\n",
    "tabula.convert_into(\n",
    "    \"../sources/.pdf/strassenliste-milieuschutzgebiete-berlin.pdf\",\n",
    "    \"strassenliste-milieuschutzgebiete-berlin.csv\",\n",
    "    output_format=\"csv\",\n",
    "    pages=\"all\"\n",
    ")\n",
    "'''\n",
    "   "
   ]
  },
  {
   "cell_type": "markdown",
   "id": "dbfdc566",
   "metadata": {},
   "source": [
    "### 1.2 Modelling & Planning\n"
   ]
  },
  {
   "cell_type": "markdown",
   "id": "25184f75",
   "metadata": {},
   "source": [
    "#### Select and document key parameters/columns from raw data relevant to the use case:\n",
    "\n",
    "Following the guidance to use \"neighborhoods\" as the primary unifying column, the data has been updated accordingly. All relevant DataFrames now use the column name `neighborhoods` (instead of \"district\" or \"Bezirk\") for consistency and improved user intuitiveness. This approach aligns with common user expectations and supports easier integration across datasets, as most users identify locations by neighborhood rather than administrative district.\n"
   ]
  },
  {
   "cell_type": "code",
   "execution_count": 246,
   "id": "da38abfc",
   "metadata": {},
   "outputs": [
    {
     "name": "stdout",
     "output_type": "stream",
     "text": [
      "                              Straße und Hausnummern        Bezirk  \\\n",
      "0                                Aachener Str. 17-26  Charl.-Wilm.   \n",
      "1                       Aachener Straße alle Nummern  Charl.-Wilm.   \n",
      "2  Aalesunder Straße: 1-12 fortlaufend, alle Nummern        Pankow   \n",
      "3                      Achenbachstraße: alle Nummern       Spandau   \n",
      "4                           Ackerstraße: 2-19, 25-41       Spandau   \n",
      "\n",
      "               Gebiet  \n",
      "0     Brabanter Platz  \n",
      "1     Brabanter Platz  \n",
      "2          Arnimplatz  \n",
      "3  Spandauer Neustadt  \n",
      "4  Spandauer Neustadt  \n"
     ]
    }
   ],
   "source": [
    "# Read the CSV file into a DataFrame\n",
    "milieuschutzgebiete_df = pd.read_csv(\n",
    "    \"strassenliste-milieuschutzgebiete-berlin.csv\")\n",
    "# Display the first few rows of the DataFrame\n",
    "print(milieuschutzgebiete_df.head())"
   ]
  },
  {
   "cell_type": "code",
   "execution_count": 247,
   "id": "c659ff10",
   "metadata": {},
   "outputs": [
    {
     "name": "stdout",
     "output_type": "stream",
     "text": [
      "<class 'pandas.core.frame.DataFrame'>\n",
      "RangeIndex: 1907 entries, 0 to 1906\n",
      "Data columns (total 3 columns):\n",
      " #   Column                  Non-Null Count  Dtype \n",
      "---  ------                  --------------  ----- \n",
      " 0   Straße und Hausnummern  1907 non-null   object\n",
      " 1   Bezirk                  1905 non-null   object\n",
      " 2   Gebiet                  1905 non-null   object\n",
      "dtypes: object(3)\n",
      "memory usage: 44.8+ KB\n",
      "None\n"
     ]
    }
   ],
   "source": [
    "print(milieuschutzgebiete_df.info()) "
   ]
  },
  {
   "cell_type": "code",
   "execution_count": 248,
   "id": "4f077f3b",
   "metadata": {},
   "outputs": [
    {
     "name": "stdout",
     "output_type": "stream",
     "text": [
      "        Straße und Hausnummern       Bezirk       Gebiet\n",
      "count                     1907         1905         1905\n",
      "unique                    1876           25           97\n",
      "top     Straße und Hausnummern  Fhain-Krzb.  Luisenstadt\n",
      "freq                        30          309           57\n"
     ]
    }
   ],
   "source": [
    "print(milieuschutzgebiete_df.describe())"
   ]
  },
  {
   "cell_type": "code",
   "execution_count": 249,
   "id": "00510e60",
   "metadata": {},
   "outputs": [
    {
     "name": "stdout",
     "output_type": "stream",
     "text": [
      "Index(['Straße und Hausnummern', 'Bezirk', 'Gebiet'], dtype='object')\n",
      "Index(['street_and_house_nr', 'neighborhoods', 'area'], dtype='object')\n"
     ]
    }
   ],
   "source": [
    "# copy the DataFrame to a new variable\n",
    "social_preservation_areas_df = milieuschutzgebiete_df.copy()\n",
    "\n",
    "# columns of the DataFrame\n",
    "print(social_preservation_areas_df.columns) \n",
    "\n",
    "# change german columns 'Straße und Hausnummern', 'Bezirk', 'Gebiet' to english column names\n",
    "social_preservation_areas_df = social_preservation_areas_df.rename(\n",
    "    columns={\n",
    "        'Straße und Hausnummern': 'street_and_house_nr',\n",
    "        'Bezirk': 'neighborhoods',\n",
    "        'Gebiet': 'area'\n",
    "    }\n",
    ")\n",
    "\n",
    "print(social_preservation_areas_df.columns)\n"
   ]
  },
  {
   "cell_type": "code",
   "execution_count": 250,
   "id": "ce3ac9c0",
   "metadata": {},
   "outputs": [
    {
     "data": {
      "text/html": [
       "<div>\n",
       "<style scoped>\n",
       "    .dataframe tbody tr th:only-of-type {\n",
       "        vertical-align: middle;\n",
       "    }\n",
       "\n",
       "    .dataframe tbody tr th {\n",
       "        vertical-align: top;\n",
       "    }\n",
       "\n",
       "    .dataframe thead th {\n",
       "        text-align: right;\n",
       "    }\n",
       "</style>\n",
       "<table border=\"1\" class=\"dataframe\">\n",
       "  <thead>\n",
       "    <tr style=\"text-align: right;\">\n",
       "      <th></th>\n",
       "      <th>street_and_house_nr</th>\n",
       "      <th>neighborhoods</th>\n",
       "      <th>area</th>\n",
       "    </tr>\n",
       "  </thead>\n",
       "  <tbody>\n",
       "    <tr>\n",
       "      <th>0</th>\n",
       "      <td>Aachener Str. 17-26</td>\n",
       "      <td>Charl.-Wilm.</td>\n",
       "      <td>Brabanter Platz</td>\n",
       "    </tr>\n",
       "    <tr>\n",
       "      <th>1</th>\n",
       "      <td>Aachener Straße alle Nummern</td>\n",
       "      <td>Charl.-Wilm.</td>\n",
       "      <td>Brabanter Platz</td>\n",
       "    </tr>\n",
       "    <tr>\n",
       "      <th>2</th>\n",
       "      <td>Aalesunder Straße: 1-12 fortlaufend, alle Nummern</td>\n",
       "      <td>Pankow</td>\n",
       "      <td>Arnimplatz</td>\n",
       "    </tr>\n",
       "    <tr>\n",
       "      <th>3</th>\n",
       "      <td>Achenbachstraße: alle Nummern</td>\n",
       "      <td>Spandau</td>\n",
       "      <td>Spandauer Neustadt</td>\n",
       "    </tr>\n",
       "    <tr>\n",
       "      <th>4</th>\n",
       "      <td>Ackerstraße: 2-19, 25-41</td>\n",
       "      <td>Spandau</td>\n",
       "      <td>Spandauer Neustadt</td>\n",
       "    </tr>\n",
       "  </tbody>\n",
       "</table>\n",
       "</div>"
      ],
      "text/plain": [
       "                                 street_and_house_nr neighborhoods  \\\n",
       "0                                Aachener Str. 17-26  Charl.-Wilm.   \n",
       "1                       Aachener Straße alle Nummern  Charl.-Wilm.   \n",
       "2  Aalesunder Straße: 1-12 fortlaufend, alle Nummern        Pankow   \n",
       "3                      Achenbachstraße: alle Nummern       Spandau   \n",
       "4                           Ackerstraße: 2-19, 25-41       Spandau   \n",
       "\n",
       "                 area  \n",
       "0     Brabanter Platz  \n",
       "1     Brabanter Platz  \n",
       "2          Arnimplatz  \n",
       "3  Spandauer Neustadt  \n",
       "4  Spandauer Neustadt  "
      ]
     },
     "execution_count": 250,
     "metadata": {},
     "output_type": "execute_result"
    }
   ],
   "source": [
    "social_preservation_areas_df.head()"
   ]
  },
  {
   "cell_type": "code",
   "execution_count": 251,
   "id": "41f80e4c",
   "metadata": {},
   "outputs": [
    {
     "data": {
      "text/plain": [
       "array(['Mitte', 'Friedrichshain-Kreuzberg', 'Pankow',\n",
       "       'Charlottenburg-Wilmersdorf', 'Spandau', 'Steglitz-Zehlendorf',\n",
       "       'Tempelhof-Schöneberg', 'Neukölln', 'Treptow-Köpenick',\n",
       "       'Lichtenberg', 'Reinickendorf'], dtype=object)"
      ]
     },
     "execution_count": 251,
     "metadata": {},
     "output_type": "execute_result"
    }
   ],
   "source": [
    "bezirk_unique"
   ]
  },
  {
   "cell_type": "code",
   "execution_count": 252,
   "id": "84c2688a",
   "metadata": {},
   "outputs": [
    {
     "name": "stdout",
     "output_type": "stream",
     "text": [
      "['Charl.-Wilm.' 'Pankow' 'Spandau' 'Fhain-Krzb.' 'Mitte' 'Stg-Zehlend'\n",
      " 'Reinickendorf' nan 'Thf-Schönb.' 'Bezirk' 'Lichtenberg' 'Neukölln'\n",
      " 'Schöneberg' 'Treptow' 'Prenzl Berg' 'Trept.-Köp.' 'Charl.- Wilmersd.'\n",
      " 'Weissensee' 'Tempelholf-\\rSchöneberg' 'Neuköln' 'Charl.-Wilm..'\n",
      " 'Friedrichs.-Krzb.' 'Friedrichshain' 'Prenzl. Berg' 'Pankow\\r(Weißensee)'\n",
      " 'Prenzl-Berg']\n"
     ]
    }
   ],
   "source": [
    "neighborhoods_unique = social_preservation_areas_df['neighborhoods'].unique()\n",
    "print(neighborhoods_unique) "
   ]
  },
  {
   "cell_type": "code",
   "execution_count": 253,
   "id": "c994ba63",
   "metadata": {},
   "outputs": [],
   "source": [
    "# export the DataFrame to a CSV file\n",
    "#social_preservation_areas_df.to_csv(\"social_preservation_areas.csv\", index=False) "
   ]
  },
  {
   "cell_type": "code",
   "execution_count": null,
   "id": "d59109c3",
   "metadata": {},
   "outputs": [],
   "source": [
    "# Download both available layers from the WFS endpoint as GeoDataFrames\n",
    "import geopandas as gpd\n",
    "\n",
    "wfs_url = \"https://gdi.berlin.de/services/wfs/erhaltungsverordnungsgebiete\"\n",
    "layers = [\n",
    "    \"erhaltungsverordnungsgebiete:erhaltgeb_em\",  # Erhaltung der Zusammensetzung der Wohnbevölkerung\n",
    "    \"erhaltungsverordnungsgebiete:erhaltgeb_es\",  # Erhaltung der städtebaulichen Eigenart\n",
    "]\n",
    "\n",
    "# Download as GeoJSON\n",
    "em_url = f\"{wfs_url}?service=WFS&version=2.0.0&request=GetFeature&typeNames={layers[0]}&outputFormat=application/json\"\n",
    "es_url = f\"{wfs_url}?service=WFS&version=2.0.0&request=GetFeature&typeNames={layers[1]}&outputFormat=application/json\"\n",
    "\n",
    "gdf_em = gpd.read_file(em_url)\n",
    "gdf_es = gpd.read_file(es_url)\n",
    "\n",
    "print(f\"Downloaded {len(gdf_em)} features from erhaltgeb_em\")\n",
    "print(f\"Downloaded {len(gdf_es)} features from erhaltgeb_es\")\n",
    "gdf_em.head(), gdf_es.head()"
   ]
  },
  {
   "cell_type": "markdown",
   "id": "91c5db08",
   "metadata": {},
   "source": [
    "```markdown\n",
    "### Downloading and Inspecting Milieuschutz GeoDataFrames\n",
    "\n",
    "The code above demonstrates how to programmatically download both available layers from the Berlin WFS endpoint as GeoDataFrames using GeoPandas:\n",
    "\n",
    "- **Layer 1:** `erhaltgeb_em` (Erhaltung der Zusammensetzung der Wohnbevölkerung)  \n",
    "    Focuses on the preservation of the social composition of residents within protected areas.\n",
    "\n",
    "- **Layer 2:** `erhaltgeb_es` (Erhaltung der städtebaulichen Eigenart)  \n",
    "    Focuses on the preservation of the unique urban character of neighborhoods.\n",
    "\n",
    "Each layer is accessed via a direct GeoJSON URL and loaded into a separate GeoDataFrame (`gdf_em` and `gdf_es`). The code prints the number of features (areas) downloaded for each layer and displays the first few rows for a quick inspection.\n",
    "\n",
    "This step ensures that both geospatial datasets are available for further analysis, comparison, and integration with other tabular data sources in the project.\n",
    "```"
   ]
  },
  {
   "cell_type": "markdown",
   "id": "543931de",
   "metadata": {},
   "source": [
    "## Data Transformation Plan\n",
    "\n",
    "**1. Key Parameters/Columns:**\n",
    "- Select columns such as street name, district (Bezirk), area name (Gebietsname), and any unique identifiers relevant to the use case.\n",
    "\n",
    "**2. Data Connections:**\n",
    "- Link data to existing tables using coordinates, district names, or neighborhood codes to enable spatial joins and enrich analysis.\n",
    "\n",
    "**3. Planned Schema:**\n",
    "- Draft a new table schema with fields: `id`, `street_name`, `district`, `area_name`, `coordinates`, and any additional attributes needed for the project.\n",
    "\n",
    "**4. Known Data Issues:**\n",
    "- Possible inconsistencies in street naming conventions\n",
    "- Missing or incomplete coordinate data\n",
    "- Duplicate entries or overlapping areas\n",
    "\n",
    "**5. Transformation Steps:**\n",
    "- Clean and standardize street and district names\n",
    "- Normalize area names and codes\n",
    "- Remove duplicates and handle missing values\n",
    "- Structure the data to match the planned schema\n",
    "- Validate connections to existing tables (spatial and tabular)\n",
    "\n",
    "_This plan will guide the cleaning, normalization, and integration of the latest dataframe into the project database for further analysis._"
   ]
  }
 ],
 "metadata": {
  "kernelspec": {
   "display_name": ".venv",
   "language": "python",
   "name": "python3"
  },
  "language_info": {
   "codemirror_mode": {
    "name": "ipython",
    "version": 3
   },
   "file_extension": ".py",
   "mimetype": "text/x-python",
   "name": "python",
   "nbconvert_exporter": "python",
   "pygments_lexer": "ipython3",
   "version": "3.11.11"
  }
 },
 "nbformat": 4,
 "nbformat_minor": 5
}
