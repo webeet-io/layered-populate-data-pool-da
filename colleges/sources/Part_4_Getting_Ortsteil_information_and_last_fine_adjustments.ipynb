{
  "nbformat": 4,
  "nbformat_minor": 0,
  "metadata": {
    "colab": {
      "provenance": []
    },
    "kernelspec": {
      "name": "python3",
      "display_name": "Python 3"
    },
    "language_info": {
      "name": "python"
    }
  },
  "cells": [
    {
      "cell_type": "code",
      "source": [
        "pip install requests pandas"
      ],
      "metadata": {
        "colab": {
          "base_uri": "https://localhost:8080/"
        },
        "id": "p6SN5bltgve4",
        "outputId": "31880e5f-ef3b-4ced-fecf-5e0e593dad37"
      },
      "execution_count": 11,
      "outputs": [
        {
          "output_type": "stream",
          "name": "stdout",
          "text": [
            "Requirement already satisfied: requests in /usr/local/lib/python3.11/dist-packages (2.32.3)\n",
            "Requirement already satisfied: pandas in /usr/local/lib/python3.11/dist-packages (2.2.2)\n",
            "Requirement already satisfied: charset-normalizer<4,>=2 in /usr/local/lib/python3.11/dist-packages (from requests) (3.4.3)\n",
            "Requirement already satisfied: idna<4,>=2.5 in /usr/local/lib/python3.11/dist-packages (from requests) (3.10)\n",
            "Requirement already satisfied: urllib3<3,>=1.21.1 in /usr/local/lib/python3.11/dist-packages (from requests) (2.5.0)\n",
            "Requirement already satisfied: certifi>=2017.4.17 in /usr/local/lib/python3.11/dist-packages (from requests) (2025.8.3)\n",
            "Requirement already satisfied: numpy>=1.23.2 in /usr/local/lib/python3.11/dist-packages (from pandas) (2.0.2)\n",
            "Requirement already satisfied: python-dateutil>=2.8.2 in /usr/local/lib/python3.11/dist-packages (from pandas) (2.9.0.post0)\n",
            "Requirement already satisfied: pytz>=2020.1 in /usr/local/lib/python3.11/dist-packages (from pandas) (2025.2)\n",
            "Requirement already satisfied: tzdata>=2022.7 in /usr/local/lib/python3.11/dist-packages (from pandas) (2025.2)\n",
            "Requirement already satisfied: six>=1.5 in /usr/local/lib/python3.11/dist-packages (from python-dateutil>=2.8.2->pandas) (1.17.0)\n"
          ]
        }
      ]
    },
    {
      "cell_type": "markdown",
      "source": [
        "Doing reverse Geocoding for extracting quarters (Ortsteil), in addition to Stadtteil. Google Maps APi does not deliver such info, thats why i used Nominatum (Open Street Map Api). It is important to use User-Agent Header, in order to implement delay between several requests, if you dont want to be blocked."
      ],
      "metadata": {
        "id": "PrCbBBvl1vuD"
      }
    },
    {
      "cell_type": "code",
      "source": [
        "import requests\n",
        "import pandas as pd\n",
        "import time\n",
        "\n",
        "# Load the existing CSV file\n",
        "input_file = 'universities_Berlin.csv'\n",
        "output_file = 'universities_Berlin_full.csv'\n",
        "\n",
        "# Read the CSV file into a DataFrame\n",
        "df = pd.read_csv(input_file)\n",
        "\n",
        "# Custom User-Agent header\n",
        "headers = {\n",
        "    'User-Agent': 'MyGeocodingApp/1.0 (your.email@example.com)'\n",
        "}\n",
        "\n",
        "# Function to reverse geocode coordinates using Nominatim API\n",
        "def reverse_geocode(lat, lng):\n",
        "    url = f\"https://nominatim.openstreetmap.org/reverse?lat={lat}&lon={lng}&format=json&addressdetails=1\"\n",
        "    try:\n",
        "        response = requests.get(url, headers=headers)\n",
        "        response.raise_for_status()  # Raise an error for bad status codes\n",
        "        data = response.json()\n",
        "        if 'address' in data:\n",
        "            address = data['address']\n",
        "            # Try to get the most specific locality level available\n",
        "            if 'suburb' in address:\n",
        "                return address['suburb']\n",
        "            elif 'quarter' in address:\n",
        "                return address['quarter']\n",
        "            elif 'neighbourhood' in address:\n",
        "                return address['neighbourhood']\n",
        "            elif 'city_district' in address:\n",
        "                return address['city_district']\n",
        "            else:\n",
        "                print(f\"No specific locality found for lat={lat}, lng={lng}\")\n",
        "        else:\n",
        "            print(f\"No address details found for lat={lat}, lng={lng}\")\n",
        "    except requests.exceptions.RequestException as e:\n",
        "        print(f\"Request failed for lat={lat}, lng={lng}: {e}\")\n",
        "    return None\n",
        "\n",
        "# Add a new column for Orsteil (quarters)\n",
        "df['Orsteil'] = df.apply(lambda row: reverse_geocode(row['latitude'], row['longitude']), axis=1)\n",
        "\n",
        "# Save the updated DataFrame to a new CSV file\n",
        "df.to_csv(output_file, index=False)\n",
        "\n",
        "print(f\"Updated file saved as {output_file}\")"
      ],
      "metadata": {
        "colab": {
          "base_uri": "https://localhost:8080/"
        },
        "id": "mKWNIMTWmj_h",
        "outputId": "5736bcf7-6b78-4705-e264-e766a4d5373f"
      },
      "execution_count": 18,
      "outputs": [
        {
          "output_type": "stream",
          "name": "stdout",
          "text": [
            "Updated file saved as universities_Berlin_full.csv\n"
          ]
        }
      ]
    },
    {
      "cell_type": "markdown",
      "source": [
        "Renamed Neighbourhood to Stadteil and stripped AGS code to the last 2 digits for uniform apprearance of this column for future joining and avoding inconsistency issues."
      ],
      "metadata": {
        "id": "7zuDEJGf2vRI"
      }
    },
    {
      "cell_type": "code",
      "source": [
        "import pandas as pd\n",
        "\n",
        "# Load the existing CSV file\n",
        "input_file = 'universities_Berlin_full.csv'\n",
        "\n",
        "# Read the CSV file into a DataFrame\n",
        "df = pd.read_csv(input_file)\n",
        "\n",
        "# Rename the 'neighbourhood' column to 'Stadtteil'\n",
        "df.rename(columns={'neighborhood': 'Stadtteil'}, inplace=True)\n",
        "\n",
        "# Strip the AGS code column to display only the last 2 digits\n",
        "df['AGS_Code'] = df['AGS_Code'].astype(str).str[-2:]\n",
        "\n",
        "# Save the updated DataFrame to the same CSV file\n",
        "df.to_csv(input_file, index=False)\n",
        "\n",
        "print(f\"Updated file saved as {input_file}\")"
      ],
      "metadata": {
        "colab": {
          "base_uri": "https://localhost:8080/"
        },
        "id": "b3Kd65BfqvVv",
        "outputId": "6accf432-83ff-465f-dfe2-5c5f3f84ed93"
      },
      "execution_count": 17,
      "outputs": [
        {
          "output_type": "stream",
          "name": "stdout",
          "text": [
            "Updated file saved as universities_Berlin_full.csv\n"
          ]
        }
      ]
    }
  ]
}