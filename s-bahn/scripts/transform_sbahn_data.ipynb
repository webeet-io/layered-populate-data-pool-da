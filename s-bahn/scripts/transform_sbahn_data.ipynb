{
 "cells": [
  {
   "cell_type": "code",
   "execution_count": 44,
   "id": "3f64be87",
   "metadata": {},
   "outputs": [],
   "source": [
    "#setup\n",
    "import pandas as pd\n",
    "from pathlib import Path\n"
   ]
  },
  {
   "cell_type": "code",
   "execution_count": 45,
   "id": "eafffc78",
   "metadata": {},
   "outputs": [
    {
     "name": "stdout",
     "output_type": "stream",
     "text": [
      "Raw stops shape: (423, 4)\n",
      "Raw routes shape: (1318, 8)\n",
      "Raw trips shape: (246906, 10)\n",
      "Raw stop_times shape: (5497299, 8)\n"
     ]
    }
   ],
   "source": [
    "#paths\n",
    "gtfs_dir = Path(\"/Users/hebifou/Downloads/GTFS\")\n",
    "stops_csv = gtfs_dir / \"sbahn_stations_clean.csv\"       # has: stop_id, stop_name, stop_lat, stop_lon\n",
    "routes_txt = gtfs_dir / \"routes.txt\"\n",
    "trips_txt = gtfs_dir / \"trips.txt\"\n",
    "stop_times_txt = gtfs_dir / \"stop_times.txt\"\n",
    "out_csv = gtfs_dir / \"sources\" / \"sbahn_stations_transformed.csv\"\n",
    "out_csv.parent.mkdir(parents=True, exist_ok=True)\n",
    "\n",
    "#loading inputs\n",
    "stops = pd.read_csv(stops_csv)  # keeping stop_id for joining\n",
    "routes = pd.read_csv(routes_txt, low_memory=False)\n",
    "trips = pd.read_csv(trips_txt, low_memory=False)\n",
    "stop_times = pd.read_csv(stop_times_txt, low_memory=False)\n",
    "\n",
    "print(\"Raw stops shape:\", stops.shape)\n",
    "print(\"Raw routes shape:\", routes.shape)\n",
    "print(\"Raw trips shape:\", trips.shape)\n",
    "print(\"Raw stop_times shape:\", stop_times.shape)\n"
   ]
  },
  {
   "cell_type": "code",
   "execution_count": 46,
   "id": "6ddc94f2",
   "metadata": {},
   "outputs": [
    {
     "name": "stdout",
     "output_type": "stream",
     "text": [
      "Filtered S-Bahn routes: (53, 8)\n",
      "    route_id route_short_name\n",
      "0  26976_700              S3H\n",
      "1  25929_109               S3\n",
      "2  24864_109               S5\n",
      "3  22240_109              S85\n",
      "4  22239_109               S8\n"
     ]
    }
   ],
   "source": [
    "#keeping only S-Bahn routes (route_short_name starts with 'S')\n",
    "routes_s = routes[routes[\"route_short_name\"].astype(str).str.startswith(\"S\", na=False)].copy()\n",
    "print(\"Filtered S-Bahn routes:\", routes_s.shape)\n",
    "print(routes_s[[\"route_id\", \"route_short_name\"]].head(5))"
   ]
  },
  {
   "cell_type": "code",
   "execution_count": 47,
   "id": "f642bc68",
   "metadata": {},
   "outputs": [
    {
     "name": "stdout",
     "output_type": "stream",
     "text": [
      "Merged stop_times + trips: (5497299, 9)\n",
      "Merged with S-Bahn routes: (364630, 10)\n",
      "     trip_id arrival_time departure_time                stop_id  \\\n",
      "0  269576732      4:37:00        4:37:00  de:11000:900182001::1   \n",
      "1  269576732      4:39:00        4:39:00  de:11000:900180512::1   \n",
      "2  269576732      4:43:00        4:43:00  de:11000:900180309::1   \n",
      "3  269576731      4:35:00        4:35:00  de:11000:900180309::1   \n",
      "4  269576731      4:38:00        4:38:00  de:11000:900180512::1   \n",
      "\n",
      "   stop_sequence  pickup_type  drop_off_type stop_headsign   route_id  \\\n",
      "0              0            0              0           NaN  26976_700   \n",
      "1              1            0              0           NaN  26976_700   \n",
      "2              2            0              0           NaN  26976_700   \n",
      "3              0            0              0           NaN  26976_700   \n",
      "4              1            0              0           NaN  26976_700   \n",
      "\n",
      "  route_short_name  \n",
      "0              S3H  \n",
      "1              S3H  \n",
      "2              S3H  \n",
      "3              S3H  \n",
      "4              S3H  \n",
      "Lines per stop shape: (513, 2)\n",
      "                   stop_id              line\n",
      "0             000008012200              [S2]\n",
      "1             000008012273              [S4]\n",
      "2  de:11000:900001201:1:50   [S41, S42, S46]\n",
      "3  de:11000:900001201:1:51   [S41, S42, S46]\n",
      "4  de:11000:900003102:1:50  [S3, S5, S7, S9]\n"
     ]
    }
   ],
   "source": [
    "#mapping stop_id -> list of served S lines\n",
    "st_tr = stop_times.merge(trips[[\"trip_id\", \"route_id\"]], on=\"trip_id\", how=\"left\")\n",
    "print(\"Merged stop_times + trips:\", st_tr.shape)\n",
    "\n",
    "st_tr_ro = st_tr.merge(routes_s[[\"route_id\", \"route_short_name\"]], on=\"route_id\", how=\"inner\")\n",
    "print(\"Merged with S-Bahn routes:\", st_tr_ro.shape)\n",
    "print(st_tr_ro.head(5))\n",
    "\n",
    "lines_per_stop = (\n",
    "    st_tr_ro.groupby(\"stop_id\")[\"route_short_name\"]\n",
    "    .apply(lambda s: sorted(set(s.dropna().astype(str))))\n",
    "    .reset_index()\n",
    "    .rename(columns={\"route_short_name\": \"line\"})\n",
    ")\n",
    "print(\"Lines per stop shape:\", lines_per_stop.shape)\n",
    "print(lines_per_stop.head(5))"
   ]
  },
  {
   "cell_type": "code",
   "execution_count": 48,
   "id": "00a07fa3",
   "metadata": {},
   "outputs": [
    {
     "name": "stdout",
     "output_type": "stream",
     "text": [
      "After merging lines to stops: (423, 5)\n"
     ]
    }
   ],
   "source": [
    "#joining lines back to our S-Bahn stops (by stop_id)\n",
    "df = stops.merge(lines_per_stop, on=\"stop_id\", how=\"left\")\n",
    "print(\"After merging lines to stops:\", df.shape)"
   ]
  },
  {
   "cell_type": "code",
   "execution_count": 50,
   "id": "2152efb5",
   "metadata": {},
   "outputs": [
    {
     "name": "stdout",
     "output_type": "stream",
     "text": [
      "\n",
      "Data Quality Checks\n",
      "Total rows: 423\n",
      "Unique stations: 201\n",
      "Duplicate stations: 222\n"
     ]
    }
   ],
   "source": [
    "#renameing to target schema and adding placeholders (no fkdistrict in CSV)\n",
    "df = df.rename(columns={\n",
    "    \"stop_name\": \"station\",\n",
    "    \"stop_lat\": \"latitude\",\n",
    "    \"stop_lon\": \"longitude\"\n",
    "})\n",
    "df[\"postcode\"] = None\n",
    "df[\"neighborhood\"] = None\n",
    "\n",
    "#select and order final columns\n",
    "df = df[[\"station\", \"line\", \"latitude\", \"longitude\", \"postcode\", \"neighborhood\"]]\n",
    "\n",
    "#checks\n",
    "print(\"\\nData Quality Checks\")\n",
    "print(\"Total rows:\", len(df))\n",
    "print(\"Unique stations:\", df[\"station\"].nunique())\n",
    "print(\"Duplicate stations:\", df.duplicated(subset=[\"station\"]).sum())\n"
   ]
  },
  {
   "cell_type": "code",
   "execution_count": 52,
   "id": "44ff033f",
   "metadata": {},
   "outputs": [
    {
     "name": "stdout",
     "output_type": "stream",
     "text": [
      "Invalid coordinates found: 0\n",
      "\n",
      "Final DataFrame preview:\n",
      "                  station              line   latitude  longitude postcode  \\\n",
      "0      S Birkenwerder Bhf          [S1, S8]  52.688665  13.288775     None   \n",
      "1      S Birkenwerder Bhf          [S1, S8]  52.688658  13.288626     None   \n",
      "2  S+U Westhafen (Berlin)   [S41, S42, S46]  52.536218  13.344329     None   \n",
      "3  S+U Westhafen (Berlin)   [S41, S42, S46]  52.536318  13.344298     None   \n",
      "4     S Bellevue (Berlin)  [S3, S5, S7, S9]  52.519946  13.348090     None   \n",
      "\n",
      "  neighborhood  \n",
      "0         None  \n",
      "1         None  \n",
      "2         None  \n",
      "3         None  \n",
      "4         None  \n"
     ]
    }
   ],
   "source": [
    "#checking coordinates\n",
    "invalid_coords = df[\n",
    "    (df[\"latitude\"] < 52.3) | (df[\"latitude\"] > 52.7) |\n",
    "    (df[\"longitude\"] < 13.0) | (df[\"longitude\"] > 13.8)\n",
    "]\n",
    "print(\"Invalid coordinates found:\", len(invalid_coords))\n",
    "\n",
    "#preview\n",
    "print(\"\\nFinal DataFrame preview:\")\n",
    "print(df.head(5))\n",
    "\n"
   ]
  },
  {
   "cell_type": "code",
   "execution_count": 53,
   "id": "45400cde",
   "metadata": {},
   "outputs": [
    {
     "name": "stdout",
     "output_type": "stream",
     "text": [
      "\n",
      "Saved: /Users/hebifou/Downloads/GTFS/sources/sbahn_stations_transformed.csv\n"
     ]
    }
   ],
   "source": [
    "#saving\n",
    "df.to_csv(out_csv, index=False)\n",
    "print(f\"\\nSaved: {out_csv}\")"
   ]
  }
 ],
 "metadata": {
  "kernelspec": {
   "display_name": "3.10.13",
   "language": "python",
   "name": "python3"
  },
  "language_info": {
   "codemirror_mode": {
    "name": "ipython",
    "version": 3
   },
   "file_extension": ".py",
   "mimetype": "text/x-python",
   "name": "python",
   "nbconvert_exporter": "python",
   "pygments_lexer": "ipython3",
   "version": "3.10.13"
  }
 },
 "nbformat": 4,
 "nbformat_minor": 5
}
