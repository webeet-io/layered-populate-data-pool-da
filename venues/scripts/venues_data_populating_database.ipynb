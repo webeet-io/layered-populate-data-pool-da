{
 "cells": [
  {
   "cell_type": "code",
   "execution_count": 18,
   "id": "5fbff3bb",
   "metadata": {},
   "outputs": [],
   "source": [
    "import psycopg2\n",
    "import pandas as pd\n",
    "from sqlalchemy import create_engine, text\n",
    "import warnings\n",
    "\n",
    "warnings.filterwarnings(\"ignore\")"
   ]
  },
  {
   "cell_type": "code",
   "execution_count": 19,
   "id": "2a358778",
   "metadata": {},
   "outputs": [],
   "source": [
    "user_name='giovani_goltara'\n",
    "password='ZXBq7H2Nr189bs'"
   ]
  },
  {
   "cell_type": "code",
   "execution_count": 20,
   "id": "0af7772e",
   "metadata": {},
   "outputs": [],
   "source": [
    "# Conection\n",
    "host = 'localhost'\n",
    "port = '5433'\n",
    "database = 'layereddb'\n",
    "schema='berlin_source_data'\n",
    "\n",
    "# Connection to db using SQLAlchemy\n",
    "engine = create_engine(f'postgresql+psycopg2://{user_name}:{password}@{host}:{port}/{database}')"
   ]
  },
  {
   "cell_type": "code",
   "execution_count": 23,
   "id": "5142f868",
   "metadata": {},
   "outputs": [],
   "source": [
    "# Creating the table venues with constraints\n",
    "create_table_query = f\"\"\"\n",
    "CREATE TABLE IF NOT EXISTS {schema}.venues (\n",
    "    venue_id VARCHAR(10) NOT NULL UNIQUE,   -- PK: must be unique and not null\n",
    "    district_id VARCHAR(20) NOT NULL,        -- FK: must be not null\n",
    "    name VARCHAR(200) NOT NULL,             -- venue name: required\n",
    "    district VARCHAR(200) NOT NULL,         -- district name: required\n",
    "\n",
    "    category VARCHAR(200),\n",
    "    cuisine VARCHAR(200),\n",
    "    phone VARCHAR(50),\n",
    "    address VARCHAR(200),\n",
    "    latitude DECIMAL(9,6),\n",
    "    longitude DECIMAL(9,6),\n",
    "    website VARCHAR(200),\n",
    "    opening_hours_dict JSONB,\n",
    "    opening_hours VARCHAR(500),\n",
    "    postal_code VARCHAR(10),\n",
    "    neighborhood VARCHAR(200),\n",
    "    takeaway VARCHAR(10),\n",
    "    wheelchair_accessible VARCHAR(10),\n",
    "\n",
    "    CONSTRAINT venues_pk PRIMARY KEY (venue_id),\n",
    "    CONSTRAINT venues_district_fk FOREIGN KEY (district_id)\n",
    "        REFERENCES {schema}.districts(district_id)\n",
    "        ON DELETE RESTRICT\n",
    "        ON UPDATE CASCADE\n",
    ");\n",
    "\"\"\"\n",
    "\n",
    "# Execute the query to create empty table\n",
    "with engine.connect() as conn:   \n",
    "    conn.execute(text(create_table_query))\n",
    "    conn.commit()"
   ]
  },
  {
   "cell_type": "code",
   "execution_count": 24,
   "id": "b4759162",
   "metadata": {},
   "outputs": [
    {
     "name": "stdout",
     "output_type": "stream",
     "text": [
      "DataFrame sent to PostgreSQL using .to_sql() with psycopg2!\n"
     ]
    }
   ],
   "source": [
    "# Read the CSV file\n",
    "df = pd.read_csv(\n",
    "    \"/Users/giovanigoltara/Documents/webeet/layered-populate-data-pool-da/venues/sources/berlin_venues_cleaned.csv\",\n",
    "    sep=None,          # infer delimiter\n",
    "    engine=\"python\"    # needed when sep=None\n",
    ")\n",
    "\n",
    "#  Send the DataFrame to the database using .to_sql()\n",
    "df.to_sql(\n",
    "    f'venues',        \n",
    "    engine,\n",
    "    schema=schema,\n",
    "    if_exists='append', \n",
    "    index=False\n",
    ")\n",
    "\n",
    "print(\"DataFrame sent to PostgreSQL using .to_sql() with psycopg2!\")"
   ]
  }
 ],
 "metadata": {
  "kernelspec": {
   "display_name": "Python 3",
   "language": "python",
   "name": "python3"
  },
  "language_info": {
   "codemirror_mode": {
    "name": "ipython",
    "version": 3
   },
   "file_extension": ".py",
   "mimetype": "text/x-python",
   "name": "python",
   "nbconvert_exporter": "python",
   "pygments_lexer": "ipython3",
   "version": "3.12.3"
  }
 },
 "nbformat": 4,
 "nbformat_minor": 5
}
