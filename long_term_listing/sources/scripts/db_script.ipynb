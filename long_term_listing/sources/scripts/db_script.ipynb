{
 "cells": [
  {
   "cell_type": "code",
   "execution_count": 65,
   "id": "932e5366",
   "metadata": {},
   "outputs": [],
   "source": [
    "import psycopg2\n",
    "import pandas as pd\n",
    "from sqlalchemy import create_engine, text\n",
    "import warnings\n",
    "\n",
    "warnings.filterwarnings(\"ignore\")"
   ]
  },
  {
   "cell_type": "code",
   "execution_count": 66,
   "id": "12c318bd",
   "metadata": {},
   "outputs": [],
   "source": [
    "# 1. Load your DataFrame\n",
    "df = pd.read_csv(\"/Users/sums/Downloads/immowelt_longterm_listings.csv\", sep=\",\")  # comma separator"
   ]
  },
  {
   "cell_type": "code",
   "execution_count": 67,
   "id": "66181db4",
   "metadata": {},
   "outputs": [],
   "source": [
    "# 2. Connection settings\n",
    "user_name = \"sumi_dhakal\"\n",
    "password = \"0n6vTrvHmQl3gt\"\n",
    "host = \"localhost\"      # because SSM tunnel forwards here\n",
    "port = \"5433\"           \n",
    "database = \"layereddb\"\n",
    "schema = \"berlin_source_data\"\n"
   ]
  },
  {
   "cell_type": "code",
   "execution_count": 68,
   "id": "63d48cf8",
   "metadata": {},
   "outputs": [],
   "source": [
    "# Create SQLAlchemy engine\n",
    "engine = create_engine(\n",
    "    f\"postgresql+psycopg2://{user_name}:{password}@{host}:{port}/{database}\")"
   ]
  },
  {
   "cell_type": "code",
   "execution_count": 69,
   "id": "1cd0dc8e",
   "metadata": {},
   "outputs": [
    {
     "name": "stdout",
     "output_type": "stream",
     "text": [
      "['detail_url', 'raw_info', 'type', 'first_tenant', 'price_euro', 'number_of_rooms', 'surface_m2', 'floor', 'street', 'house_number', 'neighborhood', 'district', 'postal_code', 'city', 'address', 'latitude', 'longitude', 'geometry', 'district_id', 'listing_id']\n"
     ]
    }
   ],
   "source": [
    "\n",
    "# Remove duplicate columns (keeps the first occurrence)\n",
    "df = df.loc[:, ~df.columns.duplicated()]\n",
    "\n",
    "# Optional: check columns\n",
    "print(df.columns.tolist())\n",
    "\n"
   ]
  },
  {
   "cell_type": "code",
   "execution_count": 70,
   "id": "9c8ab520",
   "metadata": {},
   "outputs": [
    {
     "data": {
      "text/plain": [
       "<bound method NDFrame.describe of                                              detail_url  \\\n",
       "0     https://www.immowelt.de/expose/60a4680b-c666-4...   \n",
       "1     https://www.immowelt.de/expose/48b02494-b932-4...   \n",
       "2     https://www.immowelt.de/expose/fb32adca-5d67-4...   \n",
       "3     https://www.immowelt.de/expose/4985f014-94b9-4...   \n",
       "4     https://www.immowelt.de/expose/2144d17c-ae55-4...   \n",
       "...                                                 ...   \n",
       "1162  https://www.immowelt.de/expose/645c9ad8-9a11-4...   \n",
       "1163  https://www.immowelt.de/expose/055696ce-efd5-4...   \n",
       "1164  https://www.immowelt.de/expose/b099a0db-45f4-4...   \n",
       "1165  https://www.immowelt.de/expose/21fc6a2d-d87a-4...   \n",
       "1166  https://www.immowelt.de/expose/d81a02d9-be37-4...   \n",
       "\n",
       "                                               raw_info     type first_tenant  \\\n",
       "0     Wohnung zur Miete - Erstbezug 1.840 € 2 Zimmer...  Wohnung          yes   \n",
       "1     WG-Zimmer zur Miete Wohnen auf Zeit 1.199 € 20...       WG           no   \n",
       "2     Wohnung zur Miete 2.772 € 4 Zimmer 178 m² frei...  Wohnung           no   \n",
       "3     Studio zur Miete 495 € 2 Zimmer 43,7 m² frei a...   Studio           no   \n",
       "4     Studio zur Miete 1.625 € 2 Zimmer 44 m² EG Gün...   Studio           no   \n",
       "...                                                 ...      ...          ...   \n",
       "1162  Einfamilienhaus zur Miete 3.500 € 7 Zimmer 222...     Haus           no   \n",
       "1163  Einfamilienhaus zur Miete 2.950 € 5 Zimmer 165...     Haus           no   \n",
       "1164  Einfamilienhaus zur Miete 2.350 € 4 Zimmer 169...     Haus           no   \n",
       "1165  Studio zur Miete 2.500 € 4 Zimmer 169 m² Berli...   Studio           no   \n",
       "1166  Wohnung zur Miete - Erstbezug 2.398 € 3 Zimmer...  Wohnung          yes   \n",
       "\n",
       "      price_euro  number_of_rooms  surface_m2  floor             street  \\\n",
       "0           1840              2.0        76.6    6.0      Nehringstraße   \n",
       "1           1199              1.0        20.0    NaN      Leibnizstraße   \n",
       "2           2772              4.0       178.0    NaN  Stallupöner Allee   \n",
       "3            495              2.0        43.7    NaN      Schweiggerweg   \n",
       "4           1625              2.0        44.0    0.0         Güntzelstr   \n",
       "...          ...              ...         ...    ...                ...   \n",
       "1162        3500              7.0       222.0    NaN                NaN   \n",
       "1163        2950              5.0       165.0    NaN                NaN   \n",
       "1164        2350              4.0       169.0    NaN                NaN   \n",
       "1165        2500              4.0       169.0    NaN                NaN   \n",
       "1166        2398              3.0       109.0    NaN                NaN   \n",
       "\n",
       "     house_number         neighborhood                    district  \\\n",
       "0              13       Charlottenburg  Charlottenburg-Wilmersdorf   \n",
       "1             3-4       Charlottenburg  Charlottenburg-Wilmersdorf   \n",
       "2              33              Westend  Charlottenburg-Wilmersdorf   \n",
       "3               5  Charlottenburg-Nord  Charlottenburg-Wilmersdorf   \n",
       "4              32          Wilmersdorf  Charlottenburg-Wilmersdorf   \n",
       "...           ...                  ...                         ...   \n",
       "1162          NaN            Rahnsdorf            Treptow-Köpenick   \n",
       "1163          NaN            Rahnsdorf            Treptow-Köpenick   \n",
       "1164          NaN      Friedrichshagen            Treptow-Köpenick   \n",
       "1165          NaN      Friedrichshagen            Treptow-Köpenick   \n",
       "1166          NaN          Schmöckwitz            Treptow-Köpenick   \n",
       "\n",
       "      postal_code    city                                        address  \\\n",
       "0           14059  Berlin   Nehringstraße 13 14059 Charlottenburg Berlin   \n",
       "1           10625  Berlin  Leibnizstraße 3-4 10625 Charlottenburg Berlin   \n",
       "2           14055  Berlin      Stallupöner Allee 33 14055 Westend Berlin   \n",
       "3           13627  Berlin    Schweiggerweg 5 13627 Charlottenburg Berlin   \n",
       "4           10717  Berlin         Güntzelstr 32 10717 Wilmersdorf Berlin   \n",
       "...           ...     ...                                            ...   \n",
       "1162        12589  Berlin                          12589 Köpenick Berlin   \n",
       "1163        12589  Berlin                          12589 Köpenick Berlin   \n",
       "1164        12587  Berlin                          12587 Köpenick Berlin   \n",
       "1165        12587  Berlin                          12587 Köpenick Berlin   \n",
       "1166        12527  Berlin                            12527 Grünau Berlin   \n",
       "\n",
       "       latitude  longitude                       geometry  district_id  \\\n",
       "0     52.513930  13.294138  POINT (13.2941382 52.5139304)     11004004   \n",
       "1     52.516670  13.283330      POINT (13.28333 52.51667)     11004004   \n",
       "2     52.504417  13.234717    POINT (13.234717 52.504417)     11004004   \n",
       "3     52.538645  13.282277  POINT (13.2822767 52.5386453)     11004004   \n",
       "4     52.492051  13.320604  POINT (13.3206041 52.4920513)     11004004   \n",
       "...         ...        ...                            ...          ...   \n",
       "1162  52.444636  13.708120  POINT (13.7081201 52.4446362)     11009009   \n",
       "1163  52.444636  13.708120  POINT (13.7081201 52.4446362)     11009009   \n",
       "1164  52.457949  13.631182  POINT (13.6311821 52.4579495)     11009009   \n",
       "1165  52.457949  13.631182  POINT (13.6311821 52.4579495)     11009009   \n",
       "1166  52.383290  13.627307  POINT (13.6273073 52.3832901)     11009009   \n",
       "\n",
       "              listing_id  \n",
       "0      WOH_1840_76_14059  \n",
       "1       WG_1199_20_10625  \n",
       "2     WOH_2772_178_14055  \n",
       "3       STU_495_43_13627  \n",
       "4      STU_1625_44_10717  \n",
       "...                  ...  \n",
       "1162  HAU_3500_222_12589  \n",
       "1163  HAU_2950_165_12589  \n",
       "1164  HAU_2350_169_12587  \n",
       "1165  STU_2500_169_12587  \n",
       "1166  WOH_2398_109_12527  \n",
       "\n",
       "[1167 rows x 20 columns]>"
      ]
     },
     "execution_count": 70,
     "metadata": {},
     "output_type": "execute_result"
    }
   ],
   "source": [
    "df.describe"
   ]
  },
  {
   "cell_type": "code",
   "execution_count": 75,
   "id": "c940561d",
   "metadata": {},
   "outputs": [],
   "source": [
    "# 3. Create target table\n",
    "create_table_query = f\"\"\"\n",
    "CREATE TABLE IF NOT EXISTS {schema}.long_term_listings(\n",
    "    listing_id VARCHAR PRIMARY KEY,\n",
    "    detail_url TEXT,\n",
    "    raw_info TEXT,\n",
    "    type VARCHAR,\n",
    "    first_tenant VARCHAR,\n",
    "    price_euro INTEGER,\n",
    "    number_of_rooms FLOAT,\n",
    "    surface_m2 FLOAT,\n",
    "    floor FLOAT,\n",
    "    street VARCHAR,\n",
    "    house_number VARCHAR,\n",
    "    neighborhood VARCHAR,\n",
    "    district VARCHAR,\n",
    "    postal_code INTEGER,\n",
    "    city VARCHAR,\n",
    "    address TEXT,\n",
    "    latitude FLOAT,\n",
    "    longitude FLOAT,\n",
    "    geometry TEXT,\n",
    "    district_id TEXT,\n",
    "    CONSTRAINT district_id_fk FOREIGN KEY (district_id)\n",
    "    REFERENCES berlin_source_data.districts(district_id)\n",
    "    ON DELETE RESTRICT\n",
    "    ON UPDATE CASCADE\n",
    ");\n",
    "\"\"\"\n",
    "\n",
    "with engine.connect() as conn:\n",
    "    conn.execute(text(create_table_query))\n",
    "    conn.commit()"
   ]
  },
  {
   "cell_type": "code",
   "execution_count": 76,
   "id": "47f60a15",
   "metadata": {},
   "outputs": [
    {
     "name": "stdout",
     "output_type": "stream",
     "text": [
      "✅ Listings uploaded successfully!\n",
      "Sample rows from DB:\n",
      "           listing_id  price_euro         neighborhood  \\\n",
      "0   WOH_1840_76_14059        1840       Charlottenburg   \n",
      "1    WG_1199_20_10625        1199       Charlottenburg   \n",
      "2  WOH_2772_178_14055        2772              Westend   \n",
      "3    STU_495_43_13627         495  Charlottenburg-Nord   \n",
      "4   STU_1625_44_10717        1625          Wilmersdorf   \n",
      "\n",
      "                     district  \n",
      "0  Charlottenburg-Wilmersdorf  \n",
      "1  Charlottenburg-Wilmersdorf  \n",
      "2  Charlottenburg-Wilmersdorf  \n",
      "3  Charlottenburg-Wilmersdorf  \n",
      "4  Charlottenburg-Wilmersdorf  \n"
     ]
    }
   ],
   "source": [
    "# 4. Upload DataFrame to DB\n",
    "df.to_sql(\n",
    "    \"long_term_listings\",\n",
    "    engine,\n",
    "    schema=schema,\n",
    "    if_exists=\"append\",   # append to existing\n",
    "    index=False\n",
    ")\n",
    "\n",
    "print(\"✅ Listings uploaded successfully!\")\n",
    "\n",
    "# 5. Test query\n",
    "query = f\"\"\"\n",
    "SELECT listing_id, price_euro, neighborhood, district\n",
    "FROM {schema}.long_term_listings\n",
    "LIMIT 5;\n",
    "\"\"\"\n",
    "\n",
    "with engine.connect() as conn:\n",
    "    df_check = pd.read_sql(text(query), conn)\n",
    "\n",
    "print(\"Sample rows from DB:\")\n",
    "print(df_check)"
   ]
  }
 ],
 "metadata": {
  "kernelspec": {
   "display_name": "base",
   "language": "python",
   "name": "python3"
  },
  "language_info": {
   "codemirror_mode": {
    "name": "ipython",
    "version": 3
   },
   "file_extension": ".py",
   "mimetype": "text/x-python",
   "name": "python",
   "nbconvert_exporter": "python",
   "pygments_lexer": "ipython3",
   "version": "3.12.4"
  }
 },
 "nbformat": 4,
 "nbformat_minor": 5
}
