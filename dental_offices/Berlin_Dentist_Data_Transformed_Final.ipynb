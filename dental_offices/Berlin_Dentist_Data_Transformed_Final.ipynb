{
 "cells": [
  {
   "cell_type": "markdown",
   "id": "7cc0283b-d078-426c-94d6-60412f7b0a31",
   "metadata": {},
   "source": [
    "Imports & Constants"
   ]
  },
  {
   "cell_type": "code",
   "execution_count": 1,
   "id": "851fdb15-4e42-4bc3-bf8a-bf3b2d94ef9d",
   "metadata": {},
   "outputs": [],
   "source": [
    "import requests\n",
    "import csv\n",
    "import json\n",
    "from typing import Any, Dict, List, Tuple\n",
    "\n",
    "# Constants\n",
    "DEFAULT_ENDPOINT = \"https://overpass-api.de/api/interpreter\"\n",
    "USER_AGENT = \"BerlinDentistsFetcher/1.0 (jaywindie1@gmail.com)\" \n",
    "OVERPASS_QUERY = \"\"\"\n",
    "[out:json][timeout:60];\n",
    "area[\"name\"=\"Berlin\"][\"admin_level\"=\"4\"]->.berlin;\n",
    "(\n",
    "  node[\"healthcare\"=\"dentist\"](area.berlin);\n",
    "  way[\"healthcare\"=\"dentist\"](area.berlin);\n",
    "  relation[\"healthcare\"=\"dentist\"](area.berlin);\n",
    ");\n",
    "out center;\n",
    "\"\"\"\n"
   ]
  },
  {
   "cell_type": "markdown",
   "id": "63ee4b80-b0b8-4210-8178-577df3913adb",
   "metadata": {},
   "source": [
    "Fetch Data from Overpass API"
   ]
  },
  {
   "cell_type": "code",
   "execution_count": 2,
   "id": "e9d61f2f-331f-4e11-b74e-db1029f5a3a7",
   "metadata": {},
   "outputs": [
    {
     "name": "stdout",
     "output_type": "stream",
     "text": [
      "Retrieved 781 elements.\n"
     ]
    }
   ],
   "source": [
    "def fetch_overpass(query: str, endpoint: str = DEFAULT_ENDPOINT) -> Dict[str, Any]:\n",
    "    headers = {\"User-Agent\": USER_AGENT}\n",
    "    response = requests.post(endpoint, data={\"data\": query}, headers=headers)\n",
    "    response.raise_for_status()\n",
    "    return response.json()\n",
    "\n",
    "# Test fetch (small run)\n",
    "data = fetch_overpass(OVERPASS_QUERY)\n",
    "print(f\"Retrieved {len(data.get('elements', []))} elements.\")"
   ]
  },
  {
   "cell_type": "markdown",
   "id": "b219893d-e973-4aa9-81c6-5eb3fd75b59c",
   "metadata": {},
   "source": [
    "Normalize Elements (Flatten Into Rows)"
   ]
  },
  {
   "cell_type": "code",
   "execution_count": 3,
   "id": "56cf6e3c-5db9-4b72-9c17-e873c84a4380",
   "metadata": {},
   "outputs": [
    {
     "name": "stdout",
     "output_type": "stream",
     "text": [
      "Normalized 781 elements. Example:\n",
      " {'osm_type': 'node', 'osm_id': 304183504, 'name': None, 'addr_street': 'Hönower Straße', 'addr_housenumber': '75', 'addr_postcode': '12623', 'addr_city': 'Berlin', 'opening_hours': None, 'wheelchair': None, 'phone': None, 'email': None, 'website': None, 'lat': 52.5114112, 'lon': 13.612096}\n"
     ]
    }
   ],
   "source": [
    "def normalize_element(e: Dict[str, Any]) -> Dict[str, Any]:\n",
    "    tags = e.get(\"tags\", {})\n",
    "    # Some elements are 'node', some are 'way' or 'relation' with a 'center'\n",
    "    lat = e.get(\"lat\") or (e.get(\"center\", {}).get(\"lat\") if \"center\" in e else None)\n",
    "    lon = e.get(\"lon\") or (e.get(\"center\", {}).get(\"lon\") if \"center\" in e else None)\n",
    "    \n",
    "    return {\n",
    "        \"osm_type\": e.get(\"type\"),\n",
    "        \"osm_id\": e.get(\"id\"),\n",
    "        \"name\": tags.get(\"name\"),\n",
    "        \"addr_street\": tags.get(\"addr:street\"),\n",
    "        \"addr_housenumber\": tags.get(\"addr:housenumber\"),\n",
    "        \"addr_postcode\": tags.get(\"addr:postcode\"),\n",
    "        \"addr_city\": tags.get(\"addr:city\"),\n",
    "        \"opening_hours\": tags.get(\"opening_hours\"),\n",
    "        \"wheelchair\": tags.get(\"wheelchair\"),\n",
    "        \"phone\": tags.get(\"phone\"),\n",
    "        \"email\": tags.get(\"email\"),\n",
    "        \"website\": tags.get(\"website\"),\n",
    "        \"lat\": lat,\n",
    "        \"lon\": lon,\n",
    "    }\n",
    "\n",
    "# Normalize some elements\n",
    "elements = data.get(\"elements\", [])\n",
    "rows = [normalize_element(e) for e in elements]\n",
    "print(f\"Normalized {len(rows)} elements. Example:\\n\", rows[0] if rows else \"No data\")"
   ]
  },
  {
   "cell_type": "markdown",
   "id": "3f96d62f-0d46-4ef4-813a-f843e87e629c",
   "metadata": {},
   "source": [
    "Convert to GeoJSON"
   ]
  },
  {
   "cell_type": "code",
   "execution_count": 4,
   "id": "558c2b80-64b9-4095-b2cf-532cf6d4ab00",
   "metadata": {},
   "outputs": [
    {
     "name": "stdout",
     "output_type": "stream",
     "text": [
      "GeoJSON with 781 features created.\n"
     ]
    }
   ],
   "source": [
    "def elements_to_geojson(elements: List[Dict[str, Any]]) -> Dict[str, Any]:\n",
    "    features = []\n",
    "    for e in elements:\n",
    "        tags = e.get(\"tags\", {})\n",
    "        lat = e.get(\"lat\") or (e.get(\"center\", {}).get(\"lat\") if \"center\" in e else None)\n",
    "        lon = e.get(\"lon\") or (e.get(\"center\", {}).get(\"lon\") if \"center\" in e else None)\n",
    "        if lat is None or lon is None:\n",
    "            continue\n",
    "        features.append({\n",
    "            \"type\": \"Feature\",\n",
    "            \"geometry\": {\"type\": \"Point\", \"coordinates\": [lon, lat]},\n",
    "            \"properties\": {\n",
    "                \"osm_type\": e.get(\"type\"),\n",
    "                \"osm_id\": e.get(\"id\"),\n",
    "                **tags\n",
    "            }\n",
    "        })\n",
    "    return {\"type\": \"FeatureCollection\", \"features\": features}\n",
    "\n",
    "geojson = elements_to_geojson(elements)\n",
    "print(f\"GeoJSON with {len(geojson['features'])} features created.\")\n"
   ]
  },
  {
   "cell_type": "markdown",
   "id": "61ad67a0-eb53-4c37-9362-6707f8e9abd3",
   "metadata": {},
   "source": [
    "Save to CSV & GeoJSON"
   ]
  },
  {
   "cell_type": "code",
   "execution_count": 5,
   "id": "1f736241-5fa2-4043-87c8-fadd38548c0f",
   "metadata": {},
   "outputs": [
    {
     "name": "stdout",
     "output_type": "stream",
     "text": [
      "Saved CSV to berlin_dentists.csv\n",
      "Saved GeoJSON to berlin_dentists.geojson\n"
     ]
    }
   ],
   "source": [
    "def write_csv(rows: List[Dict[str, Any]], path: str) -> None:\n",
    "    fieldnames = [\n",
    "        \"osm_type\", \"osm_id\", \"name\", \"addr_street\", \"addr_housenumber\",\n",
    "        \"addr_postcode\", \"addr_city\", \"opening_hours\", \"wheelchair\",\n",
    "        \"phone\", \"email\", \"website\", \"lat\", \"lon\"\n",
    "    ]\n",
    "    with open(path, \"w\", newline=\"\", encoding=\"utf-8\") as f:\n",
    "        writer = csv.DictWriter(f, fieldnames=fieldnames)\n",
    "        writer.writeheader()\n",
    "        for el in rows:\n",
    "            writer.writerow({k: el.get(k) for k in fieldnames})\n",
    "\n",
    "def write_geojson(geo: Dict[str, Any], path: str) -> None:\n",
    "    with open(path, \"w\", encoding=\"utf-8\") as f:\n",
    "        json.dump(geo, f, ensure_ascii=False, indent=2)\n",
    "\n",
    "# Save both files\n",
    "csv_path = \"berlin_dentists.csv\"\n",
    "geojson_path = \"berlin_dentists.geojson\"\n",
    "\n",
    "write_csv(rows, csv_path)\n",
    "write_geojson(geojson, geojson_path)\n",
    "\n",
    "print(f\"Saved CSV to {csv_path}\")\n",
    "print(f\"Saved GeoJSON to {geojson_path}\")"
   ]
  },
  {
   "cell_type": "markdown",
   "id": "f3d05bfb-0d20-4b19-a666-ecf0b1580de6",
   "metadata": {},
   "source": [
    "Quick Data Preview"
   ]
  },
  {
   "cell_type": "code",
   "execution_count": 6,
   "id": "d00cdb6f-952a-4862-be6d-c2f331bfdd1b",
   "metadata": {},
   "outputs": [
    {
     "data": {
      "text/html": [
       "<div>\n",
       "<style scoped>\n",
       "    .dataframe tbody tr th:only-of-type {\n",
       "        vertical-align: middle;\n",
       "    }\n",
       "\n",
       "    .dataframe tbody tr th {\n",
       "        vertical-align: top;\n",
       "    }\n",
       "\n",
       "    .dataframe thead th {\n",
       "        text-align: right;\n",
       "    }\n",
       "</style>\n",
       "<table border=\"1\" class=\"dataframe\">\n",
       "  <thead>\n",
       "    <tr style=\"text-align: right;\">\n",
       "      <th></th>\n",
       "      <th>osm_type</th>\n",
       "      <th>osm_id</th>\n",
       "      <th>name</th>\n",
       "      <th>addr_street</th>\n",
       "      <th>addr_housenumber</th>\n",
       "      <th>addr_postcode</th>\n",
       "      <th>addr_city</th>\n",
       "      <th>opening_hours</th>\n",
       "      <th>wheelchair</th>\n",
       "      <th>phone</th>\n",
       "      <th>email</th>\n",
       "      <th>website</th>\n",
       "      <th>lat</th>\n",
       "      <th>lon</th>\n",
       "    </tr>\n",
       "  </thead>\n",
       "  <tbody>\n",
       "    <tr>\n",
       "      <th>0</th>\n",
       "      <td>node</td>\n",
       "      <td>304183504</td>\n",
       "      <td>None</td>\n",
       "      <td>Hönower Straße</td>\n",
       "      <td>75</td>\n",
       "      <td>12623</td>\n",
       "      <td>Berlin</td>\n",
       "      <td>None</td>\n",
       "      <td>None</td>\n",
       "      <td>None</td>\n",
       "      <td>None</td>\n",
       "      <td>None</td>\n",
       "      <td>52.511411</td>\n",
       "      <td>13.612096</td>\n",
       "    </tr>\n",
       "    <tr>\n",
       "      <th>1</th>\n",
       "      <td>node</td>\n",
       "      <td>313539258</td>\n",
       "      <td>Zahnzentrum Wedding</td>\n",
       "      <td>Müllerstraße</td>\n",
       "      <td>34a</td>\n",
       "      <td>13353</td>\n",
       "      <td>Berlin</td>\n",
       "      <td>Mo 09:00-19:00; Tu 09:00-18:00; We 09:00-17:00...</td>\n",
       "      <td>yes</td>\n",
       "      <td>None</td>\n",
       "      <td>None</td>\n",
       "      <td>None</td>\n",
       "      <td>52.548838</td>\n",
       "      <td>13.355305</td>\n",
       "    </tr>\n",
       "    <tr>\n",
       "      <th>2</th>\n",
       "      <td>node</td>\n",
       "      <td>325161442</td>\n",
       "      <td>A. Nejad</td>\n",
       "      <td>None</td>\n",
       "      <td>None</td>\n",
       "      <td>None</td>\n",
       "      <td>None</td>\n",
       "      <td>Mo-Tu 09:00-19:00; We 09:00-14:00; Th 09:00-19...</td>\n",
       "      <td>yes</td>\n",
       "      <td>+49 30 361 91 06</td>\n",
       "      <td>None</td>\n",
       "      <td>None</td>\n",
       "      <td>52.508843</td>\n",
       "      <td>13.180477</td>\n",
       "    </tr>\n",
       "    <tr>\n",
       "      <th>3</th>\n",
       "      <td>node</td>\n",
       "      <td>345236220</td>\n",
       "      <td>Dr. Beate Lengert</td>\n",
       "      <td>Kurfürstendamm</td>\n",
       "      <td>218</td>\n",
       "      <td>10719</td>\n",
       "      <td>Berlin</td>\n",
       "      <td>None</td>\n",
       "      <td>None</td>\n",
       "      <td>None</td>\n",
       "      <td>None</td>\n",
       "      <td>http://www.dr-beate-lengert.de/</td>\n",
       "      <td>52.502722</td>\n",
       "      <td>13.328137</td>\n",
       "    </tr>\n",
       "    <tr>\n",
       "      <th>4</th>\n",
       "      <td>node</td>\n",
       "      <td>391394177</td>\n",
       "      <td>Serpil Hartfiel</td>\n",
       "      <td>Kollwitzstraße</td>\n",
       "      <td>77</td>\n",
       "      <td>10435</td>\n",
       "      <td>Berlin</td>\n",
       "      <td>Mo,Tu,Th 08:00-19:00; We 18:00-18:00; Fr 08:00...</td>\n",
       "      <td>no</td>\n",
       "      <td>None</td>\n",
       "      <td>None</td>\n",
       "      <td>None</td>\n",
       "      <td>52.537547</td>\n",
       "      <td>13.418994</td>\n",
       "    </tr>\n",
       "  </tbody>\n",
       "</table>\n",
       "</div>"
      ],
      "text/plain": [
       "  osm_type     osm_id                 name     addr_street addr_housenumber  \\\n",
       "0     node  304183504                 None  Hönower Straße               75   \n",
       "1     node  313539258  Zahnzentrum Wedding    Müllerstraße              34a   \n",
       "2     node  325161442             A. Nejad            None             None   \n",
       "3     node  345236220    Dr. Beate Lengert  Kurfürstendamm              218   \n",
       "4     node  391394177      Serpil Hartfiel  Kollwitzstraße               77   \n",
       "\n",
       "  addr_postcode addr_city                                      opening_hours  \\\n",
       "0         12623    Berlin                                               None   \n",
       "1         13353    Berlin  Mo 09:00-19:00; Tu 09:00-18:00; We 09:00-17:00...   \n",
       "2          None      None  Mo-Tu 09:00-19:00; We 09:00-14:00; Th 09:00-19...   \n",
       "3         10719    Berlin                                               None   \n",
       "4         10435    Berlin  Mo,Tu,Th 08:00-19:00; We 18:00-18:00; Fr 08:00...   \n",
       "\n",
       "  wheelchair             phone email                          website  \\\n",
       "0       None              None  None                             None   \n",
       "1        yes              None  None                             None   \n",
       "2        yes  +49 30 361 91 06  None                             None   \n",
       "3       None              None  None  http://www.dr-beate-lengert.de/   \n",
       "4         no              None  None                             None   \n",
       "\n",
       "         lat        lon  \n",
       "0  52.511411  13.612096  \n",
       "1  52.548838  13.355305  \n",
       "2  52.508843  13.180477  \n",
       "3  52.502722  13.328137  \n",
       "4  52.537547  13.418994  "
      ]
     },
     "execution_count": 6,
     "metadata": {},
     "output_type": "execute_result"
    }
   ],
   "source": [
    "import pandas as pd\n",
    "\n",
    "df = pd.DataFrame(rows)\n",
    "df.head()  # show first 5 dentists"
   ]
  },
  {
   "cell_type": "markdown",
   "id": "81887a0d-6b94-478f-9d40-f9ebbec9d44f",
   "metadata": {},
   "source": [
    "Imports & File Setup"
   ]
  },
  {
   "cell_type": "code",
   "execution_count": 7,
   "id": "0a74c695-f50f-4e0f-928e-b005743e2862",
   "metadata": {},
   "outputs": [
    {
     "data": {
      "text/html": [
       "<div>\n",
       "<style scoped>\n",
       "    .dataframe tbody tr th:only-of-type {\n",
       "        vertical-align: middle;\n",
       "    }\n",
       "\n",
       "    .dataframe tbody tr th {\n",
       "        vertical-align: top;\n",
       "    }\n",
       "\n",
       "    .dataframe thead th {\n",
       "        text-align: right;\n",
       "    }\n",
       "</style>\n",
       "<table border=\"1\" class=\"dataframe\">\n",
       "  <thead>\n",
       "    <tr style=\"text-align: right;\">\n",
       "      <th></th>\n",
       "      <th>osm_type</th>\n",
       "      <th>osm_id</th>\n",
       "      <th>name</th>\n",
       "      <th>addr_street</th>\n",
       "      <th>addr_housenumber</th>\n",
       "      <th>addr_postcode</th>\n",
       "      <th>addr_city</th>\n",
       "      <th>opening_hours</th>\n",
       "      <th>wheelchair</th>\n",
       "      <th>phone</th>\n",
       "      <th>email</th>\n",
       "      <th>website</th>\n",
       "      <th>lat</th>\n",
       "      <th>lon</th>\n",
       "    </tr>\n",
       "  </thead>\n",
       "  <tbody>\n",
       "    <tr>\n",
       "      <th>0</th>\n",
       "      <td>node</td>\n",
       "      <td>304183504</td>\n",
       "      <td>NaN</td>\n",
       "      <td>Hönower Straße</td>\n",
       "      <td>75</td>\n",
       "      <td>12623.0</td>\n",
       "      <td>Berlin</td>\n",
       "      <td>NaN</td>\n",
       "      <td>NaN</td>\n",
       "      <td>NaN</td>\n",
       "      <td>NaN</td>\n",
       "      <td>NaN</td>\n",
       "      <td>52.511411</td>\n",
       "      <td>13.612096</td>\n",
       "    </tr>\n",
       "    <tr>\n",
       "      <th>1</th>\n",
       "      <td>node</td>\n",
       "      <td>313539258</td>\n",
       "      <td>Zahnzentrum Wedding</td>\n",
       "      <td>Müllerstraße</td>\n",
       "      <td>34a</td>\n",
       "      <td>13353.0</td>\n",
       "      <td>Berlin</td>\n",
       "      <td>Mo 09:00-19:00; Tu 09:00-18:00; We 09:00-17:00...</td>\n",
       "      <td>yes</td>\n",
       "      <td>NaN</td>\n",
       "      <td>NaN</td>\n",
       "      <td>NaN</td>\n",
       "      <td>52.548838</td>\n",
       "      <td>13.355305</td>\n",
       "    </tr>\n",
       "    <tr>\n",
       "      <th>2</th>\n",
       "      <td>node</td>\n",
       "      <td>325161442</td>\n",
       "      <td>A. Nejad</td>\n",
       "      <td>NaN</td>\n",
       "      <td>NaN</td>\n",
       "      <td>NaN</td>\n",
       "      <td>NaN</td>\n",
       "      <td>Mo-Tu 09:00-19:00; We 09:00-14:00; Th 09:00-19...</td>\n",
       "      <td>yes</td>\n",
       "      <td>+49 30 361 91 06</td>\n",
       "      <td>NaN</td>\n",
       "      <td>NaN</td>\n",
       "      <td>52.508843</td>\n",
       "      <td>13.180477</td>\n",
       "    </tr>\n",
       "    <tr>\n",
       "      <th>3</th>\n",
       "      <td>node</td>\n",
       "      <td>345236220</td>\n",
       "      <td>Dr. Beate Lengert</td>\n",
       "      <td>Kurfürstendamm</td>\n",
       "      <td>218</td>\n",
       "      <td>10719.0</td>\n",
       "      <td>Berlin</td>\n",
       "      <td>NaN</td>\n",
       "      <td>NaN</td>\n",
       "      <td>NaN</td>\n",
       "      <td>NaN</td>\n",
       "      <td>http://www.dr-beate-lengert.de/</td>\n",
       "      <td>52.502722</td>\n",
       "      <td>13.328137</td>\n",
       "    </tr>\n",
       "    <tr>\n",
       "      <th>4</th>\n",
       "      <td>node</td>\n",
       "      <td>391394177</td>\n",
       "      <td>Serpil Hartfiel</td>\n",
       "      <td>Kollwitzstraße</td>\n",
       "      <td>77</td>\n",
       "      <td>10435.0</td>\n",
       "      <td>Berlin</td>\n",
       "      <td>Mo,Tu,Th 08:00-19:00; We 18:00-18:00; Fr 08:00...</td>\n",
       "      <td>no</td>\n",
       "      <td>NaN</td>\n",
       "      <td>NaN</td>\n",
       "      <td>NaN</td>\n",
       "      <td>52.537547</td>\n",
       "      <td>13.418994</td>\n",
       "    </tr>\n",
       "  </tbody>\n",
       "</table>\n",
       "</div>"
      ],
      "text/plain": [
       "  osm_type     osm_id                 name     addr_street addr_housenumber  \\\n",
       "0     node  304183504                  NaN  Hönower Straße               75   \n",
       "1     node  313539258  Zahnzentrum Wedding    Müllerstraße              34a   \n",
       "2     node  325161442             A. Nejad             NaN              NaN   \n",
       "3     node  345236220    Dr. Beate Lengert  Kurfürstendamm              218   \n",
       "4     node  391394177      Serpil Hartfiel  Kollwitzstraße               77   \n",
       "\n",
       "   addr_postcode addr_city                                      opening_hours  \\\n",
       "0        12623.0    Berlin                                                NaN   \n",
       "1        13353.0    Berlin  Mo 09:00-19:00; Tu 09:00-18:00; We 09:00-17:00...   \n",
       "2            NaN       NaN  Mo-Tu 09:00-19:00; We 09:00-14:00; Th 09:00-19...   \n",
       "3        10719.0    Berlin                                                NaN   \n",
       "4        10435.0    Berlin  Mo,Tu,Th 08:00-19:00; We 18:00-18:00; Fr 08:00...   \n",
       "\n",
       "  wheelchair             phone email                          website  \\\n",
       "0        NaN               NaN   NaN                              NaN   \n",
       "1        yes               NaN   NaN                              NaN   \n",
       "2        yes  +49 30 361 91 06   NaN                              NaN   \n",
       "3        NaN               NaN   NaN  http://www.dr-beate-lengert.de/   \n",
       "4         no               NaN   NaN                              NaN   \n",
       "\n",
       "         lat        lon  \n",
       "0  52.511411  13.612096  \n",
       "1  52.548838  13.355305  \n",
       "2  52.508843  13.180477  \n",
       "3  52.502722  13.328137  \n",
       "4  52.537547  13.418994  "
      ]
     },
     "execution_count": 7,
     "metadata": {},
     "output_type": "execute_result"
    }
   ],
   "source": [
    "import pandas as pd\n",
    "import os\n",
    "\n",
    "# Path to the raw CSV produced from Overpass\n",
    "input_file = \"/Users/jamie/berlin_dentists.csv\"\n",
    "\n",
    "# Load the CSV\n",
    "df = pd.read_csv(input_file)\n",
    "df.head()"
   ]
  },
  {
   "cell_type": "markdown",
   "id": "8c28f2a6-eb61-4de8-9bee-b6dd6063a865",
   "metadata": {},
   "source": [
    "Inspect Raw Data"
   ]
  },
  {
   "cell_type": "code",
   "execution_count": 8,
   "id": "ac060175-3070-4aaa-b8d7-7435d25cfcad",
   "metadata": {},
   "outputs": [
    {
     "name": "stdout",
     "output_type": "stream",
     "text": [
      "Initial Data Info:\n",
      "<class 'pandas.core.frame.DataFrame'>\n",
      "RangeIndex: 781 entries, 0 to 780\n",
      "Data columns (total 14 columns):\n",
      " #   Column            Non-Null Count  Dtype  \n",
      "---  ------            --------------  -----  \n",
      " 0   osm_type          781 non-null    object \n",
      " 1   osm_id            781 non-null    int64  \n",
      " 2   name              755 non-null    object \n",
      " 3   addr_street       571 non-null    object \n",
      " 4   addr_housenumber  571 non-null    object \n",
      " 5   addr_postcode     531 non-null    float64\n",
      " 6   addr_city         523 non-null    object \n",
      " 7   opening_hours     589 non-null    object \n",
      " 8   wheelchair        288 non-null    object \n",
      " 9   phone             287 non-null    object \n",
      " 10  email             82 non-null     object \n",
      " 11  website           299 non-null    object \n",
      " 12  lat               781 non-null    float64\n",
      " 13  lon               781 non-null    float64\n",
      "dtypes: float64(3), int64(1), object(10)\n",
      "memory usage: 85.6+ KB\n",
      "None\n"
     ]
    },
    {
     "data": {
      "text/html": [
       "<div>\n",
       "<style scoped>\n",
       "    .dataframe tbody tr th:only-of-type {\n",
       "        vertical-align: middle;\n",
       "    }\n",
       "\n",
       "    .dataframe tbody tr th {\n",
       "        vertical-align: top;\n",
       "    }\n",
       "\n",
       "    .dataframe thead th {\n",
       "        text-align: right;\n",
       "    }\n",
       "</style>\n",
       "<table border=\"1\" class=\"dataframe\">\n",
       "  <thead>\n",
       "    <tr style=\"text-align: right;\">\n",
       "      <th></th>\n",
       "      <th>osm_type</th>\n",
       "      <th>osm_id</th>\n",
       "      <th>name</th>\n",
       "      <th>addr_street</th>\n",
       "      <th>addr_housenumber</th>\n",
       "      <th>addr_postcode</th>\n",
       "      <th>addr_city</th>\n",
       "      <th>opening_hours</th>\n",
       "      <th>wheelchair</th>\n",
       "      <th>phone</th>\n",
       "      <th>email</th>\n",
       "      <th>website</th>\n",
       "      <th>lat</th>\n",
       "      <th>lon</th>\n",
       "    </tr>\n",
       "  </thead>\n",
       "  <tbody>\n",
       "    <tr>\n",
       "      <th>0</th>\n",
       "      <td>node</td>\n",
       "      <td>304183504</td>\n",
       "      <td>NaN</td>\n",
       "      <td>Hönower Straße</td>\n",
       "      <td>75</td>\n",
       "      <td>12623.0</td>\n",
       "      <td>Berlin</td>\n",
       "      <td>NaN</td>\n",
       "      <td>NaN</td>\n",
       "      <td>NaN</td>\n",
       "      <td>NaN</td>\n",
       "      <td>NaN</td>\n",
       "      <td>52.511411</td>\n",
       "      <td>13.612096</td>\n",
       "    </tr>\n",
       "    <tr>\n",
       "      <th>1</th>\n",
       "      <td>node</td>\n",
       "      <td>313539258</td>\n",
       "      <td>Zahnzentrum Wedding</td>\n",
       "      <td>Müllerstraße</td>\n",
       "      <td>34a</td>\n",
       "      <td>13353.0</td>\n",
       "      <td>Berlin</td>\n",
       "      <td>Mo 09:00-19:00; Tu 09:00-18:00; We 09:00-17:00...</td>\n",
       "      <td>yes</td>\n",
       "      <td>NaN</td>\n",
       "      <td>NaN</td>\n",
       "      <td>NaN</td>\n",
       "      <td>52.548838</td>\n",
       "      <td>13.355305</td>\n",
       "    </tr>\n",
       "    <tr>\n",
       "      <th>2</th>\n",
       "      <td>node</td>\n",
       "      <td>325161442</td>\n",
       "      <td>A. Nejad</td>\n",
       "      <td>NaN</td>\n",
       "      <td>NaN</td>\n",
       "      <td>NaN</td>\n",
       "      <td>NaN</td>\n",
       "      <td>Mo-Tu 09:00-19:00; We 09:00-14:00; Th 09:00-19...</td>\n",
       "      <td>yes</td>\n",
       "      <td>+49 30 361 91 06</td>\n",
       "      <td>NaN</td>\n",
       "      <td>NaN</td>\n",
       "      <td>52.508843</td>\n",
       "      <td>13.180477</td>\n",
       "    </tr>\n",
       "    <tr>\n",
       "      <th>3</th>\n",
       "      <td>node</td>\n",
       "      <td>345236220</td>\n",
       "      <td>Dr. Beate Lengert</td>\n",
       "      <td>Kurfürstendamm</td>\n",
       "      <td>218</td>\n",
       "      <td>10719.0</td>\n",
       "      <td>Berlin</td>\n",
       "      <td>NaN</td>\n",
       "      <td>NaN</td>\n",
       "      <td>NaN</td>\n",
       "      <td>NaN</td>\n",
       "      <td>http://www.dr-beate-lengert.de/</td>\n",
       "      <td>52.502722</td>\n",
       "      <td>13.328137</td>\n",
       "    </tr>\n",
       "    <tr>\n",
       "      <th>4</th>\n",
       "      <td>node</td>\n",
       "      <td>391394177</td>\n",
       "      <td>Serpil Hartfiel</td>\n",
       "      <td>Kollwitzstraße</td>\n",
       "      <td>77</td>\n",
       "      <td>10435.0</td>\n",
       "      <td>Berlin</td>\n",
       "      <td>Mo,Tu,Th 08:00-19:00; We 18:00-18:00; Fr 08:00...</td>\n",
       "      <td>no</td>\n",
       "      <td>NaN</td>\n",
       "      <td>NaN</td>\n",
       "      <td>NaN</td>\n",
       "      <td>52.537547</td>\n",
       "      <td>13.418994</td>\n",
       "    </tr>\n",
       "  </tbody>\n",
       "</table>\n",
       "</div>"
      ],
      "text/plain": [
       "  osm_type     osm_id                 name     addr_street addr_housenumber  \\\n",
       "0     node  304183504                  NaN  Hönower Straße               75   \n",
       "1     node  313539258  Zahnzentrum Wedding    Müllerstraße              34a   \n",
       "2     node  325161442             A. Nejad             NaN              NaN   \n",
       "3     node  345236220    Dr. Beate Lengert  Kurfürstendamm              218   \n",
       "4     node  391394177      Serpil Hartfiel  Kollwitzstraße               77   \n",
       "\n",
       "   addr_postcode addr_city                                      opening_hours  \\\n",
       "0        12623.0    Berlin                                                NaN   \n",
       "1        13353.0    Berlin  Mo 09:00-19:00; Tu 09:00-18:00; We 09:00-17:00...   \n",
       "2            NaN       NaN  Mo-Tu 09:00-19:00; We 09:00-14:00; Th 09:00-19...   \n",
       "3        10719.0    Berlin                                                NaN   \n",
       "4        10435.0    Berlin  Mo,Tu,Th 08:00-19:00; We 18:00-18:00; Fr 08:00...   \n",
       "\n",
       "  wheelchair             phone email                          website  \\\n",
       "0        NaN               NaN   NaN                              NaN   \n",
       "1        yes               NaN   NaN                              NaN   \n",
       "2        yes  +49 30 361 91 06   NaN                              NaN   \n",
       "3        NaN               NaN   NaN  http://www.dr-beate-lengert.de/   \n",
       "4         no               NaN   NaN                              NaN   \n",
       "\n",
       "         lat        lon  \n",
       "0  52.511411  13.612096  \n",
       "1  52.548838  13.355305  \n",
       "2  52.508843  13.180477  \n",
       "3  52.502722  13.328137  \n",
       "4  52.537547  13.418994  "
      ]
     },
     "execution_count": 8,
     "metadata": {},
     "output_type": "execute_result"
    }
   ],
   "source": [
    "print(\"Initial Data Info:\")\n",
    "print(df.info())\n",
    "df.head()  # preview first 5 rows"
   ]
  },
  {
   "cell_type": "markdown",
   "id": "22a98b89-e6ed-4634-b780-0cf91f1019ca",
   "metadata": {},
   "source": [
    "Normalize Text Fields"
   ]
  },
  {
   "cell_type": "code",
   "execution_count": 9,
   "id": "4495ecd1-5f81-4b1a-a8e3-628445f27e61",
   "metadata": {},
   "outputs": [
    {
     "name": "stdout",
     "output_type": "stream",
     "text": [
      "  osm_type     osm_id                 name     addr_street addr_housenumber  \\\n",
      "0     node  304183504                  NaN  Hönower Straße               75   \n",
      "1     node  313539258  Zahnzentrum Wedding    Müllerstraße              34a   \n",
      "2     node  325161442             A. Nejad             NaN             <NA>   \n",
      "3     node  345236220    Dr. Beate Lengert  Kurfürstendamm              218   \n",
      "4     node  391394177      Serpil Hartfiel  Kollwitzstraße               77   \n",
      "\n",
      "  addr_postcode addr_city                                      opening_hours  \\\n",
      "0       12623.0    Berlin                                                NaN   \n",
      "1       13353.0    Berlin  Mo 09:00-19:00; Tu 09:00-18:00; We 09:00-17:00...   \n",
      "2          <NA>    Berlin  Mo-Tu 09:00-19:00; We 09:00-14:00; Th 09:00-19...   \n",
      "3       10719.0    Berlin                                                NaN   \n",
      "4       10435.0    Berlin  Mo,Tu,Th 08:00-19:00; We 18:00-18:00; Fr 08:00...   \n",
      "\n",
      "  wheelchair             phone email                          website  \\\n",
      "0        NaN               NaN   NaN                              NaN   \n",
      "1        yes               NaN   NaN                              NaN   \n",
      "2        yes  +49 30 361 91 06   NaN                              NaN   \n",
      "3        NaN               NaN   NaN  http://www.dr-beate-lengert.de/   \n",
      "4         no               NaN   NaN                              NaN   \n",
      "\n",
      "         lat        lon                          full_address  \n",
      "0  52.511411  13.612096   Hönower Straße, 75, 12623.0, Berlin  \n",
      "1  52.548838  13.355305    Müllerstraße, 34a, 13353.0, Berlin  \n",
      "2  52.508843  13.180477                                Berlin  \n",
      "3  52.502722  13.328137  Kurfürstendamm, 218, 10719.0, Berlin  \n",
      "4  52.537547  13.418994   Kollwitzstraße, 77, 10435.0, Berlin  \n"
     ]
    }
   ],
   "source": [
    "import pandas as pd\n",
    "df['name'] = df['name'].str.strip().str.title()\n",
    "df['addr_street'] = df['addr_street'].str.strip().str.title()\n",
    "df['addr_housenumber'] = df['addr_housenumber'].astype('string')\n",
    "df['addr_city'] = df['addr_city'].fillna('Berlin').str.strip().str.title()\n",
    "df['addr_postcode'] = df['addr_postcode'].astype('string')\n",
    "# 6. Build full_address with custom function\n",
    "def build_address(row):\n",
    "    parts = row.dropna().astype(str)\n",
    "    if parts.empty:\n",
    "        return pd.NA   # leave as missing if all fields are NaN\n",
    "    return ', '.join(parts)\n",
    "\n",
    "address_cols = ['addr_street', 'addr_housenumber', 'addr_postcode', 'addr_city']\n",
    "df['full_address'] = df[address_cols].agg(build_address, axis=1)\n",
    "print(df.head())"
   ]
  },
  {
   "cell_type": "markdown",
   "id": "3a1a3f1e-1556-47a4-ae6e-5edcbb25702c",
   "metadata": {},
   "source": [
    "Drop duplicates only if ALL these fields match (to avoid dropping distinct locations sharing the same name):"
   ]
  },
  {
   "cell_type": "code",
   "execution_count": 10,
   "id": "10c5ff98-967f-4973-aeca-f7c22f7bb956",
   "metadata": {},
   "outputs": [
    {
     "name": "stdout",
     "output_type": "stream",
     "text": [
      "Removed 0 duplicates based on name + full location. 781 rows remain.\n"
     ]
    }
   ],
   "source": [
    "fields_for_duplicates = [\n",
    "    \"name\",\n",
    "    \"addr_street\",\n",
    "    \"addr_housenumber\",\n",
    "    \"addr_postcode\",\n",
    "    \"addr_city\",\n",
    "    \"lat\",\n",
    "    \"lon\"\n",
    "]\n",
    "\n",
    "before = len(df)\n",
    "df = df.drop_duplicates(subset=fields_for_duplicates)\n",
    "after = len(df)\n",
    "\n",
    "print(f\"Removed {before - after} duplicates based on name + full location. {after} rows remain.\")"
   ]
  },
  {
   "cell_type": "markdown",
   "id": "2fb4271a-4e64-4df9-b69c-54c941abf930",
   "metadata": {},
   "source": [
    "Normalize Phone Numbers"
   ]
  },
  {
   "cell_type": "code",
   "execution_count": 11,
   "id": "4962c06c-0f6c-45c7-a753-af2f13123775",
   "metadata": {},
   "outputs": [
    {
     "data": {
      "text/html": [
       "<div>\n",
       "<style scoped>\n",
       "    .dataframe tbody tr th:only-of-type {\n",
       "        vertical-align: middle;\n",
       "    }\n",
       "\n",
       "    .dataframe tbody tr th {\n",
       "        vertical-align: top;\n",
       "    }\n",
       "\n",
       "    .dataframe thead th {\n",
       "        text-align: right;\n",
       "    }\n",
       "</style>\n",
       "<table border=\"1\" class=\"dataframe\">\n",
       "  <thead>\n",
       "    <tr style=\"text-align: right;\">\n",
       "      <th></th>\n",
       "      <th>name</th>\n",
       "      <th>phone</th>\n",
       "    </tr>\n",
       "  </thead>\n",
       "  <tbody>\n",
       "    <tr>\n",
       "      <th>0</th>\n",
       "      <td>NaN</td>\n",
       "      <td></td>\n",
       "    </tr>\n",
       "    <tr>\n",
       "      <th>1</th>\n",
       "      <td>Zahnzentrum Wedding</td>\n",
       "      <td></td>\n",
       "    </tr>\n",
       "    <tr>\n",
       "      <th>2</th>\n",
       "      <td>A. Nejad</td>\n",
       "      <td>+49303619106</td>\n",
       "    </tr>\n",
       "    <tr>\n",
       "      <th>3</th>\n",
       "      <td>Dr. Beate Lengert</td>\n",
       "      <td></td>\n",
       "    </tr>\n",
       "    <tr>\n",
       "      <th>4</th>\n",
       "      <td>Serpil Hartfiel</td>\n",
       "      <td></td>\n",
       "    </tr>\n",
       "  </tbody>\n",
       "</table>\n",
       "</div>"
      ],
      "text/plain": [
       "                  name         phone\n",
       "0                  NaN              \n",
       "1  Zahnzentrum Wedding              \n",
       "2             A. Nejad  +49303619106\n",
       "3    Dr. Beate Lengert              \n",
       "4      Serpil Hartfiel              "
      ]
     },
     "execution_count": 11,
     "metadata": {},
     "output_type": "execute_result"
    }
   ],
   "source": [
    "df['phone'] = (\n",
    "    df['phone']\n",
    "    .fillna('')\n",
    "    .astype(str)\n",
    "    .str.replace(r\"\\s+\", \"\", regex=True)   # remove spaces\n",
    "    .str.replace(\"-\", \"\")                  # remove hyphens\n",
    ")\n",
    "\n",
    "df[['name', 'phone']].head()"
   ]
  },
  {
   "cell_type": "markdown",
   "id": "c0316065-15fd-4f85-9bc6-76dab61ee151",
   "metadata": {},
   "source": [
    "Standardize Wheelchair Field"
   ]
  },
  {
   "cell_type": "code",
   "execution_count": 12,
   "id": "930682b5-9040-4f33-a941-0c39b485ca3c",
   "metadata": {},
   "outputs": [
    {
     "data": {
      "text/plain": [
       "wheelchair\n",
       "unknown    493\n",
       "no         154\n",
       "yes         93\n",
       "limited     41\n",
       "Name: count, dtype: int64"
      ]
     },
     "execution_count": 12,
     "metadata": {},
     "output_type": "execute_result"
    }
   ],
   "source": [
    "df['wheelchair'] = df['wheelchair'].fillna('unknown').str.lower()\n",
    "df['wheelchair'].value_counts()"
   ]
  },
  {
   "cell_type": "markdown",
   "id": "656139ef-dbcd-48ed-b917-7d62676ca2b8",
   "metadata": {},
   "source": [
    "Ensure Coordinates Are Valid"
   ]
  },
  {
   "cell_type": "markdown",
   "id": "5d878d4d-57f2-42e9-befd-ab487e04c05c",
   "metadata": {},
   "source": [
    "Ensure Coordinates Are Valid"
   ]
  },
  {
   "cell_type": "code",
   "execution_count": 13,
   "id": "0787e3b0-77c7-49c3-9d69-cdf68b36e46b",
   "metadata": {},
   "outputs": [
    {
     "name": "stdout",
     "output_type": "stream",
     "text": [
      "Removed 0 rows due to missing/invalid coordinates.\n"
     ]
    }
   ],
   "source": [
    "for col in ['lat', 'lon']:\n",
    "    if col in df.columns:\n",
    "        df[col] = pd.to_numeric(df[col], errors='coerce')\n",
    "\n",
    "# Drop rows without valid coordinates\n",
    "before = len(df)\n",
    "df = df.dropna(subset=['lat', 'lon'])\n",
    "after = len(df)\n",
    "\n",
    "print(f\"Removed {before - after} rows due to missing/invalid coordinates.\")"
   ]
  },
  {
   "cell_type": "markdown",
   "id": "5051f3dd-d578-4cf7-afcc-dad0e050b92d",
   "metadata": {},
   "source": [
    "Save Clean Data"
   ]
  },
  {
   "cell_type": "code",
   "execution_count": 14,
   "id": "8cedb5aa-9924-4656-9065-9caee5c49845",
   "metadata": {},
   "outputs": [
    {
     "name": "stdout",
     "output_type": "stream",
     "text": [
      "✅ Transformed data saved to /Users/jamie/berlin_dentists_clean.csv\n"
     ]
    }
   ],
   "source": [
    "output_file = os.path.join(os.path.dirname(input_file), \"berlin_dentists_clean.csv\")\n",
    "df.to_csv(output_file, index=False)\n",
    "print(f\"✅ Transformed data saved to {output_file}\")"
   ]
  },
  {
   "cell_type": "markdown",
   "id": "b66dc68d-d5c4-45e0-b78a-88f2ed53eeec",
   "metadata": {},
   "source": [
    "Preview Clean Dataset"
   ]
  },
  {
   "cell_type": "code",
   "execution_count": 15,
   "id": "54dcfc57-0e0d-4f94-ad0e-5b3901a84fe5",
   "metadata": {},
   "outputs": [
    {
     "data": {
      "text/html": [
       "<div>\n",
       "<style scoped>\n",
       "    .dataframe tbody tr th:only-of-type {\n",
       "        vertical-align: middle;\n",
       "    }\n",
       "\n",
       "    .dataframe tbody tr th {\n",
       "        vertical-align: top;\n",
       "    }\n",
       "\n",
       "    .dataframe thead th {\n",
       "        text-align: right;\n",
       "    }\n",
       "</style>\n",
       "<table border=\"1\" class=\"dataframe\">\n",
       "  <thead>\n",
       "    <tr style=\"text-align: right;\">\n",
       "      <th></th>\n",
       "      <th>osm_type</th>\n",
       "      <th>osm_id</th>\n",
       "      <th>name</th>\n",
       "      <th>addr_street</th>\n",
       "      <th>addr_housenumber</th>\n",
       "      <th>addr_postcode</th>\n",
       "      <th>addr_city</th>\n",
       "      <th>opening_hours</th>\n",
       "      <th>wheelchair</th>\n",
       "      <th>phone</th>\n",
       "      <th>email</th>\n",
       "      <th>website</th>\n",
       "      <th>lat</th>\n",
       "      <th>lon</th>\n",
       "      <th>full_address</th>\n",
       "    </tr>\n",
       "  </thead>\n",
       "  <tbody>\n",
       "    <tr>\n",
       "      <th>595</th>\n",
       "      <td>node</td>\n",
       "      <td>9786588756</td>\n",
       "      <td>Praxis Für Zahnmedizin</td>\n",
       "      <td>Wildenbruchstraße</td>\n",
       "      <td>14</td>\n",
       "      <td>12045.0</td>\n",
       "      <td>Berlin</td>\n",
       "      <td>Mo 09:00-16:00; Tu,Th 09:00-18:30; We 09:00-14...</td>\n",
       "      <td>no</td>\n",
       "      <td></td>\n",
       "      <td>NaN</td>\n",
       "      <td>NaN</td>\n",
       "      <td>52.483908</td>\n",
       "      <td>13.443282</td>\n",
       "      <td>Wildenbruchstraße, 14, 12045.0, Berlin</td>\n",
       "    </tr>\n",
       "    <tr>\n",
       "      <th>587</th>\n",
       "      <td>node</td>\n",
       "      <td>9631262555</td>\n",
       "      <td>NaN</td>\n",
       "      <td>Gasteiner Straße</td>\n",
       "      <td>9</td>\n",
       "      <td>10717.0</td>\n",
       "      <td>Berlin</td>\n",
       "      <td>NaN</td>\n",
       "      <td>unknown</td>\n",
       "      <td></td>\n",
       "      <td>NaN</td>\n",
       "      <td>http://www.zahnarztpraxis-wilmersdorf.de/</td>\n",
       "      <td>52.487791</td>\n",
       "      <td>13.322032</td>\n",
       "      <td>Gasteiner Straße, 9, 10717.0, Berlin</td>\n",
       "    </tr>\n",
       "    <tr>\n",
       "      <th>543</th>\n",
       "      <td>node</td>\n",
       "      <td>9434234316</td>\n",
       "      <td>Za Dembinski/Reinnagel</td>\n",
       "      <td>Kissingenstraße</td>\n",
       "      <td>45</td>\n",
       "      <td>13189.0</td>\n",
       "      <td>Berlin</td>\n",
       "      <td>Mo-Th 08:00-18:00; Fr 08:00-11:00</td>\n",
       "      <td>no</td>\n",
       "      <td></td>\n",
       "      <td>NaN</td>\n",
       "      <td>http://www.pankow-zahnarzt.de/</td>\n",
       "      <td>52.566830</td>\n",
       "      <td>13.416816</td>\n",
       "      <td>Kissingenstraße, 45, 13189.0, Berlin</td>\n",
       "    </tr>\n",
       "    <tr>\n",
       "      <th>645</th>\n",
       "      <td>node</td>\n",
       "      <td>10608880228</td>\n",
       "      <td>Zenker &amp; Partner</td>\n",
       "      <td>Ferdinandstraße</td>\n",
       "      <td>21</td>\n",
       "      <td>12209.0</td>\n",
       "      <td>Berlin</td>\n",
       "      <td>Mo-Fr 08:30-12:30,13:30-18:30</td>\n",
       "      <td>unknown</td>\n",
       "      <td></td>\n",
       "      <td>NaN</td>\n",
       "      <td>NaN</td>\n",
       "      <td>52.425322</td>\n",
       "      <td>13.330399</td>\n",
       "      <td>Ferdinandstraße, 21, 12209.0, Berlin</td>\n",
       "    </tr>\n",
       "    <tr>\n",
       "      <th>487</th>\n",
       "      <td>node</td>\n",
       "      <td>8422865841</td>\n",
       "      <td>Ladewig &amp; Ladewig</td>\n",
       "      <td>Berliner Straße</td>\n",
       "      <td>9</td>\n",
       "      <td>10715.0</td>\n",
       "      <td>Berlin</td>\n",
       "      <td>Mo,Tu,Th 08:00-12:00,14:30-18:00; We 08:00-14:...</td>\n",
       "      <td>unknown</td>\n",
       "      <td></td>\n",
       "      <td>NaN</td>\n",
       "      <td>https://www.zahnarzt-ladewig.de/</td>\n",
       "      <td>52.487699</td>\n",
       "      <td>13.332421</td>\n",
       "      <td>Berliner Straße, 9, 10715.0, Berlin</td>\n",
       "    </tr>\n",
       "  </tbody>\n",
       "</table>\n",
       "</div>"
      ],
      "text/plain": [
       "    osm_type       osm_id                    name        addr_street  \\\n",
       "595     node   9786588756  Praxis Für Zahnmedizin  Wildenbruchstraße   \n",
       "587     node   9631262555                     NaN   Gasteiner Straße   \n",
       "543     node   9434234316  Za Dembinski/Reinnagel    Kissingenstraße   \n",
       "645     node  10608880228        Zenker & Partner    Ferdinandstraße   \n",
       "487     node   8422865841       Ladewig & Ladewig    Berliner Straße   \n",
       "\n",
       "    addr_housenumber addr_postcode addr_city  \\\n",
       "595               14       12045.0    Berlin   \n",
       "587                9       10717.0    Berlin   \n",
       "543               45       13189.0    Berlin   \n",
       "645               21       12209.0    Berlin   \n",
       "487                9       10715.0    Berlin   \n",
       "\n",
       "                                         opening_hours wheelchair phone email  \\\n",
       "595  Mo 09:00-16:00; Tu,Th 09:00-18:30; We 09:00-14...         no         NaN   \n",
       "587                                                NaN    unknown         NaN   \n",
       "543                  Mo-Th 08:00-18:00; Fr 08:00-11:00         no         NaN   \n",
       "645                      Mo-Fr 08:30-12:30,13:30-18:30    unknown         NaN   \n",
       "487  Mo,Tu,Th 08:00-12:00,14:30-18:00; We 08:00-14:...    unknown         NaN   \n",
       "\n",
       "                                       website        lat        lon  \\\n",
       "595                                        NaN  52.483908  13.443282   \n",
       "587  http://www.zahnarztpraxis-wilmersdorf.de/  52.487791  13.322032   \n",
       "543             http://www.pankow-zahnarzt.de/  52.566830  13.416816   \n",
       "645                                        NaN  52.425322  13.330399   \n",
       "487           https://www.zahnarzt-ladewig.de/  52.487699  13.332421   \n",
       "\n",
       "                               full_address  \n",
       "595  Wildenbruchstraße, 14, 12045.0, Berlin  \n",
       "587    Gasteiner Straße, 9, 10717.0, Berlin  \n",
       "543    Kissingenstraße, 45, 13189.0, Berlin  \n",
       "645    Ferdinandstraße, 21, 12209.0, Berlin  \n",
       "487     Berliner Straße, 9, 10715.0, Berlin  "
      ]
     },
     "execution_count": 15,
     "metadata": {},
     "output_type": "execute_result"
    }
   ],
   "source": [
    "df.sample(5, random_state=42)  # preview 5 random dentists"
   ]
  },
  {
   "cell_type": "markdown",
   "id": "d8242ae2-7351-4d43-99c8-3f77e3e561df",
   "metadata": {},
   "source": [
    "download and install geopy so it can be used for geocoding etc"
   ]
  },
  {
   "cell_type": "code",
   "execution_count": 16,
   "id": "83169ab7-9628-4c04-9d46-6c761a956246",
   "metadata": {},
   "outputs": [
    {
     "name": "stdout",
     "output_type": "stream",
     "text": [
      "Requirement already satisfied: geopy in /opt/anaconda3/lib/python3.12/site-packages (2.4.1)\n",
      "Requirement already satisfied: geographiclib<3,>=1.52 in /opt/anaconda3/lib/python3.12/site-packages (from geopy) (2.0)\n"
     ]
    }
   ],
   "source": [
    "!pip install geopy"
   ]
  },
  {
   "cell_type": "code",
   "execution_count": 17,
   "id": "97641c4e-dfb9-432f-a684-cfbba79c0ee7",
   "metadata": {},
   "outputs": [
    {
     "name": "stdout",
     "output_type": "stream",
     "text": [
      "Requirement already satisfied: geopandas in /opt/anaconda3/lib/python3.12/site-packages (1.1.1)\n",
      "Requirement already satisfied: shapely in /opt/anaconda3/lib/python3.12/site-packages (2.1.1)\n",
      "Requirement already satisfied: pyproj in /opt/anaconda3/lib/python3.12/site-packages (3.7.2)\n",
      "Requirement already satisfied: fiona in /opt/anaconda3/lib/python3.12/site-packages (1.10.1)\n",
      "Requirement already satisfied: rtree in /opt/anaconda3/lib/python3.12/site-packages (1.0.1)\n",
      "Requirement already satisfied: numpy>=1.24 in /opt/anaconda3/lib/python3.12/site-packages (from geopandas) (1.26.4)\n",
      "Requirement already satisfied: pyogrio>=0.7.2 in /opt/anaconda3/lib/python3.12/site-packages (from geopandas) (0.11.1)\n",
      "Requirement already satisfied: packaging in /opt/anaconda3/lib/python3.12/site-packages (from geopandas) (23.2)\n",
      "Requirement already satisfied: pandas>=2.0.0 in /opt/anaconda3/lib/python3.12/site-packages (from geopandas) (2.2.2)\n",
      "Requirement already satisfied: certifi in /opt/anaconda3/lib/python3.12/site-packages (from pyproj) (2025.8.3)\n",
      "Requirement already satisfied: attrs>=19.2.0 in /opt/anaconda3/lib/python3.12/site-packages (from fiona) (23.1.0)\n",
      "Requirement already satisfied: click~=8.0 in /opt/anaconda3/lib/python3.12/site-packages (from fiona) (8.1.7)\n",
      "Requirement already satisfied: click-plugins>=1.0 in /opt/anaconda3/lib/python3.12/site-packages (from fiona) (1.1.1.2)\n",
      "Requirement already satisfied: cligj>=0.5 in /opt/anaconda3/lib/python3.12/site-packages (from fiona) (0.7.2)\n",
      "Requirement already satisfied: python-dateutil>=2.8.2 in /opt/anaconda3/lib/python3.12/site-packages (from pandas>=2.0.0->geopandas) (2.9.0.post0)\n",
      "Requirement already satisfied: pytz>=2020.1 in /opt/anaconda3/lib/python3.12/site-packages (from pandas>=2.0.0->geopandas) (2024.1)\n",
      "Requirement already satisfied: tzdata>=2022.7 in /opt/anaconda3/lib/python3.12/site-packages (from pandas>=2.0.0->geopandas) (2023.3)\n",
      "Requirement already satisfied: six>=1.5 in /opt/anaconda3/lib/python3.12/site-packages (from python-dateutil>=2.8.2->pandas>=2.0.0->geopandas) (1.16.0)\n"
     ]
    }
   ],
   "source": [
    "!pip install geopandas shapely pyproj fiona rtree"
   ]
  },
  {
   "cell_type": "markdown",
   "id": "2ea1ad0f-ccc4-420a-8c74-a9c392bc81b2",
   "metadata": {},
   "source": [
    "downloading the GeoJSON file with Berlin district boundaries"
   ]
  },
  {
   "cell_type": "code",
   "execution_count": 18,
   "id": "fad65c16-786e-4ef4-a684-58548694e268",
   "metadata": {},
   "outputs": [
    {
     "name": "stdout",
     "output_type": "stream",
     "text": [
      "GeoJSON downloaded as berlin_bezirksgeo.json\n"
     ]
    }
   ],
   "source": [
    "import requests\n",
    "\n",
    "url = \"https://tsb-opendata.s3.eu-central-1.amazonaws.com/bezirksgrenzen/bezirksgrenzen.geojson\"\n",
    "resp = requests.get(url)\n",
    "with open(\"berlin_bezirksgeo.json\", \"wb\") as f:\n",
    "    f.write(resp.content)\n",
    "print(\"GeoJSON downloaded as berlin_bezirksgeo.json\")"
   ]
  },
  {
   "cell_type": "markdown",
   "id": "402f9e66-66e8-4ed4-bed4-7bb0ec2e0979",
   "metadata": {},
   "source": [
    "Imports and Read Files"
   ]
  },
  {
   "cell_type": "code",
   "execution_count": 19,
   "id": "2c8241b8-71ae-483d-8701-61e1dcb0dd2d",
   "metadata": {},
   "outputs": [
    {
     "name": "stdout",
     "output_type": "stream",
     "text": [
      "Districts count: 12\n",
      "Dentists count: 781\n"
     ]
    }
   ],
   "source": [
    "import geopandas as gpd\n",
    "from shapely.geometry import Point\n",
    "\n",
    "# Load the Berlin districts GeoJSON\n",
    "districts = gpd.read_file(\"berlin_bezirksgeo.json\")\n",
    "\n",
    "# Load your dentists cleaned CSV with lat/lon\n",
    "dentists_df = gpd.read_file(\"berlin_dentists_clean.csv\")  # We'll convert to GeoDataFrame later\n",
    "\n",
    "print(f\"Districts count: {len(districts)}\")\n",
    "print(f\"Dentists count: {len(dentists_df)}\")"
   ]
  },
  {
   "cell_type": "markdown",
   "id": "a106a1b4-5a16-41c3-966e-4a2efff24e12",
   "metadata": {},
   "source": [
    "Prepare Dentists GeoDataFrame"
   ]
  },
  {
   "cell_type": "code",
   "execution_count": 20,
   "id": "b727a05c-d311-463f-856d-7a2301a46822",
   "metadata": {},
   "outputs": [
    {
     "name": "stdout",
     "output_type": "stream",
     "text": [
      "  osm_type     osm_id                 name     addr_street addr_housenumber  \\\n",
      "0     node  304183504                       Hönower Straße               75   \n",
      "1     node  313539258  Zahnzentrum Wedding    Müllerstraße              34a   \n",
      "2     node  325161442             A. Nejad                                    \n",
      "3     node  345236220    Dr. Beate Lengert  Kurfürstendamm              218   \n",
      "4     node  391394177      Serpil Hartfiel  Kollwitzstraße               77   \n",
      "\n",
      "  addr_postcode addr_city                                      opening_hours  \\\n",
      "0       12623.0    Berlin                                                      \n",
      "1       13353.0    Berlin  Mo 09:00-19:00; Tu 09:00-18:00; We 09:00-17:00...   \n",
      "2                  Berlin  Mo-Tu 09:00-19:00; We 09:00-14:00; Th 09:00-19...   \n",
      "3       10719.0    Berlin                                                      \n",
      "4       10435.0    Berlin  Mo,Tu,Th 08:00-19:00; We 18:00-18:00; Fr 08:00...   \n",
      "\n",
      "  wheelchair         phone email                          website         lat  \\\n",
      "0    unknown                                                       52.5114112   \n",
      "1        yes                                                       52.5488382   \n",
      "2        yes  +49303619106                                         52.5088434   \n",
      "3    unknown                      http://www.dr-beate-lengert.de/  52.5027217   \n",
      "4         no                                                       52.5375469   \n",
      "\n",
      "          lon                          full_address                   geometry  \n",
      "0   13.612096   Hönower Straße, 75, 12623.0, Berlin   POINT (13.6121 52.51141)  \n",
      "1  13.3553052    Müllerstraße, 34a, 13353.0, Berlin  POINT (13.35531 52.54884)  \n",
      "2  13.1804772                                Berlin  POINT (13.18048 52.50884)  \n",
      "3  13.3281367  Kurfürstendamm, 218, 10719.0, Berlin  POINT (13.32814 52.50272)  \n",
      "4  13.4189939   Kollwitzstraße, 77, 10435.0, Berlin  POINT (13.41899 52.53755)  \n"
     ]
    }
   ],
   "source": [
    "# Create Point geometry from lat/lon\n",
    "geometry = [Point(xy) for xy in zip(dentists_df['lon'], dentists_df['lat'])]\n",
    "\n",
    "# Create GeoDataFrame of dentists with proper CRS (Coordinate Reference System)\n",
    "dentists = gpd.GeoDataFrame(dentists_df, geometry=geometry, crs=\"EPSG:4326\")\n",
    "\n",
    "print(dentists.head())\n"
   ]
  },
  {
   "cell_type": "markdown",
   "id": "f8c1891f-8766-40f7-8d4c-f39627084aeb",
   "metadata": {},
   "source": [
    "Ensuring Both GeoDataFrames Use Same CRS"
   ]
  },
  {
   "cell_type": "code",
   "execution_count": 21,
   "id": "e717a8f5-84ce-4a1f-8351-a35c130db118",
   "metadata": {},
   "outputs": [
    {
     "name": "stdout",
     "output_type": "stream",
     "text": [
      "Districts CRS: EPSG:4326\n",
      "Dentists CRS: EPSG:4326\n",
      "After reprojection, dentists CRS: EPSG:4326\n"
     ]
    }
   ],
   "source": [
    "# Check CRS of districts and dentists\n",
    "print(\"Districts CRS:\", districts.crs)\n",
    "print(\"Dentists CRS:\", dentists.crs)\n",
    "\n",
    "# Reproject dentists to district CRS if needed\n",
    "if dentists.crs != districts.crs:\n",
    "    dentists = dentists.to_crs(districts.crs)\n",
    "    print(\"Dentists reprojected to match districts CRS\")\n",
    "\n",
    "print(\"After reprojection, dentists CRS:\", dentists.crs)"
   ]
  },
  {
   "cell_type": "markdown",
   "id": "dcf02abe-c0fd-44a6-bbae-7fade2d6015b",
   "metadata": {},
   "source": [
    "Performing Spatial Join to Add District Info to Dentists"
   ]
  },
  {
   "cell_type": "code",
   "execution_count": 22,
   "id": "333194b4-869a-41a0-8fff-c4581bfa3c53",
   "metadata": {},
   "outputs": [
    {
     "name": "stdout",
     "output_type": "stream",
     "text": [
      "Index(['osm_type', 'osm_id', 'name', 'addr_street', 'addr_housenumber',\n",
      "       'addr_postcode', 'addr_city', 'opening_hours', 'wheelchair', 'phone',\n",
      "       'email', 'website', 'lat', 'lon', 'full_address', 'geometry',\n",
      "       'index_right', 'gml_id', 'Gemeinde_name', 'Gemeinde_schluessel',\n",
      "       'Land_name', 'Land_schluessel', 'Schluessel_gesamt'],\n",
      "      dtype='object')\n",
      "                  name               Gemeinde_name\n",
      "0                              Marzahn-Hellersdorf\n",
      "1  Zahnzentrum Wedding                       Mitte\n",
      "2             A. Nejad                     Spandau\n",
      "3    Dr. Beate Lengert  Charlottenburg-Wilmersdorf\n",
      "4      Serpil Hartfiel                      Pankow\n"
     ]
    }
   ],
   "source": [
    "# Spatial join: assign each dentist a district polygon it falls within\n",
    "dentists_with_districts = gpd.sjoin(dentists, districts, how=\"left\", predicate=\"within\")\n",
    "\n",
    "# Inspect new columns from districts GeoDataFrame, e.g., 'Gemeinde_name' for district name\n",
    "print(dentists_with_districts.columns)\n",
    "print(dentists_with_districts[['name', 'Gemeinde_name']].head())"
   ]
  },
  {
   "cell_type": "markdown",
   "id": "97a3d005-5f53-4b14-92a9-f145791b0652",
   "metadata": {},
   "source": [
    "Dropping columns"
   ]
  },
  {
   "cell_type": "code",
   "execution_count": 23,
   "id": "08285315-d1dc-40f6-b806-c84ef587c3d0",
   "metadata": {},
   "outputs": [],
   "source": [
    "dentists_with_districts.drop(\n",
    "    columns=['index_right', 'gml_id', 'Schluessel_gesamt', 'Gemeinde_schluessel','Land_name'],\n",
    "    inplace=True\n",
    ")"
   ]
  },
  {
   "cell_type": "markdown",
   "id": "6bf1b0d3-88bf-4a1a-91bc-d5cbc19fe9be",
   "metadata": {},
   "source": [
    "Renaming columns with German Heads to English"
   ]
  },
  {
   "cell_type": "code",
   "execution_count": 24,
   "id": "3714263d-7e34-4ce6-b056-2fa5c510daa2",
   "metadata": {},
   "outputs": [],
   "source": [
    "dentists_with_districts.rename(columns={\n",
    "    'Gemeinde_name': 'district_name',\n",
    "    'Land_schluessel': 'addr_city_code'\n",
    "}, inplace=True)"
   ]
  },
  {
   "cell_type": "markdown",
   "id": "b02452ba-2567-4444-ae69-f1065a309077",
   "metadata": {},
   "source": [
    "Mapping district names to official district IDs using hardcoded dictionary:"
   ]
  },
  {
   "cell_type": "code",
   "execution_count": 25,
   "id": "cae3487d-931e-4190-960c-c28d60726c9a",
   "metadata": {},
   "outputs": [
    {
     "name": "stdout",
     "output_type": "stream",
     "text": [
      "                  name               district_name district_id\n",
      "0                              Marzahn-Hellersdorf    11010010\n",
      "1  Zahnzentrum Wedding                       Mitte    11001001\n",
      "2             A. Nejad                     Spandau    11005005\n",
      "3    Dr. Beate Lengert  Charlottenburg-Wilmersdorf    11004004\n",
      "4      Serpil Hartfiel                      Pankow    11003003\n"
     ]
    }
   ],
   "source": [
    "# District mapping (official codes as strings)\n",
    "district_mapping = {\n",
    "    'Mitte': '11001001',\n",
    "    'Friedrichshain-Kreuzberg': '11002002',\n",
    "    'Pankow': '11003003',\n",
    "    'Charlottenburg-Wilmersdorf': '11004004',\n",
    "    'Spandau': '11005005',\n",
    "    'Steglitz-Zehlendorf': '11006006',\n",
    "    'Tempelhof-Schöneberg': '11007007',\n",
    "    'Neukölln': '11008008',\n",
    "    'Treptow-Köpenick': '11009009',\n",
    "    'Marzahn-Hellersdorf': '11010010',\n",
    "    'Lichtenberg': '11011011',\n",
    "    'Reinickendorf': '11012012'\n",
    "}\n",
    "\n",
    "# Apply mapping to create district_id column\n",
    "dentists_with_districts['district_id'] = (\n",
    "    dentists_with_districts['district_name']\n",
    "    .map(district_mapping)\n",
    "    .astype(str)\n",
    ")\n",
    "\n",
    "# Optional: check unmapped districts\n",
    "unmapped = dentists_with_districts[\n",
    "    ~dentists_with_districts['district_name'].isin(district_mapping.keys())\n",
    "]['district_name'].unique()\n",
    "\n",
    "if len(unmapped) > 0:\n",
    "    print(\"⚠️ Unmapped districts found:\", unmapped)\n",
    "\n",
    "print(dentists_with_districts[['name', 'district_name', 'district_id']].head())"
   ]
  },
  {
   "cell_type": "markdown",
   "id": "dc3eb038-415c-4ba3-973d-70ac5d1c2bf9",
   "metadata": {},
   "source": [
    "Save Joined Result to CSV"
   ]
  },
  {
   "cell_type": "code",
   "execution_count": 26,
   "id": "50235bf5-a14e-4102-a44c-9df333e355f3",
   "metadata": {},
   "outputs": [
    {
     "name": "stdout",
     "output_type": "stream",
     "text": [
      "✅ Saved dentists with districts info to berlin_dentists_with_districts.csv\n"
     ]
    }
   ],
   "source": [
    "# Save final enriched dataframe\n",
    "output_file = \"berlin_dentists_with_districts.csv\"\n",
    "dentists_with_districts.to_csv(output_file, index=False)\n",
    "print(f\"✅ Saved dentists with districts info to {output_file}\")"
   ]
  },
  {
   "cell_type": "code",
   "execution_count": null,
   "id": "72e27328-45f7-451b-9d0d-3b083a8b96a6",
   "metadata": {},
   "outputs": [],
   "source": []
  }
 ],
 "metadata": {
  "kernelspec": {
   "display_name": "Python [conda env:base] *",
   "language": "python",
   "name": "conda-base-py"
  },
  "language_info": {
   "codemirror_mode": {
    "name": "ipython",
    "version": 3
   },
   "file_extension": ".py",
   "mimetype": "text/x-python",
   "name": "python",
   "nbconvert_exporter": "python",
   "pygments_lexer": "ipython3",
   "version": "3.12.4"
  }
 },
 "nbformat": 4,
 "nbformat_minor": 5
}
