{
 "cells": [
  {
   "cell_type": "markdown",
   "id": "99d0d3d9",
   "metadata": {},
   "source": [
    "cleaning osm data\n"
   ]
  },
  {
   "cell_type": "markdown",
   "id": "a95e5fbc",
   "metadata": {},
   "source": [
    "step1"
   ]
  },
  {
   "cell_type": "code",
   "execution_count": null,
   "id": "5a7be1f0",
   "metadata": {},
   "outputs": [
    {
     "name": "stdout",
     "output_type": "stream",
     "text": [
      "Dropped 0 exact duplicate rows by clinic_id\n",
      "Cleaned data saved to /Users/martinsvitek/layered-populate-data-pool-da/layered-populate-data-pool-da/vet_clinics/sources/vet_clinics/sources/vets_osm_berlin_cleaned_for_db.csv (178 rows)\n"
     ]
    }
   ],
   "source": [
    "# transform_osm_vets.py\n",
    "# Clean + map OSM veterinary clinics (Berlin) for DB import\n",
    "\n",
    "import pandas as pd\n",
    "import numpy as np\n",
    "from pathlib import Path\n",
    "\n",
    "# === Step 1: Load exported OSM data ===\n",
    "# (Use the stable file you saved with your fetch script.)\n",
    "raw_file = \"./vet_clinics/sources/berlin_vet_clinics_osm.csv\"\n",
    "df = pd.read_csv(raw_file)\n",
    "\n",
    "# === Step 2: Field mapping (OSM -> target schema) ===\n",
    "rename_map = {\n",
    "    \"osmid\": \"clinic_id\",\n",
    "    \"name\": \"clinic_name\",\n",
    "    \"amenity\": \"amenity\",\n",
    "    \"addr:street\": \"street\",\n",
    "    \"addr:housenumber\": \"house_number\",\n",
    "    \"addr:postcode\": \"postcode\",\n",
    "    \"addr:city\": \"city\",\n",
    "    \"phone\": \"phone_number\",\n",
    "    \"website\": \"website\",\n",
    "    \"email\": \"email\",\n",
    "    \"opening_hours\": \"opening_hours\",\n",
    "    \"operator\": \"operator\",\n",
    "    \"brand\": \"brand\",\n",
    "    \"veterinary:speciality\": \"speciality\",\n",
    "    \"wheelchair\": \"wheelchair_acces\",\n",
    "    \"emergency\": \"emergency\",\n",
    "    \"lat\": \"latitude\",\n",
    "    \"lon\": \"longitude\",\n",
    "}\n",
    "\n",
    "df = df.rename(columns=rename_map)\n",
    "\n",
    "# Ensure all target columns exist (create empty if missing)\n",
    "target_cols = [\n",
    "    \"clinic_id\", \"clinic_name\", \"amenity\",\n",
    "    \"street\", \"house_number\", \"postcode\", \"city\",\n",
    "    \"phone_number\", \"website\", \"email\",\n",
    "    \"opening_hours\", \"operator\", \"brand\",\n",
    "    \"speciality\", \"wheelchair_acces\", \"emergency\",\n",
    "    \"latitude\", \"longitude\",\n",
    "    # placeholders to be filled later:\n",
    "    \"district_id\", \"neighbourhood_id\",\n",
    "    # convenience:\n",
    "    \"full_address\",\n",
    "]\n",
    "for c in target_cols:\n",
    "    if c not in df.columns:\n",
    "        df[c] = \"\"\n",
    "\n",
    "# === Step 3: Light cleaning ===\n",
    "\n",
    "# Keep only amenity=veterinary (safety filter)\n",
    "df[\"amenity\"] = df[\"amenity\"].astype(str)\n",
    "df = df[df[\"amenity\"].str.lower().eq(\"veterinary\")].copy()\n",
    "\n",
    "# Drop exact duplicates on clinic_id\n",
    "if \"clinic_id\" in df.columns:\n",
    "    df[\"clinic_id\"] = df[\"clinic_id\"].astype(str)\n",
    "    before = len(df)\n",
    "    df = df.drop_duplicates(subset=[\"clinic_id\"], keep=\"first\").copy()\n",
    "    print(f\"Dropped {before - len(df)} exact duplicate rows by clinic_id\")\n",
    "\n",
    "# Fill text fields\n",
    "df[\"clinic_name\"] = df[\"clinic_name\"].fillna(\"\").replace(\"\", \"Unknown Veterinary Clinic\")\n",
    "df[\"street\"] = df[\"street\"].fillna(\"\").astype(str).str.strip()\n",
    "df[\"house_number\"] = df[\"house_number\"].fillna(\"\").astype(str).str.strip()\n",
    "df[\"postcode\"] = df[\"postcode\"].fillna(\"\").astype(str).str.strip()\n",
    "df[\"city\"] = df[\"city\"].fillna(\"\").replace(\"\", \"Berlin\")\n",
    "\n",
    "# Contacts\n",
    "df[\"website\"] = df[\"website\"].fillna(\"\").astype(str).str.strip()\n",
    "df[\"phone_number\"] = df[\"phone_number\"].fillna(\"\").astype(str).str.strip()\n",
    "df[\"email\"] = df[\"email\"].fillna(\"\").astype(str).str.strip()\n",
    "\n",
    "# Opening hours / flags\n",
    "df[\"opening_hours\"] = df[\"opening_hours\"].fillna(\"\").astype(str).str.strip()\n",
    "df[\"wheelchair_acces\"] = df[\"wheelchair_acces\"].fillna(\"\").replace(\"\", \"unknown\")\n",
    "df[\"emergency\"] = df[\"emergency\"].fillna(\"\").astype(str).str.strip()\n",
    "\n",
    "# Coordinates\n",
    "df[\"latitude\"]  = pd.to_numeric(df[\"latitude\"], errors=\"coerce\")\n",
    "df[\"longitude\"] = pd.to_numeric(df[\"longitude\"], errors=\"coerce\")\n",
    "\n",
    "# Placeholders for later spatial enrichment\n",
    "df[\"district_id\"] = df[\"district_id\"].fillna(\"\")\n",
    "df[\"neighbourhood_id\"] = df[\"neighbourhood_id\"].fillna(\"\")\n",
    "\n",
    "# Full address convenience field\n",
    "def _full_addr(r):\n",
    "    a = \" \".join([str(r.get(\"street\", \"\")).strip(), str(r.get(\"house_number\", \"\")).strip()]).strip()\n",
    "    b = \" \".join([str(r.get(\"postcode\", \"\")).strip(), str(r.get(\"city\", \"\")).strip()]).strip()\n",
    "    return \", \".join([p for p in (a, b) if p])\n",
    "df[\"full_address\"] = df.apply(_full_addr, axis=1)\n",
    "\n",
    "# Reorder/select columns\n",
    "df = df[target_cols].copy()\n",
    "\n",
    "# === Step 4: Save cleaned file ===\n",
    "out_dir = Path(\"./vet_clinics/sources\")\n",
    "out_dir.mkdir(parents=True, exist_ok=True)\n",
    "cleaned_file = out_dir / \"vets_osm_berlin_cleaned_for_db.csv\"\n",
    "df.to_csv(cleaned_file, index=False, encoding=\"utf-8\")\n",
    "\n",
    "print(f\"Cleaned data saved to {cleaned_file.resolve()} ({len(df)} rows)\")\n"
   ]
  },
  {
   "cell_type": "code",
   "execution_count": 59,
   "id": "5dad9901",
   "metadata": {},
   "outputs": [
    {
     "name": "stdout",
     "output_type": "stream",
     "text": [
      "/Users/martinsvitek/layered-populate-data-pool-da/layered-populate-data-pool-da/vet_clinics/sources\n"
     ]
    }
   ],
   "source": [
    "import os; print(os.getcwd())\n",
    "\n",
    "\n"
   ]
  }
 ],
 "metadata": {
  "kernelspec": {
   "display_name": "myenv",
   "language": "python",
   "name": "python3"
  },
  "language_info": {
   "codemirror_mode": {
    "name": "ipython",
    "version": 3
   },
   "file_extension": ".py",
   "mimetype": "text/x-python",
   "name": "python",
   "nbconvert_exporter": "python",
   "pygments_lexer": "ipython3",
   "version": "3.11.13"
  }
 },
 "nbformat": 4,
 "nbformat_minor": 5
}
