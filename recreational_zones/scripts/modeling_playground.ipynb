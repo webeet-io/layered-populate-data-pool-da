{
 "cells": [
  {
   "cell_type": "markdown",
   "id": "61675f43",
   "metadata": {},
   "source": [
    "## 🧪 Step 1: Research & Data Modelling"
   ]
  },
  {
   "cell_type": "markdown",
   "id": "9129803b",
   "metadata": {},
   "source": [
    "### Playground Berlin (Spielplatz)"
   ]
  },
  {
   "cell_type": "code",
   "execution_count": 10,
   "id": "e39e6c8a",
   "metadata": {},
   "outputs": [],
   "source": [
    "import pandas as pd\n",
    "from geopy.geocoders import Nominatim\n",
    "from time import sleep"
   ]
  },
  {
   "cell_type": "code",
   "execution_count": 11,
   "id": "39c40600",
   "metadata": {},
   "outputs": [],
   "source": [
    "df = pd.read_csv(\"/Users/dianaterraza/Desktop/webeet.io/layered-populate-data-pool-da/recreational_zones/sources/playground.csv\", sep=';')"
   ]
  },
  {
   "cell_type": "code",
   "execution_count": 12,
   "id": "3d194876",
   "metadata": {},
   "outputs": [
    {
     "data": {
      "text/html": [
       "<div>\n",
       "<style scoped>\n",
       "    .dataframe tbody tr th:only-of-type {\n",
       "        vertical-align: middle;\n",
       "    }\n",
       "\n",
       "    .dataframe tbody tr th {\n",
       "        vertical-align: top;\n",
       "    }\n",
       "\n",
       "    .dataframe thead th {\n",
       "        text-align: right;\n",
       "    }\n",
       "</style>\n",
       "<table border=\"1\" class=\"dataframe\">\n",
       "  <thead>\n",
       "    <tr style=\"text-align: right;\">\n",
       "      <th></th>\n",
       "      <th>Technischer Schlüssel</th>\n",
       "      <th>Schlüssel</th>\n",
       "      <th>Objektnummer</th>\n",
       "      <th>Bezirk</th>\n",
       "      <th>Ortsteil</th>\n",
       "      <th>Art der Grünanlage</th>\n",
       "      <th>Name des Spielplatzes</th>\n",
       "      <th>Namenszusatz des Spielplatzes</th>\n",
       "      <th>Baujahr</th>\n",
       "      <th>letztes Sanierungsjahr</th>\n",
       "      <th>Größe in m² (Kataster)</th>\n",
       "      <th>Widmung</th>\n",
       "      <th>Nummer des Planungsraumes</th>\n",
       "      <th>Name des Planungsraumes</th>\n",
       "      <th>Nettospielfläche in m²</th>\n",
       "    </tr>\n",
       "  </thead>\n",
       "  <tbody>\n",
       "    <tr>\n",
       "      <th>0</th>\n",
       "      <td>00008100_002f2c6b</td>\n",
       "      <td>00008100:002f2c6b</td>\n",
       "      <td>19441</td>\n",
       "      <td>Tempelhof-Schöneberg</td>\n",
       "      <td>Lichtenrade</td>\n",
       "      <td>Spielplatz</td>\n",
       "      <td>Nuthestr. 26</td>\n",
       "      <td>-</td>\n",
       "      <td>-</td>\n",
       "      <td>-</td>\n",
       "      <td>-</td>\n",
       "      <td>-</td>\n",
       "      <td>-</td>\n",
       "      <td>-</td>\n",
       "      <td>-</td>\n",
       "    </tr>\n",
       "    <tr>\n",
       "      <th>1</th>\n",
       "      <td>00008100_0033cfac</td>\n",
       "      <td>00008100:0033cfac</td>\n",
       "      <td>35098</td>\n",
       "      <td>Reinickendorf</td>\n",
       "      <td>Tegel</td>\n",
       "      <td>Spielplatz</td>\n",
       "      <td>Borsigdamm 4 (Spielplatz)</td>\n",
       "      <td>-</td>\n",
       "      <td>-</td>\n",
       "      <td>-</td>\n",
       "      <td>5031,90</td>\n",
       "      <td>-</td>\n",
       "      <td>12200413</td>\n",
       "      <td>Tegel Süd</td>\n",
       "      <td>-</td>\n",
       "    </tr>\n",
       "    <tr>\n",
       "      <th>2</th>\n",
       "      <td>00008100_0032a99a</td>\n",
       "      <td>00008100:0032a99a</td>\n",
       "      <td>21AS10</td>\n",
       "      <td>Lichtenberg</td>\n",
       "      <td>Lichtenberg</td>\n",
       "      <td>Spielplatz</td>\n",
       "      <td>Gudrunstr. 14 Spielplatz</td>\n",
       "      <td>-</td>\n",
       "      <td>-</td>\n",
       "      <td>-</td>\n",
       "      <td>713,00</td>\n",
       "      <td>gewidmet</td>\n",
       "      <td>11300725</td>\n",
       "      <td>Nibelungenviertel</td>\n",
       "      <td>-</td>\n",
       "    </tr>\n",
       "    <tr>\n",
       "      <th>3</th>\n",
       "      <td>00008100_00199411</td>\n",
       "      <td>00008100:00199411</td>\n",
       "      <td>00156</td>\n",
       "      <td>Marzahn-Hellersdorf</td>\n",
       "      <td>Marzahn</td>\n",
       "      <td>Spielplatz</td>\n",
       "      <td>Hohenwalder/Schorfheider Straße -Dreieck</td>\n",
       "      <td>seit 1990 pädagog. betreuter Spielplatz</td>\n",
       "      <td>1988</td>\n",
       "      <td>-</td>\n",
       "      <td>3934,00</td>\n",
       "      <td>gewidmet</td>\n",
       "      <td>10100104</td>\n",
       "      <td>Golliner Straße</td>\n",
       "      <td>-</td>\n",
       "    </tr>\n",
       "    <tr>\n",
       "      <th>4</th>\n",
       "      <td>00008100_00281623</td>\n",
       "      <td>00008100:00281623</td>\n",
       "      <td>150072</td>\n",
       "      <td>Treptow-Köpenick</td>\n",
       "      <td>Schmöckwitz</td>\n",
       "      <td>Spielplatz</td>\n",
       "      <td>Biebersdorfer Weg 12/ Lübbenauer Weg 23 Sch KSP</td>\n",
       "      <td>-</td>\n",
       "      <td>-</td>\n",
       "      <td>-</td>\n",
       "      <td>900,00</td>\n",
       "      <td>gewidmet</td>\n",
       "      <td>09301227</td>\n",
       "      <td>Karolinenhof</td>\n",
       "      <td>-</td>\n",
       "    </tr>\n",
       "  </tbody>\n",
       "</table>\n",
       "</div>"
      ],
      "text/plain": [
       "  Technischer Schlüssel          Schlüssel Objektnummer                Bezirk  \\\n",
       "0     00008100_002f2c6b  00008100:002f2c6b        19441  Tempelhof-Schöneberg   \n",
       "1     00008100_0033cfac  00008100:0033cfac        35098         Reinickendorf   \n",
       "2     00008100_0032a99a  00008100:0032a99a       21AS10           Lichtenberg   \n",
       "3     00008100_00199411  00008100:00199411        00156   Marzahn-Hellersdorf   \n",
       "4     00008100_00281623  00008100:00281623       150072      Treptow-Köpenick   \n",
       "\n",
       "      Ortsteil Art der Grünanlage  \\\n",
       "0  Lichtenrade         Spielplatz   \n",
       "1        Tegel         Spielplatz   \n",
       "2  Lichtenberg         Spielplatz   \n",
       "3      Marzahn         Spielplatz   \n",
       "4  Schmöckwitz         Spielplatz   \n",
       "\n",
       "                             Name des Spielplatzes  \\\n",
       "0                                     Nuthestr. 26   \n",
       "1                        Borsigdamm 4 (Spielplatz)   \n",
       "2                         Gudrunstr. 14 Spielplatz   \n",
       "3         Hohenwalder/Schorfheider Straße -Dreieck   \n",
       "4  Biebersdorfer Weg 12/ Lübbenauer Weg 23 Sch KSP   \n",
       "\n",
       "             Namenszusatz des Spielplatzes Baujahr letztes Sanierungsjahr  \\\n",
       "0                                        -       -                      -   \n",
       "1                                        -       -                      -   \n",
       "2                                        -       -                      -   \n",
       "3  seit 1990 pädagog. betreuter Spielplatz    1988                      -   \n",
       "4                                        -       -                      -   \n",
       "\n",
       "  Größe in m² (Kataster)   Widmung Nummer des Planungsraumes  \\\n",
       "0                      -         -                         -   \n",
       "1                5031,90         -                  12200413   \n",
       "2                 713,00  gewidmet                  11300725   \n",
       "3                3934,00  gewidmet                  10100104   \n",
       "4                 900,00  gewidmet                  09301227   \n",
       "\n",
       "  Name des Planungsraumes Nettospielfläche in m²  \n",
       "0                       -                      -  \n",
       "1               Tegel Süd                      -  \n",
       "2       Nibelungenviertel                      -  \n",
       "3         Golliner Straße                      -  \n",
       "4            Karolinenhof                      -  "
      ]
     },
     "execution_count": 12,
     "metadata": {},
     "output_type": "execute_result"
    }
   ],
   "source": [
    "df.head()"
   ]
  },
  {
   "cell_type": "code",
   "execution_count": 13,
   "id": "529226e7",
   "metadata": {},
   "outputs": [
    {
     "data": {
      "text/plain": [
       "Index(['Technischer Schlüssel', 'Schlüssel', 'Objektnummer', 'Bezirk',\n",
       "       'Ortsteil', 'Art der Grünanlage', 'Name des Spielplatzes',\n",
       "       'Namenszusatz des Spielplatzes', 'Baujahr', 'letztes Sanierungsjahr',\n",
       "       'Größe in m² (Kataster)', 'Widmung', 'Nummer des Planungsraumes',\n",
       "       'Name des Planungsraumes', 'Nettospielfläche in m²'],\n",
       "      dtype='object')"
      ]
     },
     "execution_count": 13,
     "metadata": {},
     "output_type": "execute_result"
    }
   ],
   "source": [
    "df.columns"
   ]
  },
  {
   "cell_type": "markdown",
   "id": "0ef683be",
   "metadata": {},
   "source": [
    "### Rename the Columns "
   ]
  },
  {
   "cell_type": "code",
   "execution_count": 15,
   "id": "d5549de9",
   "metadata": {},
   "outputs": [],
   "source": [
    "df.rename(columns={\n",
    "    'Technischer Schlüssel': 'technical_id',\n",
    "    'Schlüssel': 'key',\n",
    "    'Objektnummer': 'object_number',\n",
    "    'Bezirk': 'neighborhood',\n",
    "    'Ortsteil': 'locality',\n",
    "    'Art der Grünanlage': 'green_area_type',\n",
    "    'Name des Spielplatzes': 'playground_name',\n",
    "    'Namenszusatz des Spielplatzes': 'playground_suffix',\n",
    "    'Baujahr': 'year_built',\n",
    "    'letztes Sanierungsjahr': 'last_renovation_year',\n",
    "    'Größe in m² (Kataster)': 'area_sqm',\n",
    "    'Widmung': 'dedication',\n",
    "    'Nummer des Planungsraumes': 'planning_area_number',\n",
    "    'Name des Planungsraumes': 'planning_area_name',\n",
    "    'Nettospielfläche in m²': 'net_play_area_sqm'\n",
    "}, inplace=True)\n"
   ]
  },
  {
   "cell_type": "code",
   "execution_count": 16,
   "id": "e5e97c7c",
   "metadata": {},
   "outputs": [
    {
     "data": {
      "text/plain": [
       "Index(['technical_id', 'key', 'object_number', 'neighborhood', 'locality',\n",
       "       'green_area_type', 'playground_name', 'playground_suffix', 'year_built',\n",
       "       'last_renovation_year', 'area_sqm', 'dedication',\n",
       "       'planning_area_number', 'planning_area_name', 'net_play_area_sqm'],\n",
       "      dtype='object')"
      ]
     },
     "execution_count": 16,
     "metadata": {},
     "output_type": "execute_result"
    }
   ],
   "source": [
    "df.columns"
   ]
  },
  {
   "cell_type": "markdown",
   "id": "696c8e24",
   "metadata": {},
   "source": [
    "### Create full Address Column "
   ]
  },
  {
   "cell_type": "code",
   "execution_count": 17,
   "id": "79139d28",
   "metadata": {},
   "outputs": [
    {
     "data": {
      "text/html": [
       "<div>\n",
       "<style scoped>\n",
       "    .dataframe tbody tr th:only-of-type {\n",
       "        vertical-align: middle;\n",
       "    }\n",
       "\n",
       "    .dataframe tbody tr th {\n",
       "        vertical-align: top;\n",
       "    }\n",
       "\n",
       "    .dataframe thead th {\n",
       "        text-align: right;\n",
       "    }\n",
       "</style>\n",
       "<table border=\"1\" class=\"dataframe\">\n",
       "  <thead>\n",
       "    <tr style=\"text-align: right;\">\n",
       "      <th></th>\n",
       "      <th>technical_id</th>\n",
       "      <th>key</th>\n",
       "      <th>object_number</th>\n",
       "      <th>neighborhood</th>\n",
       "      <th>locality</th>\n",
       "      <th>green_area_type</th>\n",
       "      <th>playground_name</th>\n",
       "      <th>playground_suffix</th>\n",
       "      <th>year_built</th>\n",
       "      <th>last_renovation_year</th>\n",
       "      <th>area_sqm</th>\n",
       "      <th>dedication</th>\n",
       "      <th>planning_area_number</th>\n",
       "      <th>planning_area_name</th>\n",
       "      <th>net_play_area_sqm</th>\n",
       "      <th>Full Address</th>\n",
       "    </tr>\n",
       "  </thead>\n",
       "  <tbody>\n",
       "    <tr>\n",
       "      <th>0</th>\n",
       "      <td>00008100_002f2c6b</td>\n",
       "      <td>00008100:002f2c6b</td>\n",
       "      <td>19441</td>\n",
       "      <td>Tempelhof-Schöneberg</td>\n",
       "      <td>Lichtenrade</td>\n",
       "      <td>Spielplatz</td>\n",
       "      <td>Nuthestr. 26</td>\n",
       "      <td>-</td>\n",
       "      <td>-</td>\n",
       "      <td>-</td>\n",
       "      <td>-</td>\n",
       "      <td>-</td>\n",
       "      <td>-</td>\n",
       "      <td>-</td>\n",
       "      <td>-</td>\n",
       "      <td>Nuthestr. 26, -, Berlin, Germany</td>\n",
       "    </tr>\n",
       "    <tr>\n",
       "      <th>1</th>\n",
       "      <td>00008100_0033cfac</td>\n",
       "      <td>00008100:0033cfac</td>\n",
       "      <td>35098</td>\n",
       "      <td>Reinickendorf</td>\n",
       "      <td>Tegel</td>\n",
       "      <td>Spielplatz</td>\n",
       "      <td>Borsigdamm 4 (Spielplatz)</td>\n",
       "      <td>-</td>\n",
       "      <td>-</td>\n",
       "      <td>-</td>\n",
       "      <td>5031,90</td>\n",
       "      <td>-</td>\n",
       "      <td>12200413</td>\n",
       "      <td>Tegel Süd</td>\n",
       "      <td>-</td>\n",
       "      <td>Borsigdamm 4 (Spielplatz), Tegel Süd, Berlin, ...</td>\n",
       "    </tr>\n",
       "    <tr>\n",
       "      <th>2</th>\n",
       "      <td>00008100_0032a99a</td>\n",
       "      <td>00008100:0032a99a</td>\n",
       "      <td>21AS10</td>\n",
       "      <td>Lichtenberg</td>\n",
       "      <td>Lichtenberg</td>\n",
       "      <td>Spielplatz</td>\n",
       "      <td>Gudrunstr. 14 Spielplatz</td>\n",
       "      <td>-</td>\n",
       "      <td>-</td>\n",
       "      <td>-</td>\n",
       "      <td>713,00</td>\n",
       "      <td>gewidmet</td>\n",
       "      <td>11300725</td>\n",
       "      <td>Nibelungenviertel</td>\n",
       "      <td>-</td>\n",
       "      <td>Gudrunstr. 14 Spielplatz, Nibelungenviertel, B...</td>\n",
       "    </tr>\n",
       "    <tr>\n",
       "      <th>3</th>\n",
       "      <td>00008100_00199411</td>\n",
       "      <td>00008100:00199411</td>\n",
       "      <td>00156</td>\n",
       "      <td>Marzahn-Hellersdorf</td>\n",
       "      <td>Marzahn</td>\n",
       "      <td>Spielplatz</td>\n",
       "      <td>Hohenwalder/Schorfheider Straße -Dreieck</td>\n",
       "      <td>seit 1990 pädagog. betreuter Spielplatz</td>\n",
       "      <td>1988</td>\n",
       "      <td>-</td>\n",
       "      <td>3934,00</td>\n",
       "      <td>gewidmet</td>\n",
       "      <td>10100104</td>\n",
       "      <td>Golliner Straße</td>\n",
       "      <td>-</td>\n",
       "      <td>Hohenwalder/Schorfheider Straße -Dreieck, Goll...</td>\n",
       "    </tr>\n",
       "    <tr>\n",
       "      <th>4</th>\n",
       "      <td>00008100_00281623</td>\n",
       "      <td>00008100:00281623</td>\n",
       "      <td>150072</td>\n",
       "      <td>Treptow-Köpenick</td>\n",
       "      <td>Schmöckwitz</td>\n",
       "      <td>Spielplatz</td>\n",
       "      <td>Biebersdorfer Weg 12/ Lübbenauer Weg 23 Sch KSP</td>\n",
       "      <td>-</td>\n",
       "      <td>-</td>\n",
       "      <td>-</td>\n",
       "      <td>900,00</td>\n",
       "      <td>gewidmet</td>\n",
       "      <td>09301227</td>\n",
       "      <td>Karolinenhof</td>\n",
       "      <td>-</td>\n",
       "      <td>Biebersdorfer Weg 12/ Lübbenauer Weg 23 Sch KS...</td>\n",
       "    </tr>\n",
       "  </tbody>\n",
       "</table>\n",
       "</div>"
      ],
      "text/plain": [
       "        technical_id                key object_number          neighborhood  \\\n",
       "0  00008100_002f2c6b  00008100:002f2c6b         19441  Tempelhof-Schöneberg   \n",
       "1  00008100_0033cfac  00008100:0033cfac         35098         Reinickendorf   \n",
       "2  00008100_0032a99a  00008100:0032a99a        21AS10           Lichtenberg   \n",
       "3  00008100_00199411  00008100:00199411         00156   Marzahn-Hellersdorf   \n",
       "4  00008100_00281623  00008100:00281623        150072      Treptow-Köpenick   \n",
       "\n",
       "      locality green_area_type  \\\n",
       "0  Lichtenrade      Spielplatz   \n",
       "1        Tegel      Spielplatz   \n",
       "2  Lichtenberg      Spielplatz   \n",
       "3      Marzahn      Spielplatz   \n",
       "4  Schmöckwitz      Spielplatz   \n",
       "\n",
       "                                   playground_name  \\\n",
       "0                                     Nuthestr. 26   \n",
       "1                        Borsigdamm 4 (Spielplatz)   \n",
       "2                         Gudrunstr. 14 Spielplatz   \n",
       "3         Hohenwalder/Schorfheider Straße -Dreieck   \n",
       "4  Biebersdorfer Weg 12/ Lübbenauer Weg 23 Sch KSP   \n",
       "\n",
       "                         playground_suffix year_built last_renovation_year  \\\n",
       "0                                        -          -                    -   \n",
       "1                                        -          -                    -   \n",
       "2                                        -          -                    -   \n",
       "3  seit 1990 pädagog. betreuter Spielplatz       1988                    -   \n",
       "4                                        -          -                    -   \n",
       "\n",
       "  area_sqm dedication planning_area_number planning_area_name  \\\n",
       "0        -          -                    -                  -   \n",
       "1  5031,90          -             12200413          Tegel Süd   \n",
       "2   713,00   gewidmet             11300725  Nibelungenviertel   \n",
       "3  3934,00   gewidmet             10100104    Golliner Straße   \n",
       "4   900,00   gewidmet             09301227       Karolinenhof   \n",
       "\n",
       "  net_play_area_sqm                                       Full Address  \n",
       "0                 -                   Nuthestr. 26, -, Berlin, Germany  \n",
       "1                 -  Borsigdamm 4 (Spielplatz), Tegel Süd, Berlin, ...  \n",
       "2                 -  Gudrunstr. 14 Spielplatz, Nibelungenviertel, B...  \n",
       "3                 -  Hohenwalder/Schorfheider Straße -Dreieck, Goll...  \n",
       "4                 -  Biebersdorfer Weg 12/ Lübbenauer Weg 23 Sch KS...  "
      ]
     },
     "execution_count": 17,
     "metadata": {},
     "output_type": "execute_result"
    }
   ],
   "source": [
    "df['Full Address'] = (\n",
    "    df['playground_name'].astype(str) + \", \" +\n",
    "    df['planning_area_name'].astype(str) + \", Berlin, Germany\"\n",
    ")\n",
    "\n",
    "df.head()"
   ]
  },
  {
   "cell_type": "markdown",
   "id": "172c3827",
   "metadata": {},
   "source": [
    "### Lets look for duplicates "
   ]
  },
  {
   "cell_type": "code",
   "execution_count": 18,
   "id": "6f15efa7",
   "metadata": {},
   "outputs": [
    {
     "name": "stdout",
     "output_type": "stream",
     "text": [
      "Found 27 duplicate addresses.\n"
     ]
    }
   ],
   "source": [
    "# Count duplicate Full Address values\n",
    "duplicates = df['Full Address'].duplicated().sum()\n",
    "print(f\"Found {duplicates} duplicate addresses.\")"
   ]
  },
  {
   "cell_type": "markdown",
   "id": "db487067",
   "metadata": {},
   "source": [
    "### Create a unique address DataFrame"
   ]
  },
  {
   "cell_type": "code",
   "execution_count": 19,
   "id": "b5e55532",
   "metadata": {},
   "outputs": [],
   "source": [
    "unique_addresses = df[['Full Address']].drop_duplicates().copy()"
   ]
  },
  {
   "cell_type": "markdown",
   "id": "731834b6",
   "metadata": {},
   "source": [
    "### Geocode only the unique addresses using OpenStreetMap’s Nominatim API"
   ]
  },
  {
   "cell_type": "code",
   "execution_count": 20,
   "id": "ff5d9b62",
   "metadata": {},
   "outputs": [],
   "source": [
    "geolocator = Nominatim(user_agent=\"berlin-geocoder\")\n",
    "\n",
    "def geocode_address(address):\n",
    "    try:\n",
    "        location = geolocator.geocode(address)\n",
    "        sleep(1)\n",
    "        if location:\n",
    "            return pd.Series([location.latitude, location.longitude])\n",
    "    except:\n",
    "        return pd.Series([None, None])"
   ]
  },
  {
   "cell_type": "code",
   "execution_count": 33,
   "id": "b32d40e6",
   "metadata": {},
   "outputs": [
    {
     "ename": "TypeError",
     "evalue": "object of type 'NoneType' has no len()",
     "output_type": "error",
     "traceback": [
      "\u001b[0;31m---------------------------------------------------------------------------\u001b[0m",
      "\u001b[0;31mTypeError\u001b[0m                                 Traceback (most recent call last)",
      "Cell \u001b[0;32mIn[33], line 2\u001b[0m\n\u001b[1;32m      1\u001b[0m \u001b[38;5;66;03m# Geocode unique addresses\u001b[39;00m\n\u001b[0;32m----> 2\u001b[0m unique_addresses[[\u001b[38;5;124m'\u001b[39m\u001b[38;5;124mLatitude\u001b[39m\u001b[38;5;124m'\u001b[39m, \u001b[38;5;124m'\u001b[39m\u001b[38;5;124mLongitude\u001b[39m\u001b[38;5;124m'\u001b[39m]] \u001b[38;5;241m=\u001b[39m \u001b[43munique_addresses\u001b[49m\u001b[43m[\u001b[49m\u001b[38;5;124;43m'\u001b[39;49m\u001b[38;5;124;43mFull Address\u001b[39;49m\u001b[38;5;124;43m'\u001b[39;49m\u001b[43m]\u001b[49m\u001b[38;5;241;43m.\u001b[39;49m\u001b[43mapply\u001b[49m\u001b[43m(\u001b[49m\u001b[43mgeocode_address\u001b[49m\u001b[43m)\u001b[49m\n",
      "File \u001b[0;32m~/Desktop/webeet.io/.venv/lib/python3.13/site-packages/pandas/core/series.py:4924\u001b[0m, in \u001b[0;36mSeries.apply\u001b[0;34m(self, func, convert_dtype, args, by_row, **kwargs)\u001b[0m\n\u001b[1;32m   4789\u001b[0m \u001b[38;5;28;01mdef\u001b[39;00m \u001b[38;5;21mapply\u001b[39m(\n\u001b[1;32m   4790\u001b[0m     \u001b[38;5;28mself\u001b[39m,\n\u001b[1;32m   4791\u001b[0m     func: AggFuncType,\n\u001b[0;32m   (...)\u001b[0m\n\u001b[1;32m   4796\u001b[0m     \u001b[38;5;241m*\u001b[39m\u001b[38;5;241m*\u001b[39mkwargs,\n\u001b[1;32m   4797\u001b[0m ) \u001b[38;5;241m-\u001b[39m\u001b[38;5;241m>\u001b[39m DataFrame \u001b[38;5;241m|\u001b[39m Series:\n\u001b[1;32m   4798\u001b[0m \u001b[38;5;250m    \u001b[39m\u001b[38;5;124;03m\"\"\"\u001b[39;00m\n\u001b[1;32m   4799\u001b[0m \u001b[38;5;124;03m    Invoke function on values of Series.\u001b[39;00m\n\u001b[1;32m   4800\u001b[0m \n\u001b[0;32m   (...)\u001b[0m\n\u001b[1;32m   4915\u001b[0m \u001b[38;5;124;03m    dtype: float64\u001b[39;00m\n\u001b[1;32m   4916\u001b[0m \u001b[38;5;124;03m    \"\"\"\u001b[39;00m\n\u001b[1;32m   4917\u001b[0m     \u001b[38;5;28;01mreturn\u001b[39;00m \u001b[43mSeriesApply\u001b[49m\u001b[43m(\u001b[49m\n\u001b[1;32m   4918\u001b[0m \u001b[43m        \u001b[49m\u001b[38;5;28;43mself\u001b[39;49m\u001b[43m,\u001b[49m\n\u001b[1;32m   4919\u001b[0m \u001b[43m        \u001b[49m\u001b[43mfunc\u001b[49m\u001b[43m,\u001b[49m\n\u001b[1;32m   4920\u001b[0m \u001b[43m        \u001b[49m\u001b[43mconvert_dtype\u001b[49m\u001b[38;5;241;43m=\u001b[39;49m\u001b[43mconvert_dtype\u001b[49m\u001b[43m,\u001b[49m\n\u001b[1;32m   4921\u001b[0m \u001b[43m        \u001b[49m\u001b[43mby_row\u001b[49m\u001b[38;5;241;43m=\u001b[39;49m\u001b[43mby_row\u001b[49m\u001b[43m,\u001b[49m\n\u001b[1;32m   4922\u001b[0m \u001b[43m        \u001b[49m\u001b[43margs\u001b[49m\u001b[38;5;241;43m=\u001b[39;49m\u001b[43margs\u001b[49m\u001b[43m,\u001b[49m\n\u001b[1;32m   4923\u001b[0m \u001b[43m        \u001b[49m\u001b[43mkwargs\u001b[49m\u001b[38;5;241;43m=\u001b[39;49m\u001b[43mkwargs\u001b[49m\u001b[43m,\u001b[49m\n\u001b[0;32m-> 4924\u001b[0m \u001b[43m    \u001b[49m\u001b[43m)\u001b[49m\u001b[38;5;241;43m.\u001b[39;49m\u001b[43mapply\u001b[49m\u001b[43m(\u001b[49m\u001b[43m)\u001b[49m\n",
      "File \u001b[0;32m~/Desktop/webeet.io/.venv/lib/python3.13/site-packages/pandas/core/apply.py:1427\u001b[0m, in \u001b[0;36mSeriesApply.apply\u001b[0;34m(self)\u001b[0m\n\u001b[1;32m   1424\u001b[0m     \u001b[38;5;28;01mreturn\u001b[39;00m \u001b[38;5;28mself\u001b[39m\u001b[38;5;241m.\u001b[39mapply_compat()\n\u001b[1;32m   1426\u001b[0m \u001b[38;5;66;03m# self.func is Callable\u001b[39;00m\n\u001b[0;32m-> 1427\u001b[0m \u001b[38;5;28;01mreturn\u001b[39;00m \u001b[38;5;28;43mself\u001b[39;49m\u001b[38;5;241;43m.\u001b[39;49m\u001b[43mapply_standard\u001b[49m\u001b[43m(\u001b[49m\u001b[43m)\u001b[49m\n",
      "File \u001b[0;32m~/Desktop/webeet.io/.venv/lib/python3.13/site-packages/pandas/core/apply.py:1514\u001b[0m, in \u001b[0;36mSeriesApply.apply_standard\u001b[0;34m(self)\u001b[0m\n\u001b[1;32m   1507\u001b[0m mapped \u001b[38;5;241m=\u001b[39m obj\u001b[38;5;241m.\u001b[39m_map_values(\n\u001b[1;32m   1508\u001b[0m     mapper\u001b[38;5;241m=\u001b[39mcurried, na_action\u001b[38;5;241m=\u001b[39maction, convert\u001b[38;5;241m=\u001b[39m\u001b[38;5;28mself\u001b[39m\u001b[38;5;241m.\u001b[39mconvert_dtype\n\u001b[1;32m   1509\u001b[0m )\n\u001b[1;32m   1511\u001b[0m \u001b[38;5;28;01mif\u001b[39;00m \u001b[38;5;28mlen\u001b[39m(mapped) \u001b[38;5;129;01mand\u001b[39;00m \u001b[38;5;28misinstance\u001b[39m(mapped[\u001b[38;5;241m0\u001b[39m], ABCSeries):\n\u001b[1;32m   1512\u001b[0m     \u001b[38;5;66;03m# GH#43986 Need to do list(mapped) in order to get treated as nested\u001b[39;00m\n\u001b[1;32m   1513\u001b[0m     \u001b[38;5;66;03m#  See also GH#25959 regarding EA support\u001b[39;00m\n\u001b[0;32m-> 1514\u001b[0m     \u001b[38;5;28;01mreturn\u001b[39;00m \u001b[43mobj\u001b[49m\u001b[38;5;241;43m.\u001b[39;49m\u001b[43m_constructor_expanddim\u001b[49m\u001b[43m(\u001b[49m\u001b[38;5;28;43mlist\u001b[39;49m\u001b[43m(\u001b[49m\u001b[43mmapped\u001b[49m\u001b[43m)\u001b[49m\u001b[43m,\u001b[49m\u001b[43m \u001b[49m\u001b[43mindex\u001b[49m\u001b[38;5;241;43m=\u001b[39;49m\u001b[43mobj\u001b[49m\u001b[38;5;241;43m.\u001b[39;49m\u001b[43mindex\u001b[49m\u001b[43m)\u001b[49m\n\u001b[1;32m   1515\u001b[0m \u001b[38;5;28;01melse\u001b[39;00m:\n\u001b[1;32m   1516\u001b[0m     \u001b[38;5;28;01mreturn\u001b[39;00m obj\u001b[38;5;241m.\u001b[39m_constructor(mapped, index\u001b[38;5;241m=\u001b[39mobj\u001b[38;5;241m.\u001b[39mindex)\u001b[38;5;241m.\u001b[39m__finalize__(\n\u001b[1;32m   1517\u001b[0m         obj, method\u001b[38;5;241m=\u001b[39m\u001b[38;5;124m\"\u001b[39m\u001b[38;5;124mapply\u001b[39m\u001b[38;5;124m\"\u001b[39m\n\u001b[1;32m   1518\u001b[0m     )\n",
      "File \u001b[0;32m~/Desktop/webeet.io/.venv/lib/python3.13/site-packages/pandas/core/frame.py:851\u001b[0m, in \u001b[0;36mDataFrame.__init__\u001b[0;34m(self, data, index, columns, dtype, copy)\u001b[0m\n\u001b[1;32m    849\u001b[0m     \u001b[38;5;28;01mif\u001b[39;00m columns \u001b[38;5;129;01mis\u001b[39;00m \u001b[38;5;129;01mnot\u001b[39;00m \u001b[38;5;28;01mNone\u001b[39;00m:\n\u001b[1;32m    850\u001b[0m         columns \u001b[38;5;241m=\u001b[39m ensure_index(columns)\n\u001b[0;32m--> 851\u001b[0m     arrays, columns, index \u001b[38;5;241m=\u001b[39m \u001b[43mnested_data_to_arrays\u001b[49m\u001b[43m(\u001b[49m\n\u001b[1;32m    852\u001b[0m \u001b[43m        \u001b[49m\u001b[38;5;66;43;03m# error: Argument 3 to \"nested_data_to_arrays\" has incompatible\u001b[39;49;00m\n\u001b[1;32m    853\u001b[0m \u001b[43m        \u001b[49m\u001b[38;5;66;43;03m# type \"Optional[Collection[Any]]\"; expected \"Optional[Index]\"\u001b[39;49;00m\n\u001b[1;32m    854\u001b[0m \u001b[43m        \u001b[49m\u001b[43mdata\u001b[49m\u001b[43m,\u001b[49m\n\u001b[1;32m    855\u001b[0m \u001b[43m        \u001b[49m\u001b[43mcolumns\u001b[49m\u001b[43m,\u001b[49m\n\u001b[1;32m    856\u001b[0m \u001b[43m        \u001b[49m\u001b[43mindex\u001b[49m\u001b[43m,\u001b[49m\u001b[43m  \u001b[49m\u001b[38;5;66;43;03m# type: ignore[arg-type]\u001b[39;49;00m\n\u001b[1;32m    857\u001b[0m \u001b[43m        \u001b[49m\u001b[43mdtype\u001b[49m\u001b[43m,\u001b[49m\n\u001b[1;32m    858\u001b[0m \u001b[43m    \u001b[49m\u001b[43m)\u001b[49m\n\u001b[1;32m    859\u001b[0m     mgr \u001b[38;5;241m=\u001b[39m arrays_to_mgr(\n\u001b[1;32m    860\u001b[0m         arrays,\n\u001b[1;32m    861\u001b[0m         columns,\n\u001b[0;32m   (...)\u001b[0m\n\u001b[1;32m    864\u001b[0m         typ\u001b[38;5;241m=\u001b[39mmanager,\n\u001b[1;32m    865\u001b[0m     )\n\u001b[1;32m    866\u001b[0m \u001b[38;5;28;01melse\u001b[39;00m:\n",
      "File \u001b[0;32m~/Desktop/webeet.io/.venv/lib/python3.13/site-packages/pandas/core/internals/construction.py:520\u001b[0m, in \u001b[0;36mnested_data_to_arrays\u001b[0;34m(data, columns, index, dtype)\u001b[0m\n\u001b[1;32m    517\u001b[0m \u001b[38;5;28;01mif\u001b[39;00m is_named_tuple(data[\u001b[38;5;241m0\u001b[39m]) \u001b[38;5;129;01mand\u001b[39;00m columns \u001b[38;5;129;01mis\u001b[39;00m \u001b[38;5;28;01mNone\u001b[39;00m:\n\u001b[1;32m    518\u001b[0m     columns \u001b[38;5;241m=\u001b[39m ensure_index(data[\u001b[38;5;241m0\u001b[39m]\u001b[38;5;241m.\u001b[39m_fields)\n\u001b[0;32m--> 520\u001b[0m arrays, columns \u001b[38;5;241m=\u001b[39m \u001b[43mto_arrays\u001b[49m\u001b[43m(\u001b[49m\u001b[43mdata\u001b[49m\u001b[43m,\u001b[49m\u001b[43m \u001b[49m\u001b[43mcolumns\u001b[49m\u001b[43m,\u001b[49m\u001b[43m \u001b[49m\u001b[43mdtype\u001b[49m\u001b[38;5;241;43m=\u001b[39;49m\u001b[43mdtype\u001b[49m\u001b[43m)\u001b[49m\n\u001b[1;32m    521\u001b[0m columns \u001b[38;5;241m=\u001b[39m ensure_index(columns)\n\u001b[1;32m    523\u001b[0m \u001b[38;5;28;01mif\u001b[39;00m index \u001b[38;5;129;01mis\u001b[39;00m \u001b[38;5;28;01mNone\u001b[39;00m:\n",
      "File \u001b[0;32m~/Desktop/webeet.io/.venv/lib/python3.13/site-packages/pandas/core/internals/construction.py:839\u001b[0m, in \u001b[0;36mto_arrays\u001b[0;34m(data, columns, dtype)\u001b[0m\n\u001b[1;32m    837\u001b[0m     arr, columns \u001b[38;5;241m=\u001b[39m _list_of_dict_to_arrays(data, columns)\n\u001b[1;32m    838\u001b[0m \u001b[38;5;28;01melif\u001b[39;00m \u001b[38;5;28misinstance\u001b[39m(data[\u001b[38;5;241m0\u001b[39m], ABCSeries):\n\u001b[0;32m--> 839\u001b[0m     arr, columns \u001b[38;5;241m=\u001b[39m \u001b[43m_list_of_series_to_arrays\u001b[49m\u001b[43m(\u001b[49m\u001b[43mdata\u001b[49m\u001b[43m,\u001b[49m\u001b[43m \u001b[49m\u001b[43mcolumns\u001b[49m\u001b[43m)\u001b[49m\n\u001b[1;32m    840\u001b[0m \u001b[38;5;28;01melse\u001b[39;00m:\n\u001b[1;32m    841\u001b[0m     \u001b[38;5;66;03m# last ditch effort\u001b[39;00m\n\u001b[1;32m    842\u001b[0m     data \u001b[38;5;241m=\u001b[39m [\u001b[38;5;28mtuple\u001b[39m(x) \u001b[38;5;28;01mfor\u001b[39;00m x \u001b[38;5;129;01min\u001b[39;00m data]\n",
      "File \u001b[0;32m~/Desktop/webeet.io/.venv/lib/python3.13/site-packages/pandas/core/internals/construction.py:877\u001b[0m, in \u001b[0;36m_list_of_series_to_arrays\u001b[0;34m(data, columns)\u001b[0m\n\u001b[1;32m    875\u001b[0m index \u001b[38;5;241m=\u001b[39m \u001b[38;5;28mgetattr\u001b[39m(s, \u001b[38;5;124m\"\u001b[39m\u001b[38;5;124mindex\u001b[39m\u001b[38;5;124m\"\u001b[39m, \u001b[38;5;28;01mNone\u001b[39;00m)\n\u001b[1;32m    876\u001b[0m \u001b[38;5;28;01mif\u001b[39;00m index \u001b[38;5;129;01mis\u001b[39;00m \u001b[38;5;28;01mNone\u001b[39;00m:\n\u001b[0;32m--> 877\u001b[0m     index \u001b[38;5;241m=\u001b[39m default_index(\u001b[38;5;28;43mlen\u001b[39;49m\u001b[43m(\u001b[49m\u001b[43ms\u001b[49m\u001b[43m)\u001b[49m)\n\u001b[1;32m    879\u001b[0m \u001b[38;5;28;01mif\u001b[39;00m \u001b[38;5;28mid\u001b[39m(index) \u001b[38;5;129;01min\u001b[39;00m indexer_cache:\n\u001b[1;32m    880\u001b[0m     indexer \u001b[38;5;241m=\u001b[39m indexer_cache[\u001b[38;5;28mid\u001b[39m(index)]\n",
      "\u001b[0;31mTypeError\u001b[0m: object of type 'NoneType' has no len()"
     ]
    }
   ],
   "source": [
    "# Geocode unique addresses\n",
    "unique_addresses[['Latitude', 'Longitude']] = unique_addresses['Full Address'].apply(geocode_address)"
   ]
  }
 ],
 "metadata": {
  "kernelspec": {
   "display_name": ".venv",
   "language": "python",
   "name": "python3"
  },
  "language_info": {
   "codemirror_mode": {
    "name": "ipython",
    "version": 3
   },
   "file_extension": ".py",
   "mimetype": "text/x-python",
   "name": "python",
   "nbconvert_exporter": "python",
   "pygments_lexer": "ipython3",
   "version": "3.13.3"
  }
 },
 "nbformat": 4,
 "nbformat_minor": 5
}
