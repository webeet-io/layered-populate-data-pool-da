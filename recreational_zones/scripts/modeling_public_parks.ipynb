{
 "cells": [
  {
   "cell_type": "markdown",
   "id": "b9926ab4",
   "metadata": {},
   "source": [
    "## 🧪 Step 1: Research & Data Modelling"
   ]
  },
  {
   "cell_type": "markdown",
   "id": "92c0a15a",
   "metadata": {},
   "source": [
    "### Public Parks (Grünenanlage) Berlin"
   ]
  },
  {
   "cell_type": "code",
   "execution_count": 12,
   "id": "cfc3f619",
   "metadata": {},
   "outputs": [],
   "source": [
    "import pandas as pd\n",
    "from geopy.geocoders import Nominatim\n",
    "from time import sleep"
   ]
  },
  {
   "cell_type": "code",
   "execution_count": 13,
   "id": "f34fa2da",
   "metadata": {},
   "outputs": [],
   "source": [
    "# Load your CSV\n",
    "df = pd.read_csv(\"/Users/dianaterraza/Desktop/webeet.io/layered-populate-data-pool-da/recreational_zones/sources/public_parks.csv\", sep=';')"
   ]
  },
  {
   "cell_type": "code",
   "execution_count": 14,
   "id": "3e64569d",
   "metadata": {},
   "outputs": [
    {
     "data": {
      "text/html": [
       "<div>\n",
       "<style scoped>\n",
       "    .dataframe tbody tr th:only-of-type {\n",
       "        vertical-align: middle;\n",
       "    }\n",
       "\n",
       "    .dataframe tbody tr th {\n",
       "        vertical-align: top;\n",
       "    }\n",
       "\n",
       "    .dataframe thead th {\n",
       "        text-align: right;\n",
       "    }\n",
       "</style>\n",
       "<table border=\"1\" class=\"dataframe\">\n",
       "  <thead>\n",
       "    <tr style=\"text-align: right;\">\n",
       "      <th></th>\n",
       "      <th>Technischer Schlüssel</th>\n",
       "      <th>Schlüssel</th>\n",
       "      <th>Objektnummer</th>\n",
       "      <th>Bezirk</th>\n",
       "      <th>Ortsteil</th>\n",
       "      <th>Art der Grünanlage</th>\n",
       "      <th>Name der Grünanlage</th>\n",
       "      <th>Namenszusatz der Grünanlage</th>\n",
       "      <th>Baujahr</th>\n",
       "      <th>letztes Sanierungsjahr</th>\n",
       "      <th>Größe in m² (Kataster)</th>\n",
       "      <th>Widmung</th>\n",
       "      <th>Nummer des Planungsraumes</th>\n",
       "      <th>Name des Planungsraumes</th>\n",
       "    </tr>\n",
       "  </thead>\n",
       "  <tbody>\n",
       "    <tr>\n",
       "      <th>0</th>\n",
       "      <td>00008100_001042bb</td>\n",
       "      <td>00008100:001042bb</td>\n",
       "      <td>00037</td>\n",
       "      <td>Reinickendorf</td>\n",
       "      <td>Frohnau</td>\n",
       "      <td>Grünanlage</td>\n",
       "      <td>Im Fischgrund, \"Rosenanger\"</td>\n",
       "      <td>Rosenanger</td>\n",
       "      <td>-</td>\n",
       "      <td>-</td>\n",
       "      <td>16991,50</td>\n",
       "      <td>gewidmet</td>\n",
       "      <td>12400721</td>\n",
       "      <td>Frohnau Ost</td>\n",
       "    </tr>\n",
       "    <tr>\n",
       "      <th>1</th>\n",
       "      <td>00008100_00104621</td>\n",
       "      <td>00008100:00104621</td>\n",
       "      <td>01179</td>\n",
       "      <td>Reinickendorf</td>\n",
       "      <td>Lübars</td>\n",
       "      <td>Grünanlage</td>\n",
       "      <td>Klötzbecken bis Zabel-Krüger-Damm</td>\n",
       "      <td>einschl. Klötzbecken</td>\n",
       "      <td>-</td>\n",
       "      <td>-</td>\n",
       "      <td>52224,60</td>\n",
       "      <td>gewidmet</td>\n",
       "      <td>12500929</td>\n",
       "      <td>Lübars</td>\n",
       "    </tr>\n",
       "    <tr>\n",
       "      <th>2</th>\n",
       "      <td>00008100_001044bd</td>\n",
       "      <td>00008100:001044bd</td>\n",
       "      <td>01074</td>\n",
       "      <td>Reinickendorf</td>\n",
       "      <td>Hermsdorf</td>\n",
       "      <td>Grünanlage</td>\n",
       "      <td>Heidenheimer Str. (ab Friedrichsthaler Weg), W...</td>\n",
       "      <td>-</td>\n",
       "      <td>-</td>\n",
       "      <td>-</td>\n",
       "      <td>3012,00</td>\n",
       "      <td>gewidmet</td>\n",
       "      <td>12400722</td>\n",
       "      <td>Hermsdorf West</td>\n",
       "    </tr>\n",
       "    <tr>\n",
       "      <th>3</th>\n",
       "      <td>00008100_00104620</td>\n",
       "      <td>00008100:00104620</td>\n",
       "      <td>01180</td>\n",
       "      <td>Reinickendorf</td>\n",
       "      <td>Lübars</td>\n",
       "      <td>Grünanlage</td>\n",
       "      <td>Wittenauer Str., südl. AEG-Siedlung</td>\n",
       "      <td>-</td>\n",
       "      <td>-</td>\n",
       "      <td>-</td>\n",
       "      <td>3374,20</td>\n",
       "      <td>gewidmet</td>\n",
       "      <td>12500929</td>\n",
       "      <td>Lübars</td>\n",
       "    </tr>\n",
       "    <tr>\n",
       "      <th>4</th>\n",
       "      <td>00008100_00104438</td>\n",
       "      <td>00008100:00104438</td>\n",
       "      <td>00476</td>\n",
       "      <td>Reinickendorf</td>\n",
       "      <td>Reinickendorf</td>\n",
       "      <td>Grünanlage</td>\n",
       "      <td>Kuhnpromenade u. Lindauer Allee 59/61</td>\n",
       "      <td>-</td>\n",
       "      <td>-</td>\n",
       "      <td>-</td>\n",
       "      <td>3122,00</td>\n",
       "      <td>gewidmet</td>\n",
       "      <td>12100206</td>\n",
       "      <td>Humboldtstraße</td>\n",
       "    </tr>\n",
       "  </tbody>\n",
       "</table>\n",
       "</div>"
      ],
      "text/plain": [
       "  Technischer Schlüssel          Schlüssel Objektnummer         Bezirk  \\\n",
       "0     00008100_001042bb  00008100:001042bb        00037  Reinickendorf   \n",
       "1     00008100_00104621  00008100:00104621        01179  Reinickendorf   \n",
       "2     00008100_001044bd  00008100:001044bd        01074  Reinickendorf   \n",
       "3     00008100_00104620  00008100:00104620        01180  Reinickendorf   \n",
       "4     00008100_00104438  00008100:00104438        00476  Reinickendorf   \n",
       "\n",
       "        Ortsteil Art der Grünanlage  \\\n",
       "0        Frohnau         Grünanlage   \n",
       "1         Lübars         Grünanlage   \n",
       "2      Hermsdorf         Grünanlage   \n",
       "3         Lübars         Grünanlage   \n",
       "4  Reinickendorf         Grünanlage   \n",
       "\n",
       "                                 Name der Grünanlage  \\\n",
       "0                        Im Fischgrund, \"Rosenanger\"   \n",
       "1                  Klötzbecken bis Zabel-Krüger-Damm   \n",
       "2  Heidenheimer Str. (ab Friedrichsthaler Weg), W...   \n",
       "3                Wittenauer Str., südl. AEG-Siedlung   \n",
       "4              Kuhnpromenade u. Lindauer Allee 59/61   \n",
       "\n",
       "  Namenszusatz der Grünanlage Baujahr letztes Sanierungsjahr  \\\n",
       "0                  Rosenanger       -                      -   \n",
       "1        einschl. Klötzbecken       -                      -   \n",
       "2                           -       -                      -   \n",
       "3                           -       -                      -   \n",
       "4                           -       -                      -   \n",
       "\n",
       "  Größe in m² (Kataster)   Widmung Nummer des Planungsraumes  \\\n",
       "0               16991,50  gewidmet                  12400721   \n",
       "1               52224,60  gewidmet                  12500929   \n",
       "2                3012,00  gewidmet                  12400722   \n",
       "3                3374,20  gewidmet                  12500929   \n",
       "4                3122,00  gewidmet                  12100206   \n",
       "\n",
       "  Name des Planungsraumes  \n",
       "0             Frohnau Ost  \n",
       "1                  Lübars  \n",
       "2          Hermsdorf West  \n",
       "3                  Lübars  \n",
       "4          Humboldtstraße  "
      ]
     },
     "execution_count": 14,
     "metadata": {},
     "output_type": "execute_result"
    }
   ],
   "source": [
    "df.head()"
   ]
  },
  {
   "cell_type": "code",
   "execution_count": 15,
   "id": "aae6d77f",
   "metadata": {},
   "outputs": [
    {
     "data": {
      "text/plain": [
       "Index(['Technischer Schlüssel', 'Schlüssel', 'Objektnummer', 'Bezirk',\n",
       "       'Ortsteil', 'Art der Grünanlage', 'Name der Grünanlage',\n",
       "       'Namenszusatz der Grünanlage', 'Baujahr', 'letztes Sanierungsjahr',\n",
       "       'Größe in m² (Kataster)', 'Widmung', 'Nummer des Planungsraumes',\n",
       "       'Name des Planungsraumes'],\n",
       "      dtype='object')"
      ]
     },
     "execution_count": 15,
     "metadata": {},
     "output_type": "execute_result"
    }
   ],
   "source": [
    "df.columns"
   ]
  },
  {
   "cell_type": "markdown",
   "id": "0e0df40a",
   "metadata": {},
   "source": [
    "### Rename the Columns "
   ]
  },
  {
   "cell_type": "code",
   "execution_count": 16,
   "id": "e711cf13",
   "metadata": {},
   "outputs": [],
   "source": [
    "df.rename(columns={\n",
    "    'Technischer Schlüssel': 'Technical ID',\n",
    "    'Schlüssel': 'Key',\n",
    "    'Objektnummer': 'Object Number',\n",
    "    'Bezirk': 'neighborhood',\n",
    "    'Ortsteil': 'Locality',\n",
    "    'Art der Grünanlage': 'Type of Green Space',\n",
    "    'Name der Grünanlage': 'Green Space Name',\n",
    "    'Namenszusatz der Grünanlage': 'Name Extension',\n",
    "    'Baujahr': 'Year Built',\n",
    "    'letztes Sanierungsjahr': 'Last Renovation Year',\n",
    "    'Größe in m² (Kataster)': 'Size sqm',\n",
    "    'Widmung': 'Dedication',\n",
    "    'Nummer des Planungsraumes': 'Planning Area Number',\n",
    "    'Name des Planungsraumes': 'Planning Area Name'\n",
    "}, inplace=True)\n"
   ]
  },
  {
   "cell_type": "code",
   "execution_count": 7,
   "id": "247616af",
   "metadata": {},
   "outputs": [
    {
     "data": {
      "text/plain": [
       "Index(['Technical ID', 'Key', 'Object Number', 'neighborhood', 'Locality',\n",
       "       'Type of Green Space', 'Green Space Name', 'Name Extension',\n",
       "       'Year Built', 'Last Renovation Year', 'Size sqm', 'Dedication',\n",
       "       'Planning Area Number', 'Planning Area Name'],\n",
       "      dtype='object')"
      ]
     },
     "execution_count": 7,
     "metadata": {},
     "output_type": "execute_result"
    }
   ],
   "source": [
    "df.columns\n"
   ]
  },
  {
   "cell_type": "markdown",
   "id": "89bdeb3d",
   "metadata": {},
   "source": [
    "### Create full Address Column "
   ]
  },
  {
   "cell_type": "code",
   "execution_count": 8,
   "id": "12474bf5",
   "metadata": {},
   "outputs": [
    {
     "data": {
      "text/html": [
       "<div>\n",
       "<style scoped>\n",
       "    .dataframe tbody tr th:only-of-type {\n",
       "        vertical-align: middle;\n",
       "    }\n",
       "\n",
       "    .dataframe tbody tr th {\n",
       "        vertical-align: top;\n",
       "    }\n",
       "\n",
       "    .dataframe thead th {\n",
       "        text-align: right;\n",
       "    }\n",
       "</style>\n",
       "<table border=\"1\" class=\"dataframe\">\n",
       "  <thead>\n",
       "    <tr style=\"text-align: right;\">\n",
       "      <th></th>\n",
       "      <th>Technical ID</th>\n",
       "      <th>Key</th>\n",
       "      <th>Object Number</th>\n",
       "      <th>neighborhood</th>\n",
       "      <th>Locality</th>\n",
       "      <th>Type of Green Space</th>\n",
       "      <th>Green Space Name</th>\n",
       "      <th>Name Extension</th>\n",
       "      <th>Year Built</th>\n",
       "      <th>Last Renovation Year</th>\n",
       "      <th>Size sqm</th>\n",
       "      <th>Dedication</th>\n",
       "      <th>Planning Area Number</th>\n",
       "      <th>Planning Area Name</th>\n",
       "      <th>Full Address</th>\n",
       "    </tr>\n",
       "  </thead>\n",
       "  <tbody>\n",
       "    <tr>\n",
       "      <th>0</th>\n",
       "      <td>00008100_001042bb</td>\n",
       "      <td>00008100:001042bb</td>\n",
       "      <td>00037</td>\n",
       "      <td>Reinickendorf</td>\n",
       "      <td>Frohnau</td>\n",
       "      <td>Grünanlage</td>\n",
       "      <td>Im Fischgrund, \"Rosenanger\"</td>\n",
       "      <td>Rosenanger</td>\n",
       "      <td>-</td>\n",
       "      <td>-</td>\n",
       "      <td>16991,50</td>\n",
       "      <td>gewidmet</td>\n",
       "      <td>12400721</td>\n",
       "      <td>Frohnau Ost</td>\n",
       "      <td>Im Fischgrund, \"Rosenanger\", Frohnau Ost, Berl...</td>\n",
       "    </tr>\n",
       "    <tr>\n",
       "      <th>1</th>\n",
       "      <td>00008100_00104621</td>\n",
       "      <td>00008100:00104621</td>\n",
       "      <td>01179</td>\n",
       "      <td>Reinickendorf</td>\n",
       "      <td>Lübars</td>\n",
       "      <td>Grünanlage</td>\n",
       "      <td>Klötzbecken bis Zabel-Krüger-Damm</td>\n",
       "      <td>einschl. Klötzbecken</td>\n",
       "      <td>-</td>\n",
       "      <td>-</td>\n",
       "      <td>52224,60</td>\n",
       "      <td>gewidmet</td>\n",
       "      <td>12500929</td>\n",
       "      <td>Lübars</td>\n",
       "      <td>Klötzbecken bis Zabel-Krüger-Damm, Lübars, Ber...</td>\n",
       "    </tr>\n",
       "    <tr>\n",
       "      <th>2</th>\n",
       "      <td>00008100_001044bd</td>\n",
       "      <td>00008100:001044bd</td>\n",
       "      <td>01074</td>\n",
       "      <td>Reinickendorf</td>\n",
       "      <td>Hermsdorf</td>\n",
       "      <td>Grünanlage</td>\n",
       "      <td>Heidenheimer Str. (ab Friedrichsthaler Weg), W...</td>\n",
       "      <td>-</td>\n",
       "      <td>-</td>\n",
       "      <td>-</td>\n",
       "      <td>3012,00</td>\n",
       "      <td>gewidmet</td>\n",
       "      <td>12400722</td>\n",
       "      <td>Hermsdorf West</td>\n",
       "      <td>Heidenheimer Str. (ab Friedrichsthaler Weg), W...</td>\n",
       "    </tr>\n",
       "    <tr>\n",
       "      <th>3</th>\n",
       "      <td>00008100_00104620</td>\n",
       "      <td>00008100:00104620</td>\n",
       "      <td>01180</td>\n",
       "      <td>Reinickendorf</td>\n",
       "      <td>Lübars</td>\n",
       "      <td>Grünanlage</td>\n",
       "      <td>Wittenauer Str., südl. AEG-Siedlung</td>\n",
       "      <td>-</td>\n",
       "      <td>-</td>\n",
       "      <td>-</td>\n",
       "      <td>3374,20</td>\n",
       "      <td>gewidmet</td>\n",
       "      <td>12500929</td>\n",
       "      <td>Lübars</td>\n",
       "      <td>Wittenauer Str., südl. AEG-Siedlung, Lübars, B...</td>\n",
       "    </tr>\n",
       "    <tr>\n",
       "      <th>4</th>\n",
       "      <td>00008100_00104438</td>\n",
       "      <td>00008100:00104438</td>\n",
       "      <td>00476</td>\n",
       "      <td>Reinickendorf</td>\n",
       "      <td>Reinickendorf</td>\n",
       "      <td>Grünanlage</td>\n",
       "      <td>Kuhnpromenade u. Lindauer Allee 59/61</td>\n",
       "      <td>-</td>\n",
       "      <td>-</td>\n",
       "      <td>-</td>\n",
       "      <td>3122,00</td>\n",
       "      <td>gewidmet</td>\n",
       "      <td>12100206</td>\n",
       "      <td>Humboldtstraße</td>\n",
       "      <td>Kuhnpromenade u. Lindauer Allee 59/61, Humbold...</td>\n",
       "    </tr>\n",
       "  </tbody>\n",
       "</table>\n",
       "</div>"
      ],
      "text/plain": [
       "        Technical ID                Key Object Number   neighborhood  \\\n",
       "0  00008100_001042bb  00008100:001042bb         00037  Reinickendorf   \n",
       "1  00008100_00104621  00008100:00104621         01179  Reinickendorf   \n",
       "2  00008100_001044bd  00008100:001044bd         01074  Reinickendorf   \n",
       "3  00008100_00104620  00008100:00104620         01180  Reinickendorf   \n",
       "4  00008100_00104438  00008100:00104438         00476  Reinickendorf   \n",
       "\n",
       "        Locality Type of Green Space  \\\n",
       "0        Frohnau          Grünanlage   \n",
       "1         Lübars          Grünanlage   \n",
       "2      Hermsdorf          Grünanlage   \n",
       "3         Lübars          Grünanlage   \n",
       "4  Reinickendorf          Grünanlage   \n",
       "\n",
       "                                    Green Space Name        Name Extension  \\\n",
       "0                        Im Fischgrund, \"Rosenanger\"            Rosenanger   \n",
       "1                  Klötzbecken bis Zabel-Krüger-Damm  einschl. Klötzbecken   \n",
       "2  Heidenheimer Str. (ab Friedrichsthaler Weg), W...                     -   \n",
       "3                Wittenauer Str., südl. AEG-Siedlung                     -   \n",
       "4              Kuhnpromenade u. Lindauer Allee 59/61                     -   \n",
       "\n",
       "  Year Built Last Renovation Year  Size sqm Dedication Planning Area Number  \\\n",
       "0          -                    -  16991,50   gewidmet             12400721   \n",
       "1          -                    -  52224,60   gewidmet             12500929   \n",
       "2          -                    -   3012,00   gewidmet             12400722   \n",
       "3          -                    -   3374,20   gewidmet             12500929   \n",
       "4          -                    -   3122,00   gewidmet             12100206   \n",
       "\n",
       "  Planning Area Name                                       Full Address  \n",
       "0        Frohnau Ost  Im Fischgrund, \"Rosenanger\", Frohnau Ost, Berl...  \n",
       "1             Lübars  Klötzbecken bis Zabel-Krüger-Damm, Lübars, Ber...  \n",
       "2     Hermsdorf West  Heidenheimer Str. (ab Friedrichsthaler Weg), W...  \n",
       "3             Lübars  Wittenauer Str., südl. AEG-Siedlung, Lübars, B...  \n",
       "4     Humboldtstraße  Kuhnpromenade u. Lindauer Allee 59/61, Humbold...  "
      ]
     },
     "execution_count": 8,
     "metadata": {},
     "output_type": "execute_result"
    }
   ],
   "source": [
    "df['Full Address'] = (\n",
    "    df['Green Space Name'].astype(str) + \", \" +\n",
    "    df['Planning Area Name'].astype(str) + \", Berlin, Germany\"\n",
    ")\n",
    "\n",
    "df.head()"
   ]
  },
  {
   "cell_type": "markdown",
   "id": "c0f89192",
   "metadata": {},
   "source": [
    "### Lets look for duplicates "
   ]
  },
  {
   "cell_type": "code",
   "execution_count": 9,
   "id": "626aeb7a",
   "metadata": {},
   "outputs": [
    {
     "name": "stdout",
     "output_type": "stream",
     "text": [
      "Found 16 duplicate addresses.\n"
     ]
    }
   ],
   "source": [
    "# Count duplicate Full Address values\n",
    "duplicates = df['Full Address'].duplicated().sum()\n",
    "print(f\"Found {duplicates} duplicate addresses.\")"
   ]
  },
  {
   "cell_type": "markdown",
   "id": "29791e6b",
   "metadata": {},
   "source": [
    "### Create a unique address DataFrame"
   ]
  },
  {
   "cell_type": "code",
   "execution_count": 10,
   "id": "c92ab8ed",
   "metadata": {},
   "outputs": [],
   "source": [
    "unique_addresses = df[['Full Address']].drop_duplicates().copy()"
   ]
  },
  {
   "cell_type": "markdown",
   "id": "803ccde2",
   "metadata": {},
   "source": [
    "### Geocode only the unique addresses using OpenStreetMap’s Nominatim API"
   ]
  },
  {
   "cell_type": "code",
   "execution_count": 11,
   "id": "35a8083f",
   "metadata": {},
   "outputs": [],
   "source": [
    "geolocator = Nominatim(user_agent=\"berlin-geocoder\")\n",
    "\n",
    "def geocode_address(address):\n",
    "    try:\n",
    "        location = geolocator.geocode(address)\n",
    "        sleep(1)\n",
    "        if location:\n",
    "            return pd.Series([location.latitude, location.longitude])\n",
    "    except:\n",
    "        return pd.Series([None, None])"
   ]
  },
  {
   "cell_type": "code",
   "execution_count": null,
   "id": "a79f9d5a",
   "metadata": {},
   "outputs": [],
   "source": [
    "# Geocode unique addresses\n",
    "unique_addresses[['Latitude', 'Longitude']] = unique_addresses['Full Address'].apply(geocode_address)\n"
   ]
  }
 ],
 "metadata": {
  "kernelspec": {
   "display_name": ".venv",
   "language": "python",
   "name": "python3"
  },
  "language_info": {
   "codemirror_mode": {
    "name": "ipython",
    "version": 3
   },
   "file_extension": ".py",
   "mimetype": "text/x-python",
   "name": "python",
   "nbconvert_exporter": "python",
   "pygments_lexer": "ipython3",
   "version": "3.13.3"
  }
 },
 "nbformat": 4,
 "nbformat_minor": 5
}
