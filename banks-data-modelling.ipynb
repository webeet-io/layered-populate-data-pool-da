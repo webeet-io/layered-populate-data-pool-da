{
 "cells": [
  {
   "cell_type": "markdown",
   "id": "8847957a",
   "metadata": {},
   "source": [
    "# 🧪 Step 1: Research & Data Modelling\n",
    "**PR Branch Name:** banks-data-modelling\n",
    "\n",
    "This notebook documents the process for Step 1 of the \"Banks in Berlin\" project:\n",
    "- **1.1 Data Source Discovery**\n",
    "- **1.2 Modelling & Planning**\n",
    "- **1.3 Prepare the /sources Directory**\n",
    "- **1.4 Review**\n",
    "\n",
    "Goal:\n",
    "- Identify and document relevant data sources.\n",
    "- Select the 23 key parameters for our use case.\n",
    "- Draft the planned table schema.\n",
    "- Plan cleaning and transformation steps before database population.\n"
   ]
  },
  {
   "cell_type": "markdown",
   "id": "5006ea49",
   "metadata": {},
   "source": [
    "## 1.1 Data Source Discovery\n",
    "\n",
    "**Topic:** Banks in Berlin\n",
    "\n",
    "**Main source:**\n",
    "- **Name:** OpenStreetMap (OSM) via OSMnx library\n",
    "- **Source and origin:** Public crowdsourced geospatial database\n",
    "- **Update frequency:** Continuous (dynamic)\n",
    "- **Data type:** Dynamic (API query using `amenity=bank`)\n",
    "- **Reason for selection:**  \n",
    "  - Covers all banks in Berlin  \n",
    "  - Includes coordinates, names, addresses, and other useful attributes  \n",
    "  - Open, free, and easy to query programmatically\n",
    "\n",
    "**Optional additional sources:**\n",
    "- **Name:** Berlin Open Data Portal (daten.berlin.de)\n",
    "- **Source and origin:** Official Berlin city government\n",
    "- **Update frequency:** Varies per dataset\n",
    "- **Data type:** Static or semi-static (download as CSV/GeoJSON)\n",
    "- **Possible usage:** Enrich with official administrative boundaries or extra metadata\n",
    "\n",
    "**Enrichment potential:**\n",
    "- Neighborhood/district info from Berlin shapefiles (GeoJSON)\n",
    "- Linking to local amenities for spatial context\n"
   ]
  },
  {
   "cell_type": "code",
   "execution_count": 23,
   "id": "cf6c50dc",
   "metadata": {},
   "outputs": [
    {
     "name": "stdout",
     "output_type": "stream",
     "text": [
      "Note: you may need to restart the kernel to use updated packages.\n"
     ]
    }
   ],
   "source": [
    "# Install Libraries\n",
    "\n",
    "%pip install osmnx geopandas pandas --quiet"
   ]
  },
  {
   "cell_type": "code",
   "execution_count": 24,
   "id": "61a6f1d1",
   "metadata": {},
   "outputs": [],
   "source": [
    "# Import Libraries\n",
    "\n",
    "import osmnx as ox\n",
    "import geopandas as gpd\n",
    "import pandas as pd"
   ]
  },
  {
   "cell_type": "code",
   "execution_count": 25,
   "id": "728400c3",
   "metadata": {},
   "outputs": [],
   "source": [
    "# Fetch banks in Berlin from OSM using the tag \"amenity=bank\"\n",
    "\n",
    "tags = {\"amenity\": \"bank\"}"
   ]
  },
  {
   "cell_type": "code",
   "execution_count": 26,
   "id": "f2db5471",
   "metadata": {},
   "outputs": [
    {
     "ename": "AttributeError",
     "evalue": "module 'osmnx' has no attribute 'geometries_from_place'",
     "output_type": "error",
     "traceback": [
      "\u001b[0;31m---------------------------------------------------------------------------\u001b[0m",
      "\u001b[0;31mAttributeError\u001b[0m                            Traceback (most recent call last)",
      "Cell \u001b[0;32mIn[26], line 3\u001b[0m\n\u001b[1;32m      1\u001b[0m \u001b[38;5;66;03m# Fetch geometries for Berlin\u001b[39;00m\n\u001b[0;32m----> 3\u001b[0m banks_gdf \u001b[38;5;241m=\u001b[39m ox\u001b[38;5;241m.\u001b[39mgeometries_from_place(\u001b[38;5;124m\"\u001b[39m\u001b[38;5;124mBerlin, Germany\u001b[39m\u001b[38;5;124m\"\u001b[39m, tags)\n",
      "\u001b[0;31mAttributeError\u001b[0m: module 'osmnx' has no attribute 'geometries_from_place'"
     ]
    }
   ],
   "source": [
    "# Fetch geometries for Berlin\n",
    "\n",
    "banks_gdf = ox.geometries_from_place(\"Berlin, Germany\", tags)\n"
   ]
  },
  {
   "cell_type": "code",
   "execution_count": null,
   "id": "6a3744e8",
   "metadata": {},
   "outputs": [
    {
     "ename": "NameError",
     "evalue": "name 'banks_gdf' is not defined",
     "output_type": "error",
     "traceback": [
      "\u001b[0;31m---------------------------------------------------------------------------\u001b[0m",
      "\u001b[0;31mNameError\u001b[0m                                 Traceback (most recent call last)",
      "Cell \u001b[0;32mIn[17], line 3\u001b[0m\n\u001b[1;32m      1\u001b[0m \u001b[38;5;66;03m# Display basic info\u001b[39;00m\n\u001b[0;32m----> 3\u001b[0m \u001b[38;5;28mprint\u001b[39m(\u001b[38;5;124mf\u001b[39m\u001b[38;5;124m\"\u001b[39m\u001b[38;5;124mNumber of bank entries fetched: \u001b[39m\u001b[38;5;132;01m{\u001b[39;00m\u001b[38;5;28mlen\u001b[39m(banks_gdf)\u001b[38;5;132;01m}\u001b[39;00m\u001b[38;5;124m\"\u001b[39m)\n\u001b[1;32m      4\u001b[0m banks_gdf\u001b[38;5;241m.\u001b[39mhead(\u001b[38;5;241m3\u001b[39m)\n",
      "\u001b[0;31mNameError\u001b[0m: name 'banks_gdf' is not defined"
     ]
    }
   ],
   "source": [
    "# Display basic info\n",
    "\n",
    "print(f\"Number of bank entries fetched: {len(banks_gdf)}\")\n",
    "banks_gdf.head(3)"
   ]
  },
  {
   "cell_type": "markdown",
   "id": "aaf7c787",
   "metadata": {},
   "source": []
  },
  {
   "cell_type": "markdown",
   "id": "a5260fe5",
   "metadata": {},
   "source": [
    "## 1.2 Modelling & Planning\n",
    "\n",
    "### Selected 23 Key Columns\n",
    "1. osm_id\n",
    "2. name\n",
    "3. brand\n",
    "4. operator\n",
    "5. street\n",
    "6. housenumber\n",
    "7. postcode\n",
    "8. city\n",
    "9. country\n",
    "10. phone\n",
    "11. email\n",
    "12. website\n",
    "13. opening_hours\n",
    "14. atm\n",
    "15. wheelchair\n",
    "16. building\n",
    "17. latitude\n",
    "18. longitude\n",
    "19. geom_type\n",
    "20. geom\n",
    "21. neighbourhood\n",
    "22. district\n",
    "23. source\n",
    "\n",
    "---\n",
    "\n",
    "### How this connects to existing tables:\n",
    "- **Coordinates (latitude, longitude, geom):** link to neighbourhood and district polygons.\n",
    "- **Neighbourhood & district fields:** join with administrative boundaries table.\n",
    "- **Source field:** ensures traceability.\n",
    "\n",
    "---\n",
    "\n",
    "### Planned Schema: `banks_in_berlin`\n",
    "| Column Name     | Data Type | Description | Example |\n",
    "|-----------------|-----------|-------------|---------|\n",
    "| osm_id          | int       | Unique OSM ID | 12345678 |\n",
    "| name            | text      | Bank name | Deutsche Bank |\n",
    "| brand           | text      | Brand name if available | Sparkasse |\n",
    "| operator        | text      | Entity operating the bank | Berliner Volksbank |\n",
    "| street          | text      | Street name | Friedrichstraße |\n",
    "| housenumber     | text      | House number | 45 |\n",
    "| postcode        | text      | Postal code | 10117 |\n",
    "| city            | text      | City name | Berlin |\n",
    "| country         | text      | Country code | DE |\n",
    "| phone           | text      | Contact phone | +49 30 123456 |\n",
    "| email           | text      | Contact email | info@bank.de |\n",
    "| website         | text      | Website URL | www.bank.de |\n",
    "| opening_hours   | text      | Opening hours string | Mo-Fr 09:00-17:00 |\n",
    "| atm             | text      | Presence of ATM | yes |\n",
    "| wheelchair      | text      | Accessibility info | yes |\n",
    "| building        | text      | Building type | yes |\n",
    "| latitude        | float     | Latitude coordinate | 52.5200 |\n",
    "| longitude       | float     | Longitude coordinate | 13.4050 |\n",
    "| geom_type       | text      | Geometry type | Point |\n",
    "| geom            | geometry  | Full geometry | (GeoJSON) |\n",
    "| neighbourhood   | text      | Local neighbourhood name | Mitte |\n",
    "| district        | text      | Berlin district | Mitte |\n",
    "| source          | text      | Data source info | OSM |\n",
    "\n",
    "---\n",
    "\n",
    "### Known Data Issues\n",
    "- Missing contact details for some entries.\n",
    "- Inconsistent postcode and address formats.\n",
    "- Neighbourhood and district not always included in raw OSM data.\n",
    "- Opening hours in non-standard formats.\n",
    "\n",
    "---\n",
    "\n",
    "### Transformation Plan\n",
    "1. Fetch data from OSM with filter `amenity=bank` (Berlin bounding box).\n",
    "2. Clean column names → snake_case.\n",
    "3. Normalize formats (phone, postcode, website URLs).\n",
    "4. Enrich with neighbourhood/district via spatial join.\n",
    "5. Save cleaned dataset (GeoJSON + CSV).\n"
   ]
  },
  {
   "cell_type": "code",
   "execution_count": null,
   "id": "45fa1cc4",
   "metadata": {},
   "outputs": [],
   "source": [
    "# Select 23 Columns & Add Coordinates"
   ]
  },
  {
   "cell_type": "code",
   "execution_count": null,
   "id": "0735a426",
   "metadata": {},
   "outputs": [
    {
     "ename": "NameError",
     "evalue": "name 'banks_gdf' is not defined",
     "output_type": "error",
     "traceback": [
      "\u001b[0;31m---------------------------------------------------------------------------\u001b[0m",
      "\u001b[0;31mNameError\u001b[0m                                 Traceback (most recent call last)",
      "Cell \u001b[0;32mIn[22], line 3\u001b[0m\n\u001b[1;32m      1\u001b[0m \u001b[38;5;66;03m# Ensure geometry type is Point for lat/lon extraction\u001b[39;00m\n\u001b[0;32m----> 3\u001b[0m banks_gdf \u001b[38;5;241m=\u001b[39m banks_gdf\u001b[38;5;241m.\u001b[39mto_crs(epsg\u001b[38;5;241m=\u001b[39m\u001b[38;5;241m4326\u001b[39m)\n",
      "\u001b[0;31mNameError\u001b[0m: name 'banks_gdf' is not defined"
     ]
    }
   ],
   "source": [
    "# Ensure geometry type is Point for lat/lon extraction\n",
    "\n",
    "banks_gdf = banks_gdf.to_crs(epsg=4326)"
   ]
  },
  {
   "cell_type": "code",
   "execution_count": null,
   "id": "f59ea27f",
   "metadata": {},
   "outputs": [],
   "source": [
    "# Extract latitude and longitude\n",
    "\n",
    "banks_gdf[\"latitude\"] = banks_gdf.geometry.y\n",
    "banks_gdf[\"longitude\"] = banks_gdf.geometry.x"
   ]
  },
  {
   "cell_type": "code",
   "execution_count": null,
   "id": "4e3cd0d8",
   "metadata": {},
   "outputs": [],
   "source": [
    "# Select the 23 columns (fill missing with None if not present)\n",
    "\n",
    "selected_columns = [\n",
    "    \"osmid\", \"name\", \"brand\", \"operator\",\n",
    "    \"addr:street\", \"addr:housenumber\", \"addr:postcode\", \"addr:city\", \"addr:country\",\n",
    "    \"phone\", \"email\", \"website\", \"opening_hours\",\n",
    "    \"atm\", \"wheelchair\", \"building\",\n",
    "    \"latitude\", \"longitude\", \"geometry\",\n",
    "    # placeholders for enrichment\n",
    "    \"neighbourhood\", \"district\",\n",
    "    # add source info\n",
    "    \"source\"\n",
    "]"
   ]
  },
  {
   "cell_type": "code",
   "execution_count": null,
   "id": "fa1469f8",
   "metadata": {},
   "outputs": [],
   "source": [
    "# Rename columns to match our schema\n",
    "\n",
    "rename_map = {\n",
    "    \"osmid\": \"osm_id\",\n",
    "    \"addr:street\": \"street\",\n",
    "    \"addr:housenumber\": \"housenumber\",\n",
    "    \"addr:postcode\": \"postcode\",\n",
    "    \"addr:city\": \"city\",\n",
    "    \"addr:country\": \"country\"\n",
    "}"
   ]
  },
  {
   "cell_type": "code",
   "execution_count": null,
   "id": "be0497f6",
   "metadata": {},
   "outputs": [],
   "source": [
    "banks_df = banks_gdf.rename(columns=rename_map)[[col if col in banks_gdf.columns else None for col in rename_map.values()]]"
   ]
  },
  {
   "cell_type": "markdown",
   "id": "cb1b3868",
   "metadata": {},
   "source": []
  },
  {
   "cell_type": "markdown",
   "id": "92394207",
   "metadata": {},
   "source": [
    "## 1.3 Prepare the /sources Directory\n",
    "\n",
    "- **Raw Data Files:**  \n",
    "    - `banks_raw.geojson` (includes geometry)  \n",
    "    - `banks_raw.csv` (tabular only, no geometry)  \n",
    "\n",
    "- **README.md** in `/sources` will contain:\n",
    "    - Data sources used.\n",
    "    - Planned transformation steps.\n"
   ]
  },
  {
   "cell_type": "code",
   "execution_count": null,
   "id": "8c4ac7c5",
   "metadata": {},
   "outputs": [],
   "source": [
    "# Create /sources folder if it doesn't exist\n",
    "\n",
    "os.makedirs(\"sources\", exist_ok=True)"
   ]
  },
  {
   "cell_type": "code",
   "execution_count": null,
   "id": "d7a9c4e4",
   "metadata": {},
   "outputs": [],
   "source": [
    "# Save as GeoJSON (keeps geometry) and CSV\n",
    "\n",
    "raw_geojson_path = \"sources/banks_raw.geojson\"\n",
    "raw_csv_path = \"sources/banks_raw.csv\"\n",
    "\n",
    "\n",
    "banks_gdf.to_file(raw_geojson_path, driver=\"GeoJSON\")\n",
    "banks_gdf.drop(columns=\"geometry\").to_csv(raw_csv_path, index=False)\n",
    "\n",
    "print(f\"Raw data saved to: {raw_geojson_path} and {raw_csv_path}\")"
   ]
  },
  {
   "cell_type": "markdown",
   "id": "3488552c",
   "metadata": {},
   "source": [
    "## 1.4 Review\n",
    "\n",
    "- All 23 target columns defined.\n",
    "- Data sources identified and documented.\n",
    "- Schema draft created.\n",
    "- Data fetched and stored in `/sources`.\n",
    "- Data cleaning & enrichment plan in place.\n",
    "\n",
    "**Next Step:** Step 2 — Fetch & Transform data.\n"
   ]
  },
  {
   "cell_type": "code",
   "execution_count": null,
   "id": "e41fc8ac",
   "metadata": {},
   "outputs": [],
   "source": []
  },
  {
   "cell_type": "markdown",
   "id": "179d36d7",
   "metadata": {},
   "source": []
  }
 ],
 "metadata": {
  "kernelspec": {
   "display_name": "base",
   "language": "python",
   "name": "python3"
  },
  "language_info": {
   "name": "python",
   "version": "3.13.5"
  }
 },
 "nbformat": 4,
 "nbformat_minor": 5
}
