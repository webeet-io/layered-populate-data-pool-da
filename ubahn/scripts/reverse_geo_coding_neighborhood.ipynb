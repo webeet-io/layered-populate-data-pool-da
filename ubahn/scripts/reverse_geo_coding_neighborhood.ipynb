{
 "cells": [
  {
   "cell_type": "code",
   "execution_count": null,
   "id": "9980a81b",
   "metadata": {},
   "outputs": [],
   "source": [
    "import pandas as pd\n",
    "from geopy.geocoders import Nominatim\n",
    "from time import sleep\n",
    "\n",
    "# First, I load the previously enriched dataset that already contains the Stadtteil info\n",
    "df = pd.read_csv(\"ubahn_with_stadtteil.csv\")\n",
    "\n",
    "# Then, I initialize a new Nominatim geocoder instance for retrieving Bezirks\n",
    "geolocator = Nominatim(user_agent=\"berlin_bezirk_locator\")\n",
    "\n",
    "# Now I define a reverse geocoding function to extract the official Berlin district (Bezirk)\n",
    "# I include a 1-second sleep to stay within Nominatim's API rate limit\n",
    "def get_bezirk(lat, lon):\n",
    "    try:\n",
    "        location = geolocator.reverse((lat, lon), exactly_one=True, language='de')\n",
    "        sleep(1)  # to avoid being blocked by the API\n",
    "        if location and \"address\" in location.raw:\n",
    "            address = location.raw[\"address\"]\n",
    "            return (\n",
    "                address.get(\"city_district\") or\n",
    "                address.get(\"borough\") or\n",
    "                address.get(\"county\") or\n",
    "                None\n",
    "            )\n",
    "        return None\n",
    "    except:\n",
    "        return None\n",
    "\n",
    "# I apply this function row by row to create a new column with the Bezirk information\n",
    "df[\"neighborhood\"] = df.apply(\n",
    "    lambda row: get_bezirk(row[\"latitude\"], row[\"longitude\"]) if pd.notnull(row[\"latitude\"]) else None,\n",
    "    axis=1\n",
    ")\n",
    "\n",
    "# Just to be safe, I make sure the postcode stays in a clean numeric format\n",
    "df[\"postcode\"] = pd.to_numeric(df[\"postcode\"], errors=\"coerce\").astype(\"Int64\")\n",
    "\n",
    "# Finally, I save the fully enriched dataset with both Stadtteil and Bezirk columns\n",
    "df.to_csv(\"ubahn_with_neighborhoods.csv\", index=False)"
   ]
  }
 ],
 "metadata": {
  "kernelspec": {
   "display_name": "base",
   "language": "python",
   "name": "python3"
  },
  "language_info": {
   "codemirror_mode": {
    "name": "ipython",
    "version": 3
   },
   "file_extension": ".py",
   "mimetype": "text/x-python",
   "name": "python",
   "nbconvert_exporter": "python",
   "pygments_lexer": "ipython3",
   "version": "3.11.7"
  }
 },
 "nbformat": 4,
 "nbformat_minor": 5
}
