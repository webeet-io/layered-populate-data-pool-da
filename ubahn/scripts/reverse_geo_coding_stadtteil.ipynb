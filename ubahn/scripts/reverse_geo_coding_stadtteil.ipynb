{
 "cells": [
  {
   "cell_type": "code",
   "execution_count": null,
   "id": "f1fe9a9a",
   "metadata": {},
   "outputs": [],
   "source": [
    "import pandas as pd\n",
    "from geopy.geocoders import Nominatim\n",
    "from time import sleep\n",
    "\n",
    "# First, I load the station-line dataset I previously created and cleaned\n",
    "df = pd.read_csv(\"merged_ubahn_line.csv\")\n",
    "\n",
    "# Then I initialize the Nominatim geocoder with a custom user agent to avoid being blocked\n",
    "geolocator = Nominatim(user_agent=\"berlin_ubahn_locator\")\n",
    "\n",
    "# Now I define a reverse geocoding function that retrieves the Stadtteil from latitude and longitude\n",
    "# I include a 1-second delay after each request to comply with Nominatim’s rate limit policy\n",
    "def get_stadtteil(lat, lon):\n",
    "    try:\n",
    "        location = geolocator.reverse((lat, lon), exactly_one=True, language='de')\n",
    "        sleep(1)  # Respect Nominatim API limits\n",
    "        if location and 'suburb' in location.raw['address']:\n",
    "            return location.raw['address']['suburb']\n",
    "        elif location and 'city_district' in location.raw['address']:\n",
    "            return location.raw['address']['city_district']\n",
    "        else:\n",
    "            return None\n",
    "    except:\n",
    "        return None\n",
    "\n",
    "# I now apply this function row by row to extract the Stadtteil for each station\n",
    "df[\"stadtteil\"] = df.apply(\n",
    "    lambda row: get_stadtteil(row[\"latitude\"], row[\"longitude\"]) if pd.notnull(row[\"latitude\"]) else None,\n",
    "    axis=1\n",
    ")\n",
    "\n",
    "# Finally, I save the enriched dataset with the new Stadtteil column\n",
    "df.to_csv(\"ubahn_with_stadtteil.csv\", index=False)"
   ]
  }
 ],
 "metadata": {
  "kernelspec": {
   "display_name": "base",
   "language": "python",
   "name": "python3"
  },
  "language_info": {
   "codemirror_mode": {
    "name": "ipython",
    "version": 3
   },
   "file_extension": ".py",
   "mimetype": "text/x-python",
   "name": "python",
   "nbconvert_exporter": "python",
   "pygments_lexer": "ipython3",
   "version": "3.11.7"
  }
 },
 "nbformat": 4,
 "nbformat_minor": 5
}
